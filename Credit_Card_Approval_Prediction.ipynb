{
 "cells": [
  {
   "cell_type": "markdown",
   "id": "e0181b66",
   "metadata": {},
   "source": [
    "# 1. Importing Libraries"
   ]
  },
  {
   "cell_type": "code",
   "execution_count": 1,
   "id": "fed0d5e5",
   "metadata": {},
   "outputs": [],
   "source": [
    "# Importting all required Libraries\n",
    "\n",
    "import numpy as np\n",
    "import pandas as pd\n",
    "import seaborn as sns\n",
    "import matplotlib.pyplot as plt\n",
    "import warnings\n",
    "warnings.filterwarnings('ignore')\n",
    "import datetime\n",
    "from datetime import timedelta\n",
    "from sklearn.metrics import classification_report\n",
    "from sklearn.metrics import confusion_matrix\n",
    "from sklearn.preprocessing import MinMaxScaler\n",
    "from sklearn.model_selection import train_test_split\n",
    "from sklearn.linear_model import LogisticRegression\n",
    "from sklearn.neighbors import KNeighborsClassifier\n",
    "from sklearn.tree import DecisionTreeClassifier\n",
    "from sklearn.ensemble import RandomForestClassifier\n",
    "from sklearn.metrics import accuracy_score"
   ]
  },
  {
   "cell_type": "markdown",
   "id": "4012ef28",
   "metadata": {},
   "source": [
    "# 2. Reading Data Set"
   ]
  },
  {
   "cell_type": "code",
   "execution_count": 2,
   "id": "db3e7d0f",
   "metadata": {},
   "outputs": [],
   "source": [
    "# Reading First csv containing application records\n",
    "\n",
    "application_record = pd.read_csv(\"application_record.csv\")"
   ]
  },
  {
   "cell_type": "code",
   "execution_count": 3,
   "id": "d8d54a3b",
   "metadata": {
    "scrolled": false
   },
   "outputs": [
    {
     "data": {
      "text/html": [
       "<div>\n",
       "<style scoped>\n",
       "    .dataframe tbody tr th:only-of-type {\n",
       "        vertical-align: middle;\n",
       "    }\n",
       "\n",
       "    .dataframe tbody tr th {\n",
       "        vertical-align: top;\n",
       "    }\n",
       "\n",
       "    .dataframe thead th {\n",
       "        text-align: right;\n",
       "    }\n",
       "</style>\n",
       "<table border=\"1\" class=\"dataframe\">\n",
       "  <thead>\n",
       "    <tr style=\"text-align: right;\">\n",
       "      <th></th>\n",
       "      <th>ID</th>\n",
       "      <th>CODE_GENDER</th>\n",
       "      <th>FLAG_OWN_CAR</th>\n",
       "      <th>FLAG_OWN_REALTY</th>\n",
       "      <th>CNT_CHILDREN</th>\n",
       "      <th>AMT_INCOME_TOTAL</th>\n",
       "      <th>NAME_INCOME_TYPE</th>\n",
       "      <th>NAME_EDUCATION_TYPE</th>\n",
       "      <th>NAME_FAMILY_STATUS</th>\n",
       "      <th>NAME_HOUSING_TYPE</th>\n",
       "      <th>DAYS_BIRTH</th>\n",
       "      <th>DAYS_EMPLOYED</th>\n",
       "      <th>FLAG_MOBIL</th>\n",
       "      <th>FLAG_WORK_PHONE</th>\n",
       "      <th>FLAG_PHONE</th>\n",
       "      <th>FLAG_EMAIL</th>\n",
       "      <th>OCCUPATION_TYPE</th>\n",
       "      <th>CNT_FAM_MEMBERS</th>\n",
       "    </tr>\n",
       "  </thead>\n",
       "  <tbody>\n",
       "    <tr>\n",
       "      <th>0</th>\n",
       "      <td>5008804</td>\n",
       "      <td>M</td>\n",
       "      <td>Y</td>\n",
       "      <td>Y</td>\n",
       "      <td>0</td>\n",
       "      <td>427500.0</td>\n",
       "      <td>Working</td>\n",
       "      <td>Higher education</td>\n",
       "      <td>Civil marriage</td>\n",
       "      <td>Rented apartment</td>\n",
       "      <td>-12005</td>\n",
       "      <td>-4542</td>\n",
       "      <td>1</td>\n",
       "      <td>1</td>\n",
       "      <td>0</td>\n",
       "      <td>0</td>\n",
       "      <td>NaN</td>\n",
       "      <td>2.0</td>\n",
       "    </tr>\n",
       "    <tr>\n",
       "      <th>1</th>\n",
       "      <td>5008805</td>\n",
       "      <td>M</td>\n",
       "      <td>Y</td>\n",
       "      <td>Y</td>\n",
       "      <td>0</td>\n",
       "      <td>427500.0</td>\n",
       "      <td>Working</td>\n",
       "      <td>Higher education</td>\n",
       "      <td>Civil marriage</td>\n",
       "      <td>Rented apartment</td>\n",
       "      <td>-12005</td>\n",
       "      <td>-4542</td>\n",
       "      <td>1</td>\n",
       "      <td>1</td>\n",
       "      <td>0</td>\n",
       "      <td>0</td>\n",
       "      <td>NaN</td>\n",
       "      <td>2.0</td>\n",
       "    </tr>\n",
       "    <tr>\n",
       "      <th>2</th>\n",
       "      <td>5008806</td>\n",
       "      <td>M</td>\n",
       "      <td>Y</td>\n",
       "      <td>Y</td>\n",
       "      <td>0</td>\n",
       "      <td>112500.0</td>\n",
       "      <td>Working</td>\n",
       "      <td>Secondary / secondary special</td>\n",
       "      <td>Married</td>\n",
       "      <td>House / apartment</td>\n",
       "      <td>-21474</td>\n",
       "      <td>-1134</td>\n",
       "      <td>1</td>\n",
       "      <td>0</td>\n",
       "      <td>0</td>\n",
       "      <td>0</td>\n",
       "      <td>Security staff</td>\n",
       "      <td>2.0</td>\n",
       "    </tr>\n",
       "    <tr>\n",
       "      <th>3</th>\n",
       "      <td>5008808</td>\n",
       "      <td>F</td>\n",
       "      <td>N</td>\n",
       "      <td>Y</td>\n",
       "      <td>0</td>\n",
       "      <td>270000.0</td>\n",
       "      <td>Commercial associate</td>\n",
       "      <td>Secondary / secondary special</td>\n",
       "      <td>Single / not married</td>\n",
       "      <td>House / apartment</td>\n",
       "      <td>-19110</td>\n",
       "      <td>-3051</td>\n",
       "      <td>1</td>\n",
       "      <td>0</td>\n",
       "      <td>1</td>\n",
       "      <td>1</td>\n",
       "      <td>Sales staff</td>\n",
       "      <td>1.0</td>\n",
       "    </tr>\n",
       "    <tr>\n",
       "      <th>4</th>\n",
       "      <td>5008809</td>\n",
       "      <td>F</td>\n",
       "      <td>N</td>\n",
       "      <td>Y</td>\n",
       "      <td>0</td>\n",
       "      <td>270000.0</td>\n",
       "      <td>Commercial associate</td>\n",
       "      <td>Secondary / secondary special</td>\n",
       "      <td>Single / not married</td>\n",
       "      <td>House / apartment</td>\n",
       "      <td>-19110</td>\n",
       "      <td>-3051</td>\n",
       "      <td>1</td>\n",
       "      <td>0</td>\n",
       "      <td>1</td>\n",
       "      <td>1</td>\n",
       "      <td>Sales staff</td>\n",
       "      <td>1.0</td>\n",
       "    </tr>\n",
       "  </tbody>\n",
       "</table>\n",
       "</div>"
      ],
      "text/plain": [
       "        ID CODE_GENDER FLAG_OWN_CAR FLAG_OWN_REALTY  CNT_CHILDREN  \\\n",
       "0  5008804           M            Y               Y             0   \n",
       "1  5008805           M            Y               Y             0   \n",
       "2  5008806           M            Y               Y             0   \n",
       "3  5008808           F            N               Y             0   \n",
       "4  5008809           F            N               Y             0   \n",
       "\n",
       "   AMT_INCOME_TOTAL      NAME_INCOME_TYPE            NAME_EDUCATION_TYPE  \\\n",
       "0          427500.0               Working               Higher education   \n",
       "1          427500.0               Working               Higher education   \n",
       "2          112500.0               Working  Secondary / secondary special   \n",
       "3          270000.0  Commercial associate  Secondary / secondary special   \n",
       "4          270000.0  Commercial associate  Secondary / secondary special   \n",
       "\n",
       "     NAME_FAMILY_STATUS  NAME_HOUSING_TYPE  DAYS_BIRTH  DAYS_EMPLOYED  \\\n",
       "0        Civil marriage   Rented apartment      -12005          -4542   \n",
       "1        Civil marriage   Rented apartment      -12005          -4542   \n",
       "2               Married  House / apartment      -21474          -1134   \n",
       "3  Single / not married  House / apartment      -19110          -3051   \n",
       "4  Single / not married  House / apartment      -19110          -3051   \n",
       "\n",
       "   FLAG_MOBIL  FLAG_WORK_PHONE  FLAG_PHONE  FLAG_EMAIL OCCUPATION_TYPE  \\\n",
       "0           1                1           0           0             NaN   \n",
       "1           1                1           0           0             NaN   \n",
       "2           1                0           0           0  Security staff   \n",
       "3           1                0           1           1     Sales staff   \n",
       "4           1                0           1           1     Sales staff   \n",
       "\n",
       "   CNT_FAM_MEMBERS  \n",
       "0              2.0  \n",
       "1              2.0  \n",
       "2              2.0  \n",
       "3              1.0  \n",
       "4              1.0  "
      ]
     },
     "execution_count": 3,
     "metadata": {},
     "output_type": "execute_result"
    }
   ],
   "source": [
    "application_record.head()"
   ]
  },
  {
   "cell_type": "code",
   "execution_count": 4,
   "id": "e9222b71",
   "metadata": {},
   "outputs": [
    {
     "data": {
      "text/plain": [
       "(438557, 18)"
      ]
     },
     "execution_count": 4,
     "metadata": {},
     "output_type": "execute_result"
    }
   ],
   "source": [
    "application_record.shape"
   ]
  },
  {
   "cell_type": "code",
   "execution_count": 5,
   "id": "df637fff",
   "metadata": {},
   "outputs": [
    {
     "name": "stdout",
     "output_type": "stream",
     "text": [
      "<class 'pandas.core.frame.DataFrame'>\n",
      "RangeIndex: 438557 entries, 0 to 438556\n",
      "Data columns (total 18 columns):\n",
      " #   Column               Non-Null Count   Dtype  \n",
      "---  ------               --------------   -----  \n",
      " 0   ID                   438557 non-null  int64  \n",
      " 1   CODE_GENDER          438557 non-null  object \n",
      " 2   FLAG_OWN_CAR         438557 non-null  object \n",
      " 3   FLAG_OWN_REALTY      438557 non-null  object \n",
      " 4   CNT_CHILDREN         438557 non-null  int64  \n",
      " 5   AMT_INCOME_TOTAL     438557 non-null  float64\n",
      " 6   NAME_INCOME_TYPE     438557 non-null  object \n",
      " 7   NAME_EDUCATION_TYPE  438557 non-null  object \n",
      " 8   NAME_FAMILY_STATUS   438557 non-null  object \n",
      " 9   NAME_HOUSING_TYPE    438557 non-null  object \n",
      " 10  DAYS_BIRTH           438557 non-null  int64  \n",
      " 11  DAYS_EMPLOYED        438557 non-null  int64  \n",
      " 12  FLAG_MOBIL           438557 non-null  int64  \n",
      " 13  FLAG_WORK_PHONE      438557 non-null  int64  \n",
      " 14  FLAG_PHONE           438557 non-null  int64  \n",
      " 15  FLAG_EMAIL           438557 non-null  int64  \n",
      " 16  OCCUPATION_TYPE      304354 non-null  object \n",
      " 17  CNT_FAM_MEMBERS      438557 non-null  float64\n",
      "dtypes: float64(2), int64(8), object(8)\n",
      "memory usage: 60.2+ MB\n"
     ]
    }
   ],
   "source": [
    "application_record.info()"
   ]
  },
  {
   "cell_type": "code",
   "execution_count": 6,
   "id": "997f39ef",
   "metadata": {},
   "outputs": [],
   "source": [
    "# Reading Second csv containing credit records\n",
    "\n",
    "credit_record = pd.read_csv(\"credit_record.csv\")"
   ]
  },
  {
   "cell_type": "code",
   "execution_count": 7,
   "id": "7c2414f2",
   "metadata": {},
   "outputs": [
    {
     "data": {
      "text/html": [
       "<div>\n",
       "<style scoped>\n",
       "    .dataframe tbody tr th:only-of-type {\n",
       "        vertical-align: middle;\n",
       "    }\n",
       "\n",
       "    .dataframe tbody tr th {\n",
       "        vertical-align: top;\n",
       "    }\n",
       "\n",
       "    .dataframe thead th {\n",
       "        text-align: right;\n",
       "    }\n",
       "</style>\n",
       "<table border=\"1\" class=\"dataframe\">\n",
       "  <thead>\n",
       "    <tr style=\"text-align: right;\">\n",
       "      <th></th>\n",
       "      <th>ID</th>\n",
       "      <th>MONTHS_BALANCE</th>\n",
       "      <th>STATUS</th>\n",
       "    </tr>\n",
       "  </thead>\n",
       "  <tbody>\n",
       "    <tr>\n",
       "      <th>0</th>\n",
       "      <td>5001711</td>\n",
       "      <td>0</td>\n",
       "      <td>X</td>\n",
       "    </tr>\n",
       "    <tr>\n",
       "      <th>1</th>\n",
       "      <td>5001711</td>\n",
       "      <td>-1</td>\n",
       "      <td>0</td>\n",
       "    </tr>\n",
       "    <tr>\n",
       "      <th>2</th>\n",
       "      <td>5001711</td>\n",
       "      <td>-2</td>\n",
       "      <td>0</td>\n",
       "    </tr>\n",
       "    <tr>\n",
       "      <th>3</th>\n",
       "      <td>5001711</td>\n",
       "      <td>-3</td>\n",
       "      <td>0</td>\n",
       "    </tr>\n",
       "    <tr>\n",
       "      <th>4</th>\n",
       "      <td>5001712</td>\n",
       "      <td>0</td>\n",
       "      <td>C</td>\n",
       "    </tr>\n",
       "  </tbody>\n",
       "</table>\n",
       "</div>"
      ],
      "text/plain": [
       "        ID  MONTHS_BALANCE STATUS\n",
       "0  5001711               0      X\n",
       "1  5001711              -1      0\n",
       "2  5001711              -2      0\n",
       "3  5001711              -3      0\n",
       "4  5001712               0      C"
      ]
     },
     "execution_count": 7,
     "metadata": {},
     "output_type": "execute_result"
    }
   ],
   "source": [
    "credit_record.head()"
   ]
  },
  {
   "cell_type": "code",
   "execution_count": 8,
   "id": "2b5e025f",
   "metadata": {},
   "outputs": [
    {
     "data": {
      "text/plain": [
       "(1048575, 3)"
      ]
     },
     "execution_count": 8,
     "metadata": {},
     "output_type": "execute_result"
    }
   ],
   "source": [
    "credit_record.shape"
   ]
  },
  {
   "cell_type": "code",
   "execution_count": 9,
   "id": "5b24133c",
   "metadata": {
    "scrolled": true
   },
   "outputs": [
    {
     "name": "stdout",
     "output_type": "stream",
     "text": [
      "<class 'pandas.core.frame.DataFrame'>\n",
      "RangeIndex: 1048575 entries, 0 to 1048574\n",
      "Data columns (total 3 columns):\n",
      " #   Column          Non-Null Count    Dtype \n",
      "---  ------          --------------    ----- \n",
      " 0   ID              1048575 non-null  int64 \n",
      " 1   MONTHS_BALANCE  1048575 non-null  int64 \n",
      " 2   STATUS          1048575 non-null  object\n",
      "dtypes: int64(2), object(1)\n",
      "memory usage: 24.0+ MB\n"
     ]
    }
   ],
   "source": [
    "credit_record.info()"
   ]
  },
  {
   "cell_type": "code",
   "execution_count": 10,
   "id": "65b3c5f9",
   "metadata": {},
   "outputs": [],
   "source": [
    "# Merging application records and application records into one data frame\n",
    "\n",
    "data = application_record.merge(credit_record,how = 'inner',on = ['ID'])"
   ]
  },
  {
   "cell_type": "code",
   "execution_count": 11,
   "id": "caeadd63",
   "metadata": {},
   "outputs": [
    {
     "data": {
      "text/html": [
       "<div>\n",
       "<style scoped>\n",
       "    .dataframe tbody tr th:only-of-type {\n",
       "        vertical-align: middle;\n",
       "    }\n",
       "\n",
       "    .dataframe tbody tr th {\n",
       "        vertical-align: top;\n",
       "    }\n",
       "\n",
       "    .dataframe thead th {\n",
       "        text-align: right;\n",
       "    }\n",
       "</style>\n",
       "<table border=\"1\" class=\"dataframe\">\n",
       "  <thead>\n",
       "    <tr style=\"text-align: right;\">\n",
       "      <th></th>\n",
       "      <th>ID</th>\n",
       "      <th>CODE_GENDER</th>\n",
       "      <th>FLAG_OWN_CAR</th>\n",
       "      <th>FLAG_OWN_REALTY</th>\n",
       "      <th>CNT_CHILDREN</th>\n",
       "      <th>AMT_INCOME_TOTAL</th>\n",
       "      <th>NAME_INCOME_TYPE</th>\n",
       "      <th>NAME_EDUCATION_TYPE</th>\n",
       "      <th>NAME_FAMILY_STATUS</th>\n",
       "      <th>NAME_HOUSING_TYPE</th>\n",
       "      <th>DAYS_BIRTH</th>\n",
       "      <th>DAYS_EMPLOYED</th>\n",
       "      <th>FLAG_MOBIL</th>\n",
       "      <th>FLAG_WORK_PHONE</th>\n",
       "      <th>FLAG_PHONE</th>\n",
       "      <th>FLAG_EMAIL</th>\n",
       "      <th>OCCUPATION_TYPE</th>\n",
       "      <th>CNT_FAM_MEMBERS</th>\n",
       "      <th>MONTHS_BALANCE</th>\n",
       "      <th>STATUS</th>\n",
       "    </tr>\n",
       "  </thead>\n",
       "  <tbody>\n",
       "    <tr>\n",
       "      <th>0</th>\n",
       "      <td>5008804</td>\n",
       "      <td>M</td>\n",
       "      <td>Y</td>\n",
       "      <td>Y</td>\n",
       "      <td>0</td>\n",
       "      <td>427500.0</td>\n",
       "      <td>Working</td>\n",
       "      <td>Higher education</td>\n",
       "      <td>Civil marriage</td>\n",
       "      <td>Rented apartment</td>\n",
       "      <td>-12005</td>\n",
       "      <td>-4542</td>\n",
       "      <td>1</td>\n",
       "      <td>1</td>\n",
       "      <td>0</td>\n",
       "      <td>0</td>\n",
       "      <td>NaN</td>\n",
       "      <td>2.0</td>\n",
       "      <td>0</td>\n",
       "      <td>C</td>\n",
       "    </tr>\n",
       "    <tr>\n",
       "      <th>1</th>\n",
       "      <td>5008804</td>\n",
       "      <td>M</td>\n",
       "      <td>Y</td>\n",
       "      <td>Y</td>\n",
       "      <td>0</td>\n",
       "      <td>427500.0</td>\n",
       "      <td>Working</td>\n",
       "      <td>Higher education</td>\n",
       "      <td>Civil marriage</td>\n",
       "      <td>Rented apartment</td>\n",
       "      <td>-12005</td>\n",
       "      <td>-4542</td>\n",
       "      <td>1</td>\n",
       "      <td>1</td>\n",
       "      <td>0</td>\n",
       "      <td>0</td>\n",
       "      <td>NaN</td>\n",
       "      <td>2.0</td>\n",
       "      <td>-1</td>\n",
       "      <td>C</td>\n",
       "    </tr>\n",
       "    <tr>\n",
       "      <th>2</th>\n",
       "      <td>5008804</td>\n",
       "      <td>M</td>\n",
       "      <td>Y</td>\n",
       "      <td>Y</td>\n",
       "      <td>0</td>\n",
       "      <td>427500.0</td>\n",
       "      <td>Working</td>\n",
       "      <td>Higher education</td>\n",
       "      <td>Civil marriage</td>\n",
       "      <td>Rented apartment</td>\n",
       "      <td>-12005</td>\n",
       "      <td>-4542</td>\n",
       "      <td>1</td>\n",
       "      <td>1</td>\n",
       "      <td>0</td>\n",
       "      <td>0</td>\n",
       "      <td>NaN</td>\n",
       "      <td>2.0</td>\n",
       "      <td>-2</td>\n",
       "      <td>C</td>\n",
       "    </tr>\n",
       "    <tr>\n",
       "      <th>3</th>\n",
       "      <td>5008804</td>\n",
       "      <td>M</td>\n",
       "      <td>Y</td>\n",
       "      <td>Y</td>\n",
       "      <td>0</td>\n",
       "      <td>427500.0</td>\n",
       "      <td>Working</td>\n",
       "      <td>Higher education</td>\n",
       "      <td>Civil marriage</td>\n",
       "      <td>Rented apartment</td>\n",
       "      <td>-12005</td>\n",
       "      <td>-4542</td>\n",
       "      <td>1</td>\n",
       "      <td>1</td>\n",
       "      <td>0</td>\n",
       "      <td>0</td>\n",
       "      <td>NaN</td>\n",
       "      <td>2.0</td>\n",
       "      <td>-3</td>\n",
       "      <td>C</td>\n",
       "    </tr>\n",
       "    <tr>\n",
       "      <th>4</th>\n",
       "      <td>5008804</td>\n",
       "      <td>M</td>\n",
       "      <td>Y</td>\n",
       "      <td>Y</td>\n",
       "      <td>0</td>\n",
       "      <td>427500.0</td>\n",
       "      <td>Working</td>\n",
       "      <td>Higher education</td>\n",
       "      <td>Civil marriage</td>\n",
       "      <td>Rented apartment</td>\n",
       "      <td>-12005</td>\n",
       "      <td>-4542</td>\n",
       "      <td>1</td>\n",
       "      <td>1</td>\n",
       "      <td>0</td>\n",
       "      <td>0</td>\n",
       "      <td>NaN</td>\n",
       "      <td>2.0</td>\n",
       "      <td>-4</td>\n",
       "      <td>C</td>\n",
       "    </tr>\n",
       "  </tbody>\n",
       "</table>\n",
       "</div>"
      ],
      "text/plain": [
       "        ID CODE_GENDER FLAG_OWN_CAR FLAG_OWN_REALTY  CNT_CHILDREN  \\\n",
       "0  5008804           M            Y               Y             0   \n",
       "1  5008804           M            Y               Y             0   \n",
       "2  5008804           M            Y               Y             0   \n",
       "3  5008804           M            Y               Y             0   \n",
       "4  5008804           M            Y               Y             0   \n",
       "\n",
       "   AMT_INCOME_TOTAL NAME_INCOME_TYPE NAME_EDUCATION_TYPE NAME_FAMILY_STATUS  \\\n",
       "0          427500.0          Working    Higher education     Civil marriage   \n",
       "1          427500.0          Working    Higher education     Civil marriage   \n",
       "2          427500.0          Working    Higher education     Civil marriage   \n",
       "3          427500.0          Working    Higher education     Civil marriage   \n",
       "4          427500.0          Working    Higher education     Civil marriage   \n",
       "\n",
       "  NAME_HOUSING_TYPE  DAYS_BIRTH  DAYS_EMPLOYED  FLAG_MOBIL  FLAG_WORK_PHONE  \\\n",
       "0  Rented apartment      -12005          -4542           1                1   \n",
       "1  Rented apartment      -12005          -4542           1                1   \n",
       "2  Rented apartment      -12005          -4542           1                1   \n",
       "3  Rented apartment      -12005          -4542           1                1   \n",
       "4  Rented apartment      -12005          -4542           1                1   \n",
       "\n",
       "   FLAG_PHONE  FLAG_EMAIL OCCUPATION_TYPE  CNT_FAM_MEMBERS  MONTHS_BALANCE  \\\n",
       "0           0           0             NaN              2.0               0   \n",
       "1           0           0             NaN              2.0              -1   \n",
       "2           0           0             NaN              2.0              -2   \n",
       "3           0           0             NaN              2.0              -3   \n",
       "4           0           0             NaN              2.0              -4   \n",
       "\n",
       "  STATUS  \n",
       "0      C  \n",
       "1      C  \n",
       "2      C  \n",
       "3      C  \n",
       "4      C  "
      ]
     },
     "execution_count": 11,
     "metadata": {},
     "output_type": "execute_result"
    }
   ],
   "source": [
    "data.head()"
   ]
  },
  {
   "cell_type": "code",
   "execution_count": 12,
   "id": "4f2eae36",
   "metadata": {},
   "outputs": [
    {
     "data": {
      "text/plain": [
       "(777715, 20)"
      ]
     },
     "execution_count": 12,
     "metadata": {},
     "output_type": "execute_result"
    }
   ],
   "source": [
    "data.shape"
   ]
  },
  {
   "cell_type": "code",
   "execution_count": 13,
   "id": "3e69ba8c",
   "metadata": {
    "scrolled": false
   },
   "outputs": [
    {
     "name": "stdout",
     "output_type": "stream",
     "text": [
      "<class 'pandas.core.frame.DataFrame'>\n",
      "Int64Index: 777715 entries, 0 to 777714\n",
      "Data columns (total 20 columns):\n",
      " #   Column               Non-Null Count   Dtype  \n",
      "---  ------               --------------   -----  \n",
      " 0   ID                   777715 non-null  int64  \n",
      " 1   CODE_GENDER          777715 non-null  object \n",
      " 2   FLAG_OWN_CAR         777715 non-null  object \n",
      " 3   FLAG_OWN_REALTY      777715 non-null  object \n",
      " 4   CNT_CHILDREN         777715 non-null  int64  \n",
      " 5   AMT_INCOME_TOTAL     777715 non-null  float64\n",
      " 6   NAME_INCOME_TYPE     777715 non-null  object \n",
      " 7   NAME_EDUCATION_TYPE  777715 non-null  object \n",
      " 8   NAME_FAMILY_STATUS   777715 non-null  object \n",
      " 9   NAME_HOUSING_TYPE    777715 non-null  object \n",
      " 10  DAYS_BIRTH           777715 non-null  int64  \n",
      " 11  DAYS_EMPLOYED        777715 non-null  int64  \n",
      " 12  FLAG_MOBIL           777715 non-null  int64  \n",
      " 13  FLAG_WORK_PHONE      777715 non-null  int64  \n",
      " 14  FLAG_PHONE           777715 non-null  int64  \n",
      " 15  FLAG_EMAIL           777715 non-null  int64  \n",
      " 16  OCCUPATION_TYPE      537667 non-null  object \n",
      " 17  CNT_FAM_MEMBERS      777715 non-null  float64\n",
      " 18  MONTHS_BALANCE       777715 non-null  int64  \n",
      " 19  STATUS               777715 non-null  object \n",
      "dtypes: float64(2), int64(9), object(9)\n",
      "memory usage: 124.6+ MB\n"
     ]
    }
   ],
   "source": [
    "data.info()"
   ]
  },
  {
   "cell_type": "markdown",
   "id": "abf23600",
   "metadata": {},
   "source": [
    "# 3. Data Exploration"
   ]
  },
  {
   "cell_type": "code",
   "execution_count": 14,
   "id": "0e2eeb27",
   "metadata": {},
   "outputs": [
    {
     "name": "stdout",
     "output_type": "stream",
     "text": [
      "There are 9 categorical variables in Data \n",
      "\n",
      "Categorical Variables are : ['CODE_GENDER', 'FLAG_OWN_CAR', 'FLAG_OWN_REALTY', 'NAME_INCOME_TYPE', 'NAME_EDUCATION_TYPE', 'NAME_FAMILY_STATUS', 'NAME_HOUSING_TYPE', 'OCCUPATION_TYPE', 'STATUS']\n"
     ]
    }
   ],
   "source": [
    "# Checking categorical variables in the dataframe\n",
    "\n",
    "data_cat = [var for var in data.columns if data[var].dtype == 'O']\n",
    "print('There are {} categorical variables in Data \\n'.format(len(data_cat)))\n",
    "print('Categorical Variables are :', data_cat)"
   ]
  },
  {
   "cell_type": "code",
   "execution_count": 15,
   "id": "4d9b256b",
   "metadata": {},
   "outputs": [
    {
     "name": "stdout",
     "output_type": "stream",
     "text": [
      "There are 11 categorical variables in Data \n",
      "\n",
      "Categorical Variables are : ['ID', 'CNT_CHILDREN', 'AMT_INCOME_TOTAL', 'DAYS_BIRTH', 'DAYS_EMPLOYED', 'FLAG_MOBIL', 'FLAG_WORK_PHONE', 'FLAG_PHONE', 'FLAG_EMAIL', 'CNT_FAM_MEMBERS', 'MONTHS_BALANCE']\n"
     ]
    }
   ],
   "source": [
    "# Checking numerical variables in the dataframe\n",
    "\n",
    "data_num = [var for var in data.columns if data[var].dtype != 'O']\n",
    "print('There are {} categorical variables in Data \\n'.format(len(data_num)))\n",
    "print('Categorical Variables are :', data_num)"
   ]
  },
  {
   "cell_type": "code",
   "execution_count": 16,
   "id": "a465fe63",
   "metadata": {},
   "outputs": [
    {
     "name": "stdout",
     "output_type": "stream",
     "text": [
      "The total number of Columns in Data are : 20\n"
     ]
    }
   ],
   "source": [
    "# Total number of columns\n",
    "\n",
    "print(\"The total number of Columns in Data are :\", len(data.columns))"
   ]
  },
  {
   "cell_type": "markdown",
   "id": "85d8f2be",
   "metadata": {},
   "source": [
    "## 3.1 Univariate Analysis"
   ]
  },
  {
   "cell_type": "markdown",
   "id": "0e8abeb5",
   "metadata": {},
   "source": [
    "### 3.1.1 Categorical Variables in Data"
   ]
  },
  {
   "cell_type": "markdown",
   "id": "ed28f6a8",
   "metadata": {},
   "source": [
    "#### 3.1.1.1 CODE_GENDER"
   ]
  },
  {
   "cell_type": "code",
   "execution_count": 17,
   "id": "b72d5999",
   "metadata": {},
   "outputs": [
    {
     "name": "stdout",
     "output_type": "stream",
     "text": [
      "Null Value in Gender : 0\n",
      "Number of Unique Values in Gender : 2\n"
     ]
    }
   ],
   "source": [
    "# Number of null values and unique values in Gender\n",
    "\n",
    "print(\"Null Value in Gender :\", data['CODE_GENDER'].isnull().sum())\n",
    "print(\"Number of Unique Values in Gender :\", data['CODE_GENDER'].nunique())"
   ]
  },
  {
   "cell_type": "code",
   "execution_count": 18,
   "id": "176caec8",
   "metadata": {},
   "outputs": [
    {
     "data": {
      "text/plain": [
       "array(['M', 'F'], dtype=object)"
      ]
     },
     "execution_count": 18,
     "metadata": {},
     "output_type": "execute_result"
    }
   ],
   "source": [
    "data['CODE_GENDER'].unique()"
   ]
  },
  {
   "cell_type": "code",
   "execution_count": 19,
   "id": "e8f4ce56",
   "metadata": {
    "scrolled": true
   },
   "outputs": [
    {
     "name": "stdout",
     "output_type": "stream",
     "text": [
      "Number of Male and Females in Gender are :\n",
      " F    518851\n",
      "M    258864\n",
      "Name: CODE_GENDER, dtype: int64\n"
     ]
    }
   ],
   "source": [
    "print(\"Number of Male and Females in Gender are :\\n\", data['CODE_GENDER'].value_counts())"
   ]
  },
  {
   "cell_type": "code",
   "execution_count": 20,
   "id": "cd2ae62a",
   "metadata": {},
   "outputs": [
    {
     "name": "stdout",
     "output_type": "stream",
     "text": [
      "Percentage of Male applicant: 33.29%\n",
      "Percentage of Female applicant: 66.71%\n",
      "Missing values percentage: 0.00%\n"
     ]
    }
   ],
   "source": [
    "# Percentage of Males and Females in Gender\n",
    "\n",
    "countMale = len(data[data.CODE_GENDER == 'M'])\n",
    "countFemale = len(data[data.CODE_GENDER == 'F'])\n",
    "countNull = len(data[data.CODE_GENDER.isnull()])\n",
    "\n",
    "print(\"Percentage of Male applicant: {:.2f}%\".format((countMale / (len(data.CODE_GENDER)))*100))\n",
    "print(\"Percentage of Female applicant: {:.2f}%\".format((countFemale / (len(data.CODE_GENDER)))*100))\n",
    "print(\"Missing values percentage: {:.2f}%\".format((countNull / (len(data.CODE_GENDER)))*100))"
   ]
  },
  {
   "cell_type": "code",
   "execution_count": 21,
   "id": "0fb7229f",
   "metadata": {
    "scrolled": false
   },
   "outputs": [
    {
     "data": {
      "image/png": "[encoded data removed]",
      "text/plain": [
       "<Figure size 432x288 with 1 Axes>"
      ]
     },
     "metadata": {
      "needs_background": "light"
     },
     "output_type": "display_data"
    }
   ],
   "source": [
    "# Plotting count of Males and Females\n",
    "\n",
    "sns.countplot(x = \"CODE_GENDER\", data = data, palette = \"hls\")\n",
    "plt.show()"
   ]
  },
  {
   "cell_type": "markdown",
   "id": "7560112a",
   "metadata": {},
   "source": [
    "#### 3.1.1.2 FLAG_OWN_CAR"
   ]
  },
  {
   "cell_type": "code",
   "execution_count": 22,
   "id": "c2e817e6",
   "metadata": {
    "scrolled": true
   },
   "outputs": [
    {
     "name": "stdout",
     "output_type": "stream",
     "text": [
      "Null Value in FLAG_OWN_CAR : 0\n",
      "Number of Unique Values in FLAG_OWN_CAR : 2\n"
     ]
    }
   ],
   "source": [
    "# Number of null values and unique values in FLAG_OWN_CAR\n",
    "\n",
    "print(\"Null Value in FLAG_OWN_CAR :\", data['FLAG_OWN_CAR'].isnull().sum())\n",
    "print(\"Number of Unique Values in FLAG_OWN_CAR :\", data['FLAG_OWN_CAR'].nunique())"
   ]
  },
  {
   "cell_type": "code",
   "execution_count": 23,
   "id": "e399e5c7",
   "metadata": {},
   "outputs": [
    {
     "data": {
      "text/plain": [
       "array(['Y', 'N'], dtype=object)"
      ]
     },
     "execution_count": 23,
     "metadata": {},
     "output_type": "execute_result"
    }
   ],
   "source": [
    "data['FLAG_OWN_CAR'].unique()"
   ]
  },
  {
   "cell_type": "code",
   "execution_count": 24,
   "id": "8a892e99",
   "metadata": {},
   "outputs": [
    {
     "name": "stdout",
     "output_type": "stream",
     "text": [
      "Number of Yes and No in FLAG_OWN_CAR are :\n",
      " N    473355\n",
      "Y    304360\n",
      "Name: FLAG_OWN_CAR, dtype: int64\n"
     ]
    }
   ],
   "source": [
    "print(\"Number of Yes and No in FLAG_OWN_CAR are :\\n\", data['FLAG_OWN_CAR'].value_counts())"
   ]
  },
  {
   "cell_type": "code",
   "execution_count": 25,
   "id": "a3943ce6",
   "metadata": {},
   "outputs": [
    {
     "name": "stdout",
     "output_type": "stream",
     "text": [
      "Percentage of Yes: 39.14%\n",
      "Percentage of No: 60.86%\n",
      "Missing values percentage: 0.00%\n"
     ]
    }
   ],
   "source": [
    "# Percentage of Yes and No in FLAG_OWN_CAR\n",
    "\n",
    "countYesCar = len(data[data.FLAG_OWN_CAR == 'Y'])\n",
    "countNoCar = len(data[data.FLAG_OWN_CAR == 'N'])\n",
    "countNull = len(data[data.FLAG_OWN_CAR.isnull()])\n",
    "\n",
    "print(\"Percentage of Yes: {:.2f}%\".format((countYesCar / (len(data.FLAG_OWN_CAR)))*100))\n",
    "print(\"Percentage of No: {:.2f}%\".format((countNoCar/ (len(data.FLAG_OWN_CAR)))*100))\n",
    "print(\"Missing values percentage: {:.2f}%\".format((countNull / (len(data.FLAG_OWN_CAR)))*100))"
   ]
  },
  {
   "cell_type": "code",
   "execution_count": 26,
   "id": "b4c82678",
   "metadata": {},
   "outputs": [
    {
     "data": {
      "image/png": "[encoded data removed]",
      "text/plain": [
       "<Figure size 432x288 with 1 Axes>"
      ]
     },
     "metadata": {
      "needs_background": "light"
     },
     "output_type": "display_data"
    }
   ],
   "source": [
    "# Plotting count of Yes and No in FLAG_OWN_CAR\n",
    "\n",
    "sns.countplot(x = \"FLAG_OWN_CAR\", data = data, palette = \"hls\")\n",
    "plt.show()"
   ]
  },
  {
   "cell_type": "markdown",
   "id": "2b3b9bbf",
   "metadata": {},
   "source": [
    "#### 3.1.1.3 FLAG_OWN_REALTY"
   ]
  },
  {
   "cell_type": "code",
   "execution_count": 27,
   "id": "cc360ea9",
   "metadata": {
    "scrolled": true
   },
   "outputs": [
    {
     "name": "stdout",
     "output_type": "stream",
     "text": [
      "Null Value in FLAG_OWN_REALTY : 0\n",
      "Number of Unique Values in FLAG_OWN_REALTY : 2\n"
     ]
    }
   ],
   "source": [
    "# Number of null values and unique values in FLAG_OWN_REALTY\n",
    "\n",
    "print(\"Null Value in FLAG_OWN_REALTY :\", data['FLAG_OWN_REALTY'].isnull().sum())\n",
    "print(\"Number of Unique Values in FLAG_OWN_REALTY :\", data['FLAG_OWN_REALTY'].nunique())"
   ]
  },
  {
   "cell_type": "code",
   "execution_count": 28,
   "id": "53725c1d",
   "metadata": {},
   "outputs": [
    {
     "data": {
      "text/plain": [
       "array(['Y', 'N'], dtype=object)"
      ]
     },
     "execution_count": 28,
     "metadata": {},
     "output_type": "execute_result"
    }
   ],
   "source": [
    "data['FLAG_OWN_REALTY'].unique()"
   ]
  },
  {
   "cell_type": "code",
   "execution_count": 29,
   "id": "8be1df34",
   "metadata": {},
   "outputs": [
    {
     "name": "stdout",
     "output_type": "stream",
     "text": [
      "Number of Yes and No in FLAG_OWN_REALTY are :\n",
      " Y    512948\n",
      "N    264767\n",
      "Name: FLAG_OWN_REALTY, dtype: int64\n"
     ]
    }
   ],
   "source": [
    "print(\"Number of Yes and No in FLAG_OWN_REALTY are :\\n\", data['FLAG_OWN_REALTY'].value_counts())"
   ]
  },
  {
   "cell_type": "code",
   "execution_count": 30,
   "id": "e15dd1e1",
   "metadata": {},
   "outputs": [
    {
     "name": "stdout",
     "output_type": "stream",
     "text": [
      "Percentage of Yes: 65.96%\n",
      "Percentage of No: 34.04%\n",
      "Missing values percentage: 0.00%\n"
     ]
    }
   ],
   "source": [
    "# Percentage of Yes and No in FLAG_OWN_REALTY\n",
    "\n",
    "countYesRealty = len(data[data.FLAG_OWN_REALTY == 'Y'])\n",
    "countNoRealty = len(data[data.FLAG_OWN_REALTY == 'N'])\n",
    "countNull = len(data[data.FLAG_OWN_REALTY.isnull()])\n",
    "\n",
    "print(\"Percentage of Yes: {:.2f}%\".format((countYesRealty / (len(data.FLAG_OWN_REALTY)))*100))\n",
    "print(\"Percentage of No: {:.2f}%\".format((countNoRealty/ (len(data.FLAG_OWN_REALTY)))*100))\n",
    "print(\"Missing values percentage: {:.2f}%\".format((countNull / (len(data.FLAG_OWN_REALTY)))*100))"
   ]
  },
  {
   "cell_type": "code",
   "execution_count": 31,
   "id": "c0665903",
   "metadata": {
    "scrolled": true
   },
   "outputs": [
    {
     "data": {
      "image/png": "[encoded data removed]",
      "text/plain": [
       "<Figure size 432x288 with 1 Axes>"
      ]
     },
     "metadata": {
      "needs_background": "light"
     },
     "output_type": "display_data"
    }
   ],
   "source": [
    "# Plotting count of Yes and No in FLAG_OWN_REALTY\n",
    "\n",
    "sns.countplot(x = \"FLAG_OWN_REALTY\", data = data, palette = \"hls\")\n",
    "plt.show()"
   ]
  },
  {
   "cell_type": "markdown",
   "id": "20a8a458",
   "metadata": {},
   "source": [
    "#### 3.1.1.4 NAME_INCOME_TYPE"
   ]
  },
  {
   "cell_type": "code",
   "execution_count": 32,
   "id": "9a3da426",
   "metadata": {
    "scrolled": true
   },
   "outputs": [
    {
     "name": "stdout",
     "output_type": "stream",
     "text": [
      "Null Value in NAME_INCOME_TYPE : 0\n",
      "Number of Unique Values in NAME_INCOME_TYPE : 5\n"
     ]
    }
   ],
   "source": [
    "# Number of null values and unique values in NAME_INCOME_TYPE\n",
    "\n",
    "print(\"Null Value in NAME_INCOME_TYPE :\", data['NAME_INCOME_TYPE'].isnull().sum())\n",
    "print(\"Number of Unique Values in NAME_INCOME_TYPE :\", data['NAME_INCOME_TYPE'].nunique())"
   ]
  },
  {
   "cell_type": "code",
   "execution_count": 33,
   "id": "7d053483",
   "metadata": {},
   "outputs": [
    {
     "data": {
      "text/plain": [
       "array(['Working', 'Commercial associate', 'Pensioner', 'State servant',\n",
       "       'Student'], dtype=object)"
      ]
     },
     "execution_count": 33,
     "metadata": {},
     "output_type": "execute_result"
    }
   ],
   "source": [
    "data['NAME_INCOME_TYPE'].unique()"
   ]
  },
  {
   "cell_type": "code",
   "execution_count": 34,
   "id": "d1827872",
   "metadata": {
    "scrolled": true
   },
   "outputs": [
    {
     "name": "stdout",
     "output_type": "stream",
     "text": [
      "Count of Job Types are :\n",
      " Working                 400164\n",
      "Commercial associate    183385\n",
      "Pensioner               128392\n",
      "State servant            65437\n",
      "Student                    337\n",
      "Name: NAME_INCOME_TYPE, dtype: int64\n"
     ]
    }
   ],
   "source": [
    "print(\"Count of Job Types are :\\n\", data['NAME_INCOME_TYPE'].value_counts())"
   ]
  },
  {
   "cell_type": "code",
   "execution_count": 35,
   "id": "56730d3e",
   "metadata": {},
   "outputs": [
    {
     "name": "stdout",
     "output_type": "stream",
     "text": [
      "Percentage of Working: 51.45%\n",
      "Percentage of Commercial associate: 23.58%\n",
      "Percentage of Pensioner: 16.51%\n",
      "Percentage of State servant: 8.41%\n",
      "Percentage of Student: 0.04%\n",
      "Missing values percentage: 0.00%\n"
     ]
    }
   ],
   "source": [
    "# Percentage of Job Types\n",
    "\n",
    "countWorking = len(data[data.NAME_INCOME_TYPE == 'Working'])\n",
    "countCommercial = len(data[data.NAME_INCOME_TYPE == 'Commercial associate'])\n",
    "countPensioner = len(data[data.NAME_INCOME_TYPE == 'Pensioner'])\n",
    "countState_servant = len(data[data.NAME_INCOME_TYPE == 'State servant'])\n",
    "countStudent = len(data[data.NAME_INCOME_TYPE == 'Student'])\n",
    "countNull = len(data[data.NAME_INCOME_TYPE.isnull()])\n",
    "\n",
    "print(\"Percentage of Working: {:.2f}%\".format((countWorking / (len(data.NAME_INCOME_TYPE)))*100))\n",
    "print(\"Percentage of Commercial associate: {:.2f}%\".format((countCommercial/ (len(data.NAME_INCOME_TYPE)))*100))\n",
    "print(\"Percentage of Pensioner: {:.2f}%\".format((countPensioner / (len(data.NAME_INCOME_TYPE)))*100))\n",
    "print(\"Percentage of State servant: {:.2f}%\".format((countState_servant / (len(data.NAME_INCOME_TYPE)))*100))\n",
    "print(\"Percentage of Student: {:.2f}%\".format((countStudent / (len(data.NAME_INCOME_TYPE)))*100))\n",
    "print(\"Missing values percentage: {:.2f}%\".format((countNull / (len(data.NAME_INCOME_TYPE)))*100))"
   ]
  },
  {
   "cell_type": "code",
   "execution_count": 36,
   "id": "6081ca37",
   "metadata": {
    "scrolled": false
   },
   "outputs": [
    {
     "data": {
      "image/png": "[encoded data removed]",
      "text/plain": [
       "<Figure size 720x720 with 1 Axes>"
      ]
     },
     "metadata": {
      "needs_background": "light"
     },
     "output_type": "display_data"
    }
   ],
   "source": [
    "# Plotting count of Job types\n",
    "\n",
    "fig, ax = plt.subplots(figsize = (10,10))\n",
    "sns.countplot(x = \"NAME_INCOME_TYPE\", data = data, palette = \"hls\")\n",
    "plt.show()"
   ]
  },
  {
   "cell_type": "markdown",
   "id": "a3b286ea",
   "metadata": {},
   "source": [
    "#### 3.1.1.5 NAME_EDUCATION_TYPE"
   ]
  },
  {
   "cell_type": "code",
   "execution_count": 37,
   "id": "7d89027a",
   "metadata": {
    "scrolled": true
   },
   "outputs": [
    {
     "name": "stdout",
     "output_type": "stream",
     "text": [
      "Null Value in NAME_EDUCATION_TYPE : 0\n",
      "Number of Unique Values in NAME_EDUCATION_TYPE : 5\n"
     ]
    }
   ],
   "source": [
    "# Number of null values and unique values in NAME_EDUCATION_TYPE\n",
    "\n",
    "print(\"Null Value in NAME_EDUCATION_TYPE :\", data['NAME_EDUCATION_TYPE'].isnull().sum())\n",
    "print(\"Number of Unique Values in NAME_EDUCATION_TYPE :\", data['NAME_EDUCATION_TYPE'].nunique())"
   ]
  },
  {
   "cell_type": "code",
   "execution_count": 38,
   "id": "dbe3724a",
   "metadata": {
    "scrolled": true
   },
   "outputs": [
    {
     "data": {
      "text/plain": [
       "array(['Higher education', 'Secondary / secondary special',\n",
       "       'Incomplete higher', 'Lower secondary', 'Academic degree'],\n",
       "      dtype=object)"
      ]
     },
     "execution_count": 38,
     "metadata": {},
     "output_type": "execute_result"
    }
   ],
   "source": [
    "data['NAME_EDUCATION_TYPE'].unique()"
   ]
  },
  {
   "cell_type": "code",
   "execution_count": 39,
   "id": "3218a4ef",
   "metadata": {},
   "outputs": [],
   "source": [
    "# Changing Name Secondary / secondary special to Secondary\n",
    "\n",
    "data.loc[data['NAME_EDUCATION_TYPE'] == 'Secondary / secondary special','NAME_EDUCATION_TYPE'] = 'Secondary'"
   ]
  },
  {
   "cell_type": "code",
   "execution_count": 40,
   "id": "7f221ece",
   "metadata": {
    "scrolled": true
   },
   "outputs": [
    {
     "name": "stdout",
     "output_type": "stream",
     "text": [
      "Count of Education levels are :\n",
      " Secondary            524261\n",
      "Higher education     213633\n",
      "Incomplete higher     30329\n",
      "Lower secondary        8655\n",
      "Academic degree         837\n",
      "Name: NAME_EDUCATION_TYPE, dtype: int64\n"
     ]
    }
   ],
   "source": [
    "print(\"Count of Education levels are :\\n\", data['NAME_EDUCATION_TYPE'].value_counts())"
   ]
  },
  {
   "cell_type": "code",
   "execution_count": 41,
   "id": "87f835c6",
   "metadata": {},
   "outputs": [
    {
     "name": "stdout",
     "output_type": "stream",
     "text": [
      "Percentage of Secondary: 67.41%\n",
      "Percentage of Higher education: 27.47%\n",
      "Percentage of Incomplete higher: 3.90%\n",
      "Percentage of Lower secondary: 1.11%\n",
      "Percentage of Academic degree: 0.11%\n",
      "Missing values percentage: 0.00%\n"
     ]
    }
   ],
   "source": [
    "# Percentage of Education levels\n",
    "\n",
    "countSecondary = len(data[data.NAME_EDUCATION_TYPE == 'Secondary'])\n",
    "countHigher = len(data[data.NAME_EDUCATION_TYPE == 'Higher education'])\n",
    "countIncomplete = len(data[data.NAME_EDUCATION_TYPE == 'Incomplete higher'])\n",
    "countLower = len(data[data.NAME_EDUCATION_TYPE == 'Lower secondary'])\n",
    "countDegree = len(data[data.NAME_EDUCATION_TYPE == 'Academic degree'])\n",
    "countNull = len(data[data.NAME_EDUCATION_TYPE.isnull()])\n",
    "\n",
    "print(\"Percentage of Secondary: {:.2f}%\".format((countSecondary / (len(data.NAME_EDUCATION_TYPE)))*100))\n",
    "print(\"Percentage of Higher education: {:.2f}%\".format((countHigher/ (len(data.NAME_EDUCATION_TYPE)))*100))\n",
    "print(\"Percentage of Incomplete higher: {:.2f}%\".format((countIncomplete / (len(data.NAME_EDUCATION_TYPE)))*100))\n",
    "print(\"Percentage of Lower secondary: {:.2f}%\".format((countLower / (len(data.NAME_EDUCATION_TYPE)))*100))\n",
    "print(\"Percentage of Academic degree: {:.2f}%\".format((countDegree / (len(data.NAME_EDUCATION_TYPE)))*100))\n",
    "print(\"Missing values percentage: {:.2f}%\".format((countNull / (len(data.NAME_EDUCATION_TYPE)))*100))"
   ]
  },
  {
   "cell_type": "code",
   "execution_count": 42,
   "id": "53bdd881",
   "metadata": {
    "scrolled": false
   },
   "outputs": [
    {
     "data": {
      "image/png": "[encoded data removed]",
      "text/plain": [
       "<Figure size 720x720 with 1 Axes>"
      ]
     },
     "metadata": {
      "needs_background": "light"
     },
     "output_type": "display_data"
    }
   ],
   "source": [
    "# Plotting count of Education types\n",
    "\n",
    "fig, ax = plt.subplots(figsize = (10,10))\n",
    "sns.countplot(x = \"NAME_EDUCATION_TYPE\", data = data, palette = \"hls\")\n",
    "plt.xticks(rotation=90)\n",
    "plt.show()"
   ]
  },
  {
   "cell_type": "markdown",
   "id": "4ce2e3de",
   "metadata": {},
   "source": [
    "#### 3.1.1.6 NAME_FAMILY_STATUS"
   ]
  },
  {
   "cell_type": "code",
   "execution_count": 43,
   "id": "1fa81fd1",
   "metadata": {
    "scrolled": true
   },
   "outputs": [
    {
     "name": "stdout",
     "output_type": "stream",
     "text": [
      "Null Value in NAME_FAMILY_STATUS : 0\n",
      "Number of Unique Values in NAME_FAMILY_STATUS : 5\n"
     ]
    }
   ],
   "source": [
    "# Number of null values and unique values in NAME_FAMILY_STATUS\n",
    "\n",
    "print(\"Null Value in NAME_FAMILY_STATUS :\", data['NAME_FAMILY_STATUS'].isnull().sum())\n",
    "print(\"Number of Unique Values in NAME_FAMILY_STATUS :\", data['NAME_FAMILY_STATUS'].nunique())"
   ]
  },
  {
   "cell_type": "code",
   "execution_count": 44,
   "id": "3bab1296",
   "metadata": {
    "scrolled": true
   },
   "outputs": [
    {
     "data": {
      "text/plain": [
       "array(['Civil marriage', 'Married', 'Single / not married', 'Separated',\n",
       "       'Widow'], dtype=object)"
      ]
     },
     "execution_count": 44,
     "metadata": {},
     "output_type": "execute_result"
    }
   ],
   "source": [
    "data['NAME_FAMILY_STATUS'].unique()"
   ]
  },
  {
   "cell_type": "code",
   "execution_count": 45,
   "id": "daf1ebc5",
   "metadata": {},
   "outputs": [],
   "source": [
    "# Changing Name Single / not married to Single\n",
    "\n",
    "data.loc[data['NAME_FAMILY_STATUS'] == 'Single / not married','NAME_FAMILY_STATUS'] = 'Single'"
   ]
  },
  {
   "cell_type": "code",
   "execution_count": 46,
   "id": "5ed09cfd",
   "metadata": {
    "scrolled": false
   },
   "outputs": [
    {
     "name": "stdout",
     "output_type": "stream",
     "text": [
      "Count of Family Status :\n",
      " Married           546619\n",
      "Single             94335\n",
      "Civil marriage     60342\n",
      "Separated          45255\n",
      "Widow              31164\n",
      "Name: NAME_FAMILY_STATUS, dtype: int64\n"
     ]
    }
   ],
   "source": [
    "print(\"Count of Family Status :\\n\", data['NAME_FAMILY_STATUS'].value_counts())"
   ]
  },
  {
   "cell_type": "code",
   "execution_count": 47,
   "id": "d956931b",
   "metadata": {},
   "outputs": [
    {
     "name": "stdout",
     "output_type": "stream",
     "text": [
      "Percentage of Married: 70.29%\n",
      "Percentage of Single: 12.13%\n",
      "Percentage of Civil marriage: 7.76%\n",
      "Percentage of Separated: 5.82%\n",
      "Percentage of Widow: 4.01%\n",
      "Missing values percentage: 0.00%\n"
     ]
    }
   ],
   "source": [
    "# Percentage of Family Status\n",
    "\n",
    "countMarried = len(data[data.NAME_FAMILY_STATUS == 'Married'])\n",
    "countSingle = len(data[data.NAME_FAMILY_STATUS == 'Single'])\n",
    "countCivil = len(data[data.NAME_FAMILY_STATUS == 'Civil marriage'])\n",
    "countSeparated = len(data[data.NAME_FAMILY_STATUS == 'Separated'])\n",
    "countWidow = len(data[data.NAME_FAMILY_STATUS == 'Widow'])\n",
    "countNull = len(data[data.NAME_FAMILY_STATUS.isnull()])\n",
    "\n",
    "print(\"Percentage of Married: {:.2f}%\".format((countMarried / (len(data.NAME_FAMILY_STATUS)))*100))\n",
    "print(\"Percentage of Single: {:.2f}%\".format((countSingle/ (len(data.NAME_FAMILY_STATUS)))*100))\n",
    "print(\"Percentage of Civil marriage: {:.2f}%\".format((countCivil / (len(data.NAME_FAMILY_STATUS)))*100))\n",
    "print(\"Percentage of Separated: {:.2f}%\".format((countSeparated / (len(data.NAME_FAMILY_STATUS)))*100))\n",
    "print(\"Percentage of Widow: {:.2f}%\".format((countWidow / (len(data.NAME_FAMILY_STATUS)))*100))\n",
    "print(\"Missing values percentage: {:.2f}%\".format((countNull / (len(data.NAME_FAMILY_STATUS)))*100))"
   ]
  },
  {
   "cell_type": "code",
   "execution_count": 48,
   "id": "b55520c1",
   "metadata": {
    "scrolled": false
   },
   "outputs": [
    {
     "data": {
      "image/png": "[encoded data removed]",
      "text/plain": [
       "<Figure size 720x720 with 1 Axes>"
      ]
     },
     "metadata": {
      "needs_background": "light"
     },
     "output_type": "display_data"
    }
   ],
   "source": [
    "# Plotting count of Family Status\n",
    "\n",
    "fig, ax = plt.subplots(figsize = (10,10))\n",
    "sns.countplot(x = \"NAME_FAMILY_STATUS\", data = data, palette = \"hls\")\n",
    "plt.show()"
   ]
  },
  {
   "cell_type": "markdown",
   "id": "09afdfca",
   "metadata": {},
   "source": [
    "#### 3.1.1.7 NAME_HOUSING_TYPE"
   ]
  },
  {
   "cell_type": "code",
   "execution_count": 49,
   "id": "6f1237f1",
   "metadata": {
    "scrolled": true
   },
   "outputs": [
    {
     "name": "stdout",
     "output_type": "stream",
     "text": [
      "Null Value in NAME_HOUSING_TYPE : 0\n",
      "Number of Unique Values in NAME_HOUSING_TYPE : 6\n"
     ]
    }
   ],
   "source": [
    "# Number of null values and unique values in NAME_HOUSING_TYPE\n",
    "\n",
    "print(\"Null Value in NAME_HOUSING_TYPE :\", data['NAME_HOUSING_TYPE'].isnull().sum())\n",
    "print(\"Number of Unique Values in NAME_HOUSING_TYPE :\", data['NAME_HOUSING_TYPE'].nunique())"
   ]
  },
  {
   "cell_type": "code",
   "execution_count": 50,
   "id": "0d86ae93",
   "metadata": {
    "scrolled": true
   },
   "outputs": [
    {
     "data": {
      "text/plain": [
       "array(['Rented apartment', 'House / apartment', 'Municipal apartment',\n",
       "       'With parents', 'Co-op apartment', 'Office apartment'],\n",
       "      dtype=object)"
      ]
     },
     "execution_count": 50,
     "metadata": {},
     "output_type": "execute_result"
    }
   ],
   "source": [
    "data['NAME_HOUSING_TYPE'].unique()"
   ]
  },
  {
   "cell_type": "code",
   "execution_count": 51,
   "id": "9f568702",
   "metadata": {},
   "outputs": [],
   "source": [
    "# Changing Name House / apartment to House\n",
    "\n",
    "data.loc[data['NAME_HOUSING_TYPE'] == 'House / apartment','NAME_HOUSING_TYPE'] = 'House'"
   ]
  },
  {
   "cell_type": "code",
   "execution_count": 52,
   "id": "67422f33",
   "metadata": {
    "scrolled": true
   },
   "outputs": [
    {
     "name": "stdout",
     "output_type": "stream",
     "text": [
      "Count of Housing types :\n",
      " House                  697151\n",
      "With parents            35735\n",
      "Municipal apartment     24640\n",
      "Rented apartment        10898\n",
      "Office apartment         5636\n",
      "Co-op apartment          3655\n",
      "Name: NAME_HOUSING_TYPE, dtype: int64\n"
     ]
    }
   ],
   "source": [
    "print(\"Count of Housing types :\\n\", data['NAME_HOUSING_TYPE'].value_counts())"
   ]
  },
  {
   "cell_type": "code",
   "execution_count": 53,
   "id": "80a2c34f",
   "metadata": {},
   "outputs": [
    {
     "name": "stdout",
     "output_type": "stream",
     "text": [
      "Percentage of House: 89.64%\n",
      "Percentage of With parents: 4.59%\n",
      "Percentage of Municipal apartment: 3.17%\n",
      "Percentage of Rented apartment: 1.40%\n",
      "Percentage of Office apartment: 0.72%\n",
      "Percentage of Co-op apartment: 0.47%\n",
      "Missing values percentage: 0.00%\n"
     ]
    }
   ],
   "source": [
    "# Percentage of Housing types\n",
    "\n",
    "countHouse = len(data[data.NAME_HOUSING_TYPE == 'House'])\n",
    "countParents = len(data[data.NAME_HOUSING_TYPE == 'With parents'])\n",
    "countMunicipal = len(data[data.NAME_HOUSING_TYPE == 'Municipal apartment'])\n",
    "countRented = len(data[data.NAME_HOUSING_TYPE == 'Rented apartment'])\n",
    "countOffice = len(data[data.NAME_HOUSING_TYPE == 'Office apartment'])\n",
    "countCo = len(data[data.NAME_HOUSING_TYPE == 'Co-op apartment'])\n",
    "countNull = len(data[data.NAME_HOUSING_TYPE.isnull()])\n",
    "\n",
    "print(\"Percentage of House: {:.2f}%\".format((countHouse / (len(data.NAME_HOUSING_TYPE)))*100))\n",
    "print(\"Percentage of With parents: {:.2f}%\".format((countParents/ (len(data.NAME_HOUSING_TYPE)))*100))\n",
    "print(\"Percentage of Municipal apartment: {:.2f}%\".format((countMunicipal / (len(data.NAME_HOUSING_TYPE)))*100))\n",
    "print(\"Percentage of Rented apartment: {:.2f}%\".format((countRented / (len(data.NAME_HOUSING_TYPE)))*100))\n",
    "print(\"Percentage of Office apartment: {:.2f}%\".format((countOffice / (len(data.NAME_HOUSING_TYPE)))*100))\n",
    "print(\"Percentage of Co-op apartment: {:.2f}%\".format((countCo / (len(data.NAME_HOUSING_TYPE)))*100))\n",
    "print(\"Missing values percentage: {:.2f}%\".format((countNull / (len(data.NAME_HOUSING_TYPE)))*100))"
   ]
  },
  {
   "cell_type": "code",
   "execution_count": 54,
   "id": "dabb0294",
   "metadata": {
    "scrolled": false
   },
   "outputs": [
    {
     "data": {
      "image/png": "[encoded data removed]",
      "text/plain": [
       "<Figure size 720x720 with 1 Axes>"
      ]
     },
     "metadata": {
      "needs_background": "light"
     },
     "output_type": "display_data"
    }
   ],
   "source": [
    "# Plotting count of Housing types\n",
    "\n",
    "fig, ax = plt.subplots(figsize = (10,10))\n",
    "sns.countplot(x = \"NAME_HOUSING_TYPE\", data = data, palette = \"hls\")\n",
    "plt.show()"
   ]
  },
  {
   "cell_type": "markdown",
   "id": "d2829e07",
   "metadata": {},
   "source": [
    "#### 3.1.1.8 OCCUPATION_TYPE"
   ]
  },
  {
   "cell_type": "code",
   "execution_count": 55,
   "id": "b05aa8fa",
   "metadata": {
    "scrolled": true
   },
   "outputs": [
    {
     "name": "stdout",
     "output_type": "stream",
     "text": [
      "Null Value in OCCUPATION_TYPE : 240048\n",
      "Number of Unique Values in OCCUPATION_TYPE : 18\n"
     ]
    }
   ],
   "source": [
    "# Number of null values and unique values in OCCUPATION_TYPE\n",
    "\n",
    "print(\"Null Value in OCCUPATION_TYPE :\", data['OCCUPATION_TYPE'].isnull().sum())\n",
    "print(\"Number of Unique Values in OCCUPATION_TYPE :\", data['OCCUPATION_TYPE'].nunique())"
   ]
  },
  {
   "cell_type": "code",
   "execution_count": 56,
   "id": "d8ee981d",
   "metadata": {
    "scrolled": true
   },
   "outputs": [
    {
     "data": {
      "text/plain": [
       "array([nan, 'Security staff', 'Sales staff', 'Accountants', 'Laborers',\n",
       "       'Managers', 'Drivers', 'Core staff', 'High skill tech staff',\n",
       "       'Cleaning staff', 'Private service staff', 'Cooking staff',\n",
       "       'Low-skill Laborers', 'Medicine staff', 'Secretaries',\n",
       "       'Waiters/barmen staff', 'HR staff', 'Realty agents', 'IT staff'],\n",
       "      dtype=object)"
      ]
     },
     "execution_count": 56,
     "metadata": {},
     "output_type": "execute_result"
    }
   ],
   "source": [
    "data['OCCUPATION_TYPE'].unique()"
   ]
  },
  {
   "cell_type": "code",
   "execution_count": 57,
   "id": "b14373da",
   "metadata": {},
   "outputs": [
    {
     "name": "stdout",
     "output_type": "stream",
     "text": [
      "Count of Occupation types :\n",
      " Laborers                 131572\n",
      "Core staff                77112\n",
      "Sales staff               70362\n",
      "Managers                  67738\n",
      "Drivers                   47678\n",
      "High skill tech staff     31768\n",
      "Accountants               27223\n",
      "Medicine staff            26691\n",
      "Cooking staff             13416\n",
      "Security staff            12400\n",
      "Cleaning staff            11399\n",
      "Private service staff      6714\n",
      "Low-skill Laborers         3623\n",
      "Secretaries                3149\n",
      "Waiters/barmen staff       2557\n",
      "HR staff                   1686\n",
      "IT staff                   1319\n",
      "Realty agents              1260\n",
      "Name: OCCUPATION_TYPE, dtype: int64\n"
     ]
    }
   ],
   "source": [
    "print(\"Count of Occupation types :\\n\", data['OCCUPATION_TYPE'].value_counts())"
   ]
  },
  {
   "cell_type": "code",
   "execution_count": 58,
   "id": "b940577a",
   "metadata": {},
   "outputs": [
    {
     "name": "stdout",
     "output_type": "stream",
     "text": [
      "Precentage of Occupation types:\n"
     ]
    },
    {
     "data": {
      "text/plain": [
       "Laborers                 16.92\n",
       "Core staff                9.92\n",
       "Sales staff               9.05\n",
       "Managers                  8.71\n",
       "Drivers                   6.13\n",
       "High skill tech staff     4.08\n",
       "Accountants               3.50\n",
       "Medicine staff            3.43\n",
       "Cooking staff             1.73\n",
       "Security staff            1.59\n",
       "Cleaning staff            1.47\n",
       "Private service staff     0.86\n",
       "Low-skill Laborers        0.47\n",
       "Secretaries               0.40\n",
       "Waiters/barmen staff      0.33\n",
       "HR staff                  0.22\n",
       "IT staff                  0.17\n",
       "Realty agents             0.16\n",
       "Name: OCCUPATION_TYPE, dtype: float64"
      ]
     },
     "execution_count": 58,
     "metadata": {},
     "output_type": "execute_result"
    }
   ],
   "source": [
    "# Percentage of Occupation types\n",
    "\n",
    "print(\"Precentage of Occupation types:\") \n",
    "round((data['OCCUPATION_TYPE'].value_counts() / len(data.OCCUPATION_TYPE))*100, 2)\n"
   ]
  },
  {
   "cell_type": "code",
   "execution_count": 59,
   "id": "9fad4d2d",
   "metadata": {
    "scrolled": false
   },
   "outputs": [
    {
     "data": {
      "image/png": "[encoded data removed]",
      "text/plain": [
       "<Figure size 720x720 with 1 Axes>"
      ]
     },
     "metadata": {
      "needs_background": "light"
     },
     "output_type": "display_data"
    }
   ],
   "source": [
    "# Plotting count of Occuption types\n",
    "\n",
    "fig, ax = plt.subplots(figsize = (10,10))\n",
    "sns.countplot(x = \"OCCUPATION_TYPE\", data = data, palette = \"hls\")\n",
    "plt.xticks(rotation=90)\n",
    "plt.show()"
   ]
  },
  {
   "cell_type": "markdown",
   "id": "06fbdfd2",
   "metadata": {},
   "source": [
    "#### 3.1.1.9 STATUS"
   ]
  },
  {
   "cell_type": "code",
   "execution_count": 60,
   "id": "3f5fd0c2",
   "metadata": {
    "scrolled": true
   },
   "outputs": [
    {
     "name": "stdout",
     "output_type": "stream",
     "text": [
      "Null Value in STATUS : 0\n",
      "Number of Unique Values in STATUS : 8\n"
     ]
    }
   ],
   "source": [
    "# Number of null values and unique values in STATUS\n",
    "\n",
    "print(\"Null Value in STATUS :\", data['STATUS'].isnull().sum())\n",
    "print(\"Number of Unique Values in STATUS :\", data['STATUS'].nunique())"
   ]
  },
  {
   "cell_type": "code",
   "execution_count": 61,
   "id": "6daa90c0",
   "metadata": {
    "scrolled": true
   },
   "outputs": [
    {
     "data": {
      "text/plain": [
       "array(['C', '1', '0', 'X', '5', '4', '3', '2'], dtype=object)"
      ]
     },
     "execution_count": 61,
     "metadata": {},
     "output_type": "execute_result"
    }
   ],
   "source": [
    "data['STATUS'].unique()"
   ]
  },
  {
   "cell_type": "code",
   "execution_count": 62,
   "id": "ae13aaf3",
   "metadata": {
    "scrolled": false
   },
   "outputs": [
    {
     "name": "stdout",
     "output_type": "stream",
     "text": [
      "Count of Status :\n",
      " C    329536\n",
      "0    290654\n",
      "X    145950\n",
      "1      8747\n",
      "5      1527\n",
      "2       801\n",
      "3       286\n",
      "4       214\n",
      "Name: STATUS, dtype: int64\n"
     ]
    }
   ],
   "source": [
    "print(\"Count of Status :\\n\", data['STATUS'].value_counts())"
   ]
  },
  {
   "cell_type": "code",
   "execution_count": 63,
   "id": "a8c438c6",
   "metadata": {},
   "outputs": [
    {
     "name": "stdout",
     "output_type": "stream",
     "text": [
      "Percentage of C: 42.37%\n",
      "Percentage of 0: 37.37%\n",
      "Percentage of X: 18.77%\n",
      "Percentage of 1: 1.12%\n",
      "Percentage of 2: 0.10%\n",
      "Percentage of 3: 0.04%\n",
      "Percentage of 4: 0.03%\n",
      "Percentage of 5: 0.20%\n",
      "Missing values percentage: 0.00%\n"
     ]
    }
   ],
   "source": [
    "# Percentage of Status\n",
    "\n",
    "countC = len(data[data.STATUS == 'C'])\n",
    "count0 = len(data[data.STATUS == '0'])\n",
    "countX = len(data[data.STATUS == 'X'])\n",
    "count1 = len(data[data.STATUS == '1'])\n",
    "count2 = len(data[data.STATUS == '2'])\n",
    "count3 = len(data[data.STATUS == '3'])\n",
    "count4 = len(data[data.STATUS == '4'])\n",
    "count5 = len(data[data.STATUS == '5'])\n",
    "countNull = len(data[data.STATUS.isnull()])\n",
    "\n",
    "print(\"Percentage of C: {:.2f}%\".format((countC / (len(data.STATUS)))*100))\n",
    "print(\"Percentage of 0: {:.2f}%\".format((count0 / (len(data.STATUS)))*100))\n",
    "print(\"Percentage of X: {:.2f}%\".format((countX / (len(data.STATUS)))*100))\n",
    "print(\"Percentage of 1: {:.2f}%\".format((count1 / (len(data.STATUS)))*100))\n",
    "print(\"Percentage of 2: {:.2f}%\".format((count2 / (len(data.STATUS)))*100))\n",
    "print(\"Percentage of 3: {:.2f}%\".format((count3 / (len(data.STATUS)))*100))\n",
    "print(\"Percentage of 4: {:.2f}%\".format((count4 / (len(data.STATUS)))*100))\n",
    "print(\"Percentage of 5: {:.2f}%\".format((count5 / (len(data.STATUS)))*100))\n",
    "print(\"Missing values percentage: {:.2f}%\".format((countNull / (len(data.NAME_FAMILY_STATUS)))*100))"
   ]
  },
  {
   "cell_type": "code",
   "execution_count": 64,
   "id": "486452f3",
   "metadata": {
    "scrolled": false
   },
   "outputs": [
    {
     "data": {
      "image/png": "[encoded data removed]",
      "text/plain": [
       "<Figure size 720x720 with 1 Axes>"
      ]
     },
     "metadata": {
      "needs_background": "light"
     },
     "output_type": "display_data"
    }
   ],
   "source": [
    "# Plotting count of Status\n",
    "\n",
    "fig, ax = plt.subplots(figsize = (10,10))\n",
    "sns.countplot(x = \"STATUS\", data = data, palette = \"hls\")\n",
    "plt.show()"
   ]
  },
  {
   "cell_type": "markdown",
   "id": "a96c60f4",
   "metadata": {},
   "source": [
    "### 3.1.2 Numerical Variables in Data"
   ]
  },
  {
   "cell_type": "code",
   "execution_count": 65,
   "id": "c03cacd0",
   "metadata": {},
   "outputs": [
    {
     "data": {
      "text/html": [
       "<div>\n",
       "<style scoped>\n",
       "    .dataframe tbody tr th:only-of-type {\n",
       "        vertical-align: middle;\n",
       "    }\n",
       "\n",
       "    .dataframe tbody tr th {\n",
       "        vertical-align: top;\n",
       "    }\n",
       "\n",
       "    .dataframe thead th {\n",
       "        text-align: right;\n",
       "    }\n",
       "</style>\n",
       "<table border=\"1\" class=\"dataframe\">\n",
       "  <thead>\n",
       "    <tr style=\"text-align: right;\">\n",
       "      <th></th>\n",
       "      <th>ID</th>\n",
       "      <th>CNT_CHILDREN</th>\n",
       "      <th>AMT_INCOME_TOTAL</th>\n",
       "      <th>DAYS_BIRTH</th>\n",
       "      <th>DAYS_EMPLOYED</th>\n",
       "      <th>FLAG_MOBIL</th>\n",
       "      <th>FLAG_WORK_PHONE</th>\n",
       "      <th>FLAG_PHONE</th>\n",
       "      <th>FLAG_EMAIL</th>\n",
       "      <th>CNT_FAM_MEMBERS</th>\n",
       "      <th>MONTHS_BALANCE</th>\n",
       "    </tr>\n",
       "  </thead>\n",
       "  <tbody>\n",
       "    <tr>\n",
       "      <th>count</th>\n",
       "      <td>7.777150e+05</td>\n",
       "      <td>777715.000000</td>\n",
       "      <td>7.777150e+05</td>\n",
       "      <td>777715.000000</td>\n",
       "      <td>777715.000000</td>\n",
       "      <td>777715.0</td>\n",
       "      <td>777715.000000</td>\n",
       "      <td>777715.000000</td>\n",
       "      <td>777715.000000</td>\n",
       "      <td>777715.000000</td>\n",
       "      <td>777715.000000</td>\n",
       "    </tr>\n",
       "    <tr>\n",
       "      <th>mean</th>\n",
       "      <td>5.078743e+06</td>\n",
       "      <td>0.428082</td>\n",
       "      <td>1.885348e+05</td>\n",
       "      <td>-16124.937046</td>\n",
       "      <td>57775.825016</td>\n",
       "      <td>1.0</td>\n",
       "      <td>0.231818</td>\n",
       "      <td>0.300965</td>\n",
       "      <td>0.091675</td>\n",
       "      <td>2.208837</td>\n",
       "      <td>-19.373564</td>\n",
       "    </tr>\n",
       "    <tr>\n",
       "      <th>std</th>\n",
       "      <td>4.180442e+04</td>\n",
       "      <td>0.745755</td>\n",
       "      <td>1.016225e+05</td>\n",
       "      <td>4104.304018</td>\n",
       "      <td>136471.735391</td>\n",
       "      <td>0.0</td>\n",
       "      <td>0.421993</td>\n",
       "      <td>0.458678</td>\n",
       "      <td>0.288567</td>\n",
       "      <td>0.907380</td>\n",
       "      <td>14.082208</td>\n",
       "    </tr>\n",
       "    <tr>\n",
       "      <th>min</th>\n",
       "      <td>5.008804e+06</td>\n",
       "      <td>0.000000</td>\n",
       "      <td>2.700000e+04</td>\n",
       "      <td>-25152.000000</td>\n",
       "      <td>-15713.000000</td>\n",
       "      <td>1.0</td>\n",
       "      <td>0.000000</td>\n",
       "      <td>0.000000</td>\n",
       "      <td>0.000000</td>\n",
       "      <td>1.000000</td>\n",
       "      <td>-60.000000</td>\n",
       "    </tr>\n",
       "    <tr>\n",
       "      <th>25%</th>\n",
       "      <td>5.044568e+06</td>\n",
       "      <td>0.000000</td>\n",
       "      <td>1.215000e+05</td>\n",
       "      <td>-19453.000000</td>\n",
       "      <td>-3292.000000</td>\n",
       "      <td>1.0</td>\n",
       "      <td>0.000000</td>\n",
       "      <td>0.000000</td>\n",
       "      <td>0.000000</td>\n",
       "      <td>2.000000</td>\n",
       "      <td>-29.000000</td>\n",
       "    </tr>\n",
       "    <tr>\n",
       "      <th>50%</th>\n",
       "      <td>5.069530e+06</td>\n",
       "      <td>0.000000</td>\n",
       "      <td>1.620000e+05</td>\n",
       "      <td>-15760.000000</td>\n",
       "      <td>-1682.000000</td>\n",
       "      <td>1.0</td>\n",
       "      <td>0.000000</td>\n",
       "      <td>0.000000</td>\n",
       "      <td>0.000000</td>\n",
       "      <td>2.000000</td>\n",
       "      <td>-17.000000</td>\n",
       "    </tr>\n",
       "    <tr>\n",
       "      <th>75%</th>\n",
       "      <td>5.115551e+06</td>\n",
       "      <td>1.000000</td>\n",
       "      <td>2.250000e+05</td>\n",
       "      <td>-12716.000000</td>\n",
       "      <td>-431.000000</td>\n",
       "      <td>1.0</td>\n",
       "      <td>0.000000</td>\n",
       "      <td>1.000000</td>\n",
       "      <td>0.000000</td>\n",
       "      <td>3.000000</td>\n",
       "      <td>-8.000000</td>\n",
       "    </tr>\n",
       "    <tr>\n",
       "      <th>max</th>\n",
       "      <td>5.150487e+06</td>\n",
       "      <td>19.000000</td>\n",
       "      <td>1.575000e+06</td>\n",
       "      <td>-7489.000000</td>\n",
       "      <td>365243.000000</td>\n",
       "      <td>1.0</td>\n",
       "      <td>1.000000</td>\n",
       "      <td>1.000000</td>\n",
       "      <td>1.000000</td>\n",
       "      <td>20.000000</td>\n",
       "      <td>0.000000</td>\n",
       "    </tr>\n",
       "  </tbody>\n",
       "</table>\n",
       "</div>"
      ],
      "text/plain": [
       "                 ID   CNT_CHILDREN  AMT_INCOME_TOTAL     DAYS_BIRTH  \\\n",
       "count  7.777150e+05  777715.000000      7.777150e+05  777715.000000   \n",
       "mean   5.078743e+06       0.428082      1.885348e+05  -16124.937046   \n",
       "std    4.180442e+04       0.745755      1.016225e+05    4104.304018   \n",
       "min    5.008804e+06       0.000000      2.700000e+04  -25152.000000   \n",
       "25%    5.044568e+06       0.000000      1.215000e+05  -19453.000000   \n",
       "50%    5.069530e+06       0.000000      1.620000e+05  -15760.000000   \n",
       "75%    5.115551e+06       1.000000      2.250000e+05  -12716.000000   \n",
       "max    5.150487e+06      19.000000      1.575000e+06   -7489.000000   \n",
       "\n",
       "       DAYS_EMPLOYED  FLAG_MOBIL  FLAG_WORK_PHONE     FLAG_PHONE  \\\n",
       "count  777715.000000    777715.0    777715.000000  777715.000000   \n",
       "mean    57775.825016         1.0         0.231818       0.300965   \n",
       "std    136471.735391         0.0         0.421993       0.458678   \n",
       "min    -15713.000000         1.0         0.000000       0.000000   \n",
       "25%     -3292.000000         1.0         0.000000       0.000000   \n",
       "50%     -1682.000000         1.0         0.000000       0.000000   \n",
       "75%      -431.000000         1.0         0.000000       1.000000   \n",
       "max    365243.000000         1.0         1.000000       1.000000   \n",
       "\n",
       "          FLAG_EMAIL  CNT_FAM_MEMBERS  MONTHS_BALANCE  \n",
       "count  777715.000000    777715.000000   777715.000000  \n",
       "mean        0.091675         2.208837      -19.373564  \n",
       "std         0.288567         0.907380       14.082208  \n",
       "min         0.000000         1.000000      -60.000000  \n",
       "25%         0.000000         2.000000      -29.000000  \n",
       "50%         0.000000         2.000000      -17.000000  \n",
       "75%         0.000000         3.000000       -8.000000  \n",
       "max         1.000000        20.000000        0.000000  "
      ]
     },
     "execution_count": 65,
     "metadata": {},
     "output_type": "execute_result"
    }
   ],
   "source": [
    "data[data_num].describe()"
   ]
  },
  {
   "cell_type": "markdown",
   "id": "1cf82bbc",
   "metadata": {},
   "source": [
    "#### 3.1.2.1 ID"
   ]
  },
  {
   "cell_type": "code",
   "execution_count": 66,
   "id": "3527ab49",
   "metadata": {},
   "outputs": [
    {
     "name": "stdout",
     "output_type": "stream",
     "text": [
      "Null Value in ID : 0\n",
      "Number of Unique Values in ID : 36457\n"
     ]
    }
   ],
   "source": [
    "# Number of null values and unique values in ID\n",
    "\n",
    "print(\"Null Value in ID :\", data['ID'].isnull().sum())\n",
    "print(\"Number of Unique Values in ID :\", data['ID'].nunique())"
   ]
  },
  {
   "cell_type": "code",
   "execution_count": 67,
   "id": "039593da",
   "metadata": {},
   "outputs": [
    {
     "data": {
      "text/plain": [
       "count    7.777150e+05\n",
       "mean     5.078743e+06\n",
       "std      4.180442e+04\n",
       "min      5.008804e+06\n",
       "25%      5.044568e+06\n",
       "50%      5.069530e+06\n",
       "75%      5.115551e+06\n",
       "max      5.150487e+06\n",
       "Name: ID, dtype: float64"
      ]
     },
     "execution_count": 67,
     "metadata": {},
     "output_type": "execute_result"
    }
   ],
   "source": [
    "data[\"ID\"].describe()"
   ]
  },
  {
   "cell_type": "code",
   "execution_count": 68,
   "id": "e45e8157",
   "metadata": {},
   "outputs": [
    {
     "data": {
      "text/plain": [
       "5090630    61\n",
       "5148524    61\n",
       "5066707    61\n",
       "5061848    61\n",
       "5118380    61\n",
       "           ..\n",
       "5024557     1\n",
       "5062311     1\n",
       "5024365     1\n",
       "5024364     1\n",
       "5041568     1\n",
       "Name: ID, Length: 36457, dtype: int64"
      ]
     },
     "execution_count": 68,
     "metadata": {},
     "output_type": "execute_result"
    }
   ],
   "source": [
    "data[\"ID\"].value_counts()"
   ]
  },
  {
   "cell_type": "markdown",
   "id": "75df6f38",
   "metadata": {},
   "source": [
    "#### 3.1.2.2 CNT_CHILDREN"
   ]
  },
  {
   "cell_type": "code",
   "execution_count": 69,
   "id": "85009971",
   "metadata": {},
   "outputs": [
    {
     "name": "stdout",
     "output_type": "stream",
     "text": [
      "Null Value in CNT_CHILDREN : 0\n",
      "Number of Unique Values in CNT_CHILDREN : 9\n"
     ]
    }
   ],
   "source": [
    "# Number of null values and unique values in CNT_CHILDREN\n",
    "\n",
    "print(\"Null Value in CNT_CHILDREN :\", data['CNT_CHILDREN'].isnull().sum())\n",
    "print(\"Number of Unique Values in CNT_CHILDREN :\", data['CNT_CHILDREN'].nunique())"
   ]
  },
  {
   "cell_type": "code",
   "execution_count": 70,
   "id": "7c24da09",
   "metadata": {
    "scrolled": false
   },
   "outputs": [
    {
     "data": {
      "text/plain": [
       "count    777715.000000\n",
       "mean          0.428082\n",
       "std           0.745755\n",
       "min           0.000000\n",
       "25%           0.000000\n",
       "50%           0.000000\n",
       "75%           1.000000\n",
       "max          19.000000\n",
       "Name: CNT_CHILDREN, dtype: float64"
      ]
     },
     "execution_count": 70,
     "metadata": {},
     "output_type": "execute_result"
    }
   ],
   "source": [
    "data[\"CNT_CHILDREN\"].describe()"
   ]
  },
  {
   "cell_type": "code",
   "execution_count": 71,
   "id": "9e2fdc0d",
   "metadata": {
    "scrolled": false
   },
   "outputs": [
    {
     "data": {
      "text/plain": [
       "0     540639\n",
       "1     155638\n",
       "2      70399\n",
       "3       9328\n",
       "4       1224\n",
       "5        324\n",
       "14       111\n",
       "7         46\n",
       "19         6\n",
       "Name: CNT_CHILDREN, dtype: int64"
      ]
     },
     "execution_count": 71,
     "metadata": {},
     "output_type": "execute_result"
    }
   ],
   "source": [
    "data[\"CNT_CHILDREN\"].value_counts()"
   ]
  },
  {
   "cell_type": "code",
   "execution_count": 72,
   "id": "45eecc30",
   "metadata": {
    "scrolled": false
   },
   "outputs": [
    {
     "data": {
      "text/plain": [
       "Text(0.5, 17.200000000000003, 'CNT_CHILDREN')"
      ]
     },
     "execution_count": 72,
     "metadata": {},
     "output_type": "execute_result"
    },
    {
     "data": {
      "image/png": "[encoded data removed]",
      "text/plain": [
       "<Figure size 432x288 with 1 Axes>"
      ]
     },
     "metadata": {},
     "output_type": "display_data"
    }
   ],
   "source": [
    "# Creating Countplot of CNT_CHILDREN\n",
    "\n",
    "sns.set(style=\"darkgrid\")\n",
    "sns.countplot(x=\"CNT_CHILDREN\", data = data, color='orange')\n",
    "ax.set_title('Countplot of CNT_CHILDREN')\n",
    "ax.set_xlabel('CNT_CHILDREN')"
   ]
  },
  {
   "cell_type": "code",
   "execution_count": 73,
   "id": "2fdf358e",
   "metadata": {},
   "outputs": [
    {
     "data": {
      "text/plain": [
       "Text(17.200000000000003, 0.5, 'CNT_CHILDREN')"
      ]
     },
     "execution_count": 73,
     "metadata": {},
     "output_type": "execute_result"
    },
    {
     "data": {
      "image/png": "[encoded data removed]",
      "text/plain": [
       "<Figure size 432x288 with 1 Axes>"
      ]
     },
     "metadata": {},
     "output_type": "display_data"
    }
   ],
   "source": [
    "# Creating Box plot of CNT_CHILDREN\n",
    "\n",
    "sns.set(style=\"darkgrid\")\n",
    "sns.boxplot(x=\"CNT_CHILDREN\", data = data, color='orange')\n",
    "ax.set_title('Boxplot of CNT_CHILDREN')\n",
    "ax.set_xlabel('Count')\n",
    "ax.set_ylabel('CNT_CHILDREN')"
   ]
  },
  {
   "cell_type": "markdown",
   "id": "a1463583",
   "metadata": {},
   "source": [
    "#### 3.1.2.3 AMT_INCOME_TOTAL"
   ]
  },
  {
   "cell_type": "code",
   "execution_count": 74,
   "id": "45510d10",
   "metadata": {},
   "outputs": [
    {
     "name": "stdout",
     "output_type": "stream",
     "text": [
      "Null Value in AMT_INCOME_TOTAL : 0\n",
      "Number of Unique Values in AMT_INCOME_TOTAL : 265\n"
     ]
    }
   ],
   "source": [
    "# Number of null values and unique values in AMT_INCOME_TOTAL\n",
    "\n",
    "print(\"Null Value in AMT_INCOME_TOTAL :\", data['AMT_INCOME_TOTAL'].isnull().sum())\n",
    "print(\"Number of Unique Values in AMT_INCOME_TOTAL :\", data['AMT_INCOME_TOTAL'].nunique())"
   ]
  },
  {
   "cell_type": "code",
   "execution_count": 75,
   "id": "ec9b57c7",
   "metadata": {
    "scrolled": true
   },
   "outputs": [
    {
     "data": {
      "text/plain": [
       "count    7.777150e+05\n",
       "mean     1.885348e+05\n",
       "std      1.016225e+05\n",
       "min      2.700000e+04\n",
       "25%      1.215000e+05\n",
       "50%      1.620000e+05\n",
       "75%      2.250000e+05\n",
       "max      1.575000e+06\n",
       "Name: AMT_INCOME_TOTAL, dtype: float64"
      ]
     },
     "execution_count": 75,
     "metadata": {},
     "output_type": "execute_result"
    }
   ],
   "source": [
    "data[\"AMT_INCOME_TOTAL\"].describe()"
   ]
  },
  {
   "cell_type": "code",
   "execution_count": 76,
   "id": "a808cc6d",
   "metadata": {},
   "outputs": [
    {
     "data": {
      "text/plain": [
       "Text(17.200000000000003, 0.5, 'AMT_INCOME_TOTAL')"
      ]
     },
     "execution_count": 76,
     "metadata": {},
     "output_type": "execute_result"
    },
    {
     "data": {
      "image/png": "[encoded data removed]",
      "text/plain": [
       "<Figure size 432x288 with 1 Axes>"
      ]
     },
     "metadata": {},
     "output_type": "display_data"
    }
   ],
   "source": [
    "# Creating Box plot of AMT_INCOME_TOTAL\n",
    "\n",
    "sns.set(style=\"darkgrid\")\n",
    "sns.boxplot(x=\"AMT_INCOME_TOTAL\", data = data, color='orange')\n",
    "ax.set_title('Boxplot of AMT_INCOME_TOTAL')\n",
    "ax.set_xlabel('Count')\n",
    "ax.set_ylabel('AMT_INCOME_TOTAL')"
   ]
  },
  {
   "cell_type": "markdown",
   "id": "d62fde7c",
   "metadata": {},
   "source": [
    "#### 3.1.2.4 DAYS_BIRTH"
   ]
  },
  {
   "cell_type": "code",
   "execution_count": 77,
   "id": "0ece2e29",
   "metadata": {
    "scrolled": true
   },
   "outputs": [
    {
     "name": "stdout",
     "output_type": "stream",
     "text": [
      "Null Value in DAYS_BIRTH : 0\n",
      "Number of Unique Values in DAYS_BIRTH : 7183\n"
     ]
    }
   ],
   "source": [
    "# Number of null values and unique values in DAYS_BIRTH\n",
    "\n",
    "print(\"Null Value in DAYS_BIRTH :\", data['DAYS_BIRTH'].isnull().sum())\n",
    "print(\"Number of Unique Values in DAYS_BIRTH :\", data['DAYS_BIRTH'].nunique())"
   ]
  },
  {
   "cell_type": "code",
   "execution_count": 78,
   "id": "9ed83133",
   "metadata": {
    "scrolled": true
   },
   "outputs": [
    {
     "data": {
      "text/plain": [
       "count    777715.000000\n",
       "mean     -16124.937046\n",
       "std        4104.304018\n",
       "min      -25152.000000\n",
       "25%      -19453.000000\n",
       "50%      -15760.000000\n",
       "75%      -12716.000000\n",
       "max       -7489.000000\n",
       "Name: DAYS_BIRTH, dtype: float64"
      ]
     },
     "execution_count": 78,
     "metadata": {},
     "output_type": "execute_result"
    }
   ],
   "source": [
    "data[\"DAYS_BIRTH\"].describe()"
   ]
  },
  {
   "cell_type": "code",
   "execution_count": 79,
   "id": "d65d9588",
   "metadata": {
    "scrolled": true
   },
   "outputs": [
    {
     "data": {
      "text/plain": [
       "-14667    1018\n",
       "-15140     928\n",
       "-15675     835\n",
       "-15519     799\n",
       "-16995     799\n",
       "          ... \n",
       "-18983       1\n",
       "-10119       1\n",
       "-19526       1\n",
       "-7489        1\n",
       "-9177        1\n",
       "Name: DAYS_BIRTH, Length: 7183, dtype: int64"
      ]
     },
     "execution_count": 79,
     "metadata": {},
     "output_type": "execute_result"
    }
   ],
   "source": [
    "data[\"DAYS_BIRTH\"].value_counts()"
   ]
  },
  {
   "cell_type": "code",
   "execution_count": 80,
   "id": "2a052614",
   "metadata": {},
   "outputs": [
    {
     "data": {
      "text/plain": [
       "Text(17.200000000000003, 0.5, 'DAYS_BIRTH')"
      ]
     },
     "execution_count": 80,
     "metadata": {},
     "output_type": "execute_result"
    },
    {
     "data": {
      "image/png": "[encoded data removed]",
      "text/plain": [
       "<Figure size 432x288 with 1 Axes>"
      ]
     },
     "metadata": {},
     "output_type": "display_data"
    }
   ],
   "source": [
    "# Creating Box plot of DAYS_BIRTH\n",
    "\n",
    "sns.set(style=\"darkgrid\")\n",
    "sns.boxplot(x=\"DAYS_BIRTH\", data = data, color='orange')\n",
    "ax.set_title('Boxplot of DAYS_BIRTH')\n",
    "ax.set_xlabel('Count')\n",
    "ax.set_ylabel('DAYS_BIRTH')"
   ]
  },
  {
   "cell_type": "markdown",
   "id": "616a893a",
   "metadata": {},
   "source": [
    "#### 3.1.2.5 DAYS_EMPLOYED"
   ]
  },
  {
   "cell_type": "code",
   "execution_count": 81,
   "id": "672f817d",
   "metadata": {},
   "outputs": [
    {
     "name": "stdout",
     "output_type": "stream",
     "text": [
      "Null Value in DAYS_EMPLOYED : 0\n",
      "Number of Unique Values in DAYS_EMPLOYED : 3640\n"
     ]
    }
   ],
   "source": [
    "# Number of null values and unique values in DAYS_EMPLOYED\n",
    "\n",
    "print(\"Null Value in DAYS_EMPLOYED :\", data['DAYS_EMPLOYED'].isnull().sum())\n",
    "print(\"Number of Unique Values in DAYS_EMPLOYED :\", data['DAYS_EMPLOYED'].nunique())"
   ]
  },
  {
   "cell_type": "code",
   "execution_count": 82,
   "id": "fa7bc0da",
   "metadata": {
    "scrolled": true
   },
   "outputs": [
    {
     "data": {
      "text/plain": [
       "count    777715.000000\n",
       "mean      57775.825016\n",
       "std      136471.735391\n",
       "min      -15713.000000\n",
       "25%       -3292.000000\n",
       "50%       -1682.000000\n",
       "75%        -431.000000\n",
       "max      365243.000000\n",
       "Name: DAYS_EMPLOYED, dtype: float64"
      ]
     },
     "execution_count": 82,
     "metadata": {},
     "output_type": "execute_result"
    }
   ],
   "source": [
    "data[\"DAYS_EMPLOYED\"].describe()"
   ]
  },
  {
   "cell_type": "code",
   "execution_count": 83,
   "id": "3e005a7e",
   "metadata": {
    "scrolled": false
   },
   "outputs": [
    {
     "data": {
      "text/plain": [
       " 365243    127972\n",
       "-1751        1601\n",
       "-1539        1545\n",
       "-401         1498\n",
       "-2531        1319\n",
       "            ...  \n",
       "-3294           1\n",
       "-3891           1\n",
       "-7049           1\n",
       "-7765           1\n",
       "-2848           1\n",
       "Name: DAYS_EMPLOYED, Length: 3640, dtype: int64"
      ]
     },
     "execution_count": 83,
     "metadata": {},
     "output_type": "execute_result"
    }
   ],
   "source": [
    "data[\"DAYS_EMPLOYED\"].value_counts()"
   ]
  },
  {
   "cell_type": "code",
   "execution_count": 84,
   "id": "aa1ff504",
   "metadata": {},
   "outputs": [
    {
     "data": {
      "text/plain": [
       "Text(17.200000000000003, 0.5, 'DAYS_EMPLOYED')"
      ]
     },
     "execution_count": 84,
     "metadata": {},
     "output_type": "execute_result"
    },
    {
     "data": {
      "image/png": "[encoded data removed]",
      "text/plain": [
       "<Figure size 432x288 with 1 Axes>"
      ]
     },
     "metadata": {},
     "output_type": "display_data"
    }
   ],
   "source": [
    "# Creating Box plot of DAYS_EMPLOYED\n",
    "\n",
    "sns.set(style=\"darkgrid\")\n",
    "sns.boxplot(x=\"DAYS_EMPLOYED\", data = data, color='orange')\n",
    "ax.set_title('Boxplot of DAYS_EMPLOYED')\n",
    "ax.set_xlabel('Count')\n",
    "ax.set_ylabel('DAYS_EMPLOYED')"
   ]
  },
  {
   "cell_type": "markdown",
   "id": "7a91a9a4",
   "metadata": {},
   "source": [
    "#### 3.1.2.6 FLAG_MOBIL"
   ]
  },
  {
   "cell_type": "code",
   "execution_count": 85,
   "id": "b7e33522",
   "metadata": {},
   "outputs": [
    {
     "name": "stdout",
     "output_type": "stream",
     "text": [
      "Null Value in FLAG_MOBIL : 0\n",
      "Number of Unique Values in FLAG_MOBIL : 1\n"
     ]
    }
   ],
   "source": [
    "# Number of null values and unique values in FLAG_MOBIL\n",
    "\n",
    "print(\"Null Value in FLAG_MOBIL :\", data['FLAG_MOBIL'].isnull().sum())\n",
    "print(\"Number of Unique Values in FLAG_MOBIL :\", data['FLAG_MOBIL'].nunique())"
   ]
  },
  {
   "cell_type": "code",
   "execution_count": 86,
   "id": "179259d6",
   "metadata": {
    "scrolled": true
   },
   "outputs": [
    {
     "data": {
      "text/plain": [
       "count    777715.0\n",
       "mean          1.0\n",
       "std           0.0\n",
       "min           1.0\n",
       "25%           1.0\n",
       "50%           1.0\n",
       "75%           1.0\n",
       "max           1.0\n",
       "Name: FLAG_MOBIL, dtype: float64"
      ]
     },
     "execution_count": 86,
     "metadata": {},
     "output_type": "execute_result"
    }
   ],
   "source": [
    "data[\"FLAG_MOBIL\"].describe()"
   ]
  },
  {
   "cell_type": "code",
   "execution_count": 87,
   "id": "8ae6708b",
   "metadata": {
    "scrolled": false
   },
   "outputs": [
    {
     "data": {
      "text/plain": [
       "1    777715\n",
       "Name: FLAG_MOBIL, dtype: int64"
      ]
     },
     "execution_count": 87,
     "metadata": {},
     "output_type": "execute_result"
    }
   ],
   "source": [
    "data[\"FLAG_MOBIL\"].value_counts()"
   ]
  },
  {
   "cell_type": "markdown",
   "id": "6d901336",
   "metadata": {},
   "source": [
    "#### 3.1.2.7 FLAG_WORK_PHONE"
   ]
  },
  {
   "cell_type": "code",
   "execution_count": 88,
   "id": "9754fcba",
   "metadata": {},
   "outputs": [
    {
     "name": "stdout",
     "output_type": "stream",
     "text": [
      "Null Value in FLAG_WORK_PHONE : 0\n",
      "Number of Unique Values in FLAG_WORK_PHONE : 2\n"
     ]
    }
   ],
   "source": [
    "# Number of null values and unique values in FLAG_WORK_PHONE\n",
    "\n",
    "print(\"Null Value in FLAG_WORK_PHONE :\", data['FLAG_WORK_PHONE'].isnull().sum())\n",
    "print(\"Number of Unique Values in FLAG_WORK_PHONE :\", data['FLAG_WORK_PHONE'].nunique())"
   ]
  },
  {
   "cell_type": "code",
   "execution_count": 89,
   "id": "5e79a97f",
   "metadata": {
    "scrolled": true
   },
   "outputs": [
    {
     "data": {
      "text/plain": [
       "count    777715.000000\n",
       "mean          0.231818\n",
       "std           0.421993\n",
       "min           0.000000\n",
       "25%           0.000000\n",
       "50%           0.000000\n",
       "75%           0.000000\n",
       "max           1.000000\n",
       "Name: FLAG_WORK_PHONE, dtype: float64"
      ]
     },
     "execution_count": 89,
     "metadata": {},
     "output_type": "execute_result"
    }
   ],
   "source": [
    "data[\"FLAG_WORK_PHONE\"].describe()"
   ]
  },
  {
   "cell_type": "code",
   "execution_count": 90,
   "id": "a1f77442",
   "metadata": {
    "scrolled": false
   },
   "outputs": [
    {
     "data": {
      "text/plain": [
       "0    597427\n",
       "1    180288\n",
       "Name: FLAG_WORK_PHONE, dtype: int64"
      ]
     },
     "execution_count": 90,
     "metadata": {},
     "output_type": "execute_result"
    }
   ],
   "source": [
    "data[\"FLAG_WORK_PHONE\"].value_counts()"
   ]
  },
  {
   "cell_type": "code",
   "execution_count": 91,
   "id": "c00419ce",
   "metadata": {
    "scrolled": true
   },
   "outputs": [
    {
     "data": {
      "image/png": "[encoded data removed]",
      "text/plain": [
       "<Figure size 432x288 with 1 Axes>"
      ]
     },
     "metadata": {},
     "output_type": "display_data"
    }
   ],
   "source": [
    "# Creating Countplot of FLAG_WORK_PHONE\n",
    "\n",
    "sns.countplot(x = \"FLAG_WORK_PHONE\", data = data, palette = \"hls\")\n",
    "plt.show()"
   ]
  },
  {
   "cell_type": "markdown",
   "id": "c9f30ed9",
   "metadata": {},
   "source": [
    "#### 3.1.2.8 FLAG_PHONE"
   ]
  },
  {
   "cell_type": "code",
   "execution_count": 92,
   "id": "55a8d167",
   "metadata": {},
   "outputs": [
    {
     "name": "stdout",
     "output_type": "stream",
     "text": [
      "Null Value in FLAG_PHONE : 0\n",
      "Number of Unique Values in FLAG_PHONE : 2\n"
     ]
    }
   ],
   "source": [
    "# Number of null values and unique values in FLAG_PHONE\n",
    "\n",
    "print(\"Null Value in FLAG_PHONE :\", data['FLAG_PHONE'].isnull().sum())\n",
    "print(\"Number of Unique Values in FLAG_PHONE :\", data['FLAG_PHONE'].nunique())"
   ]
  },
  {
   "cell_type": "code",
   "execution_count": 93,
   "id": "91b1ddf3",
   "metadata": {
    "scrolled": true
   },
   "outputs": [
    {
     "data": {
      "text/plain": [
       "count    777715.000000\n",
       "mean          0.300965\n",
       "std           0.458678\n",
       "min           0.000000\n",
       "25%           0.000000\n",
       "50%           0.000000\n",
       "75%           1.000000\n",
       "max           1.000000\n",
       "Name: FLAG_PHONE, dtype: float64"
      ]
     },
     "execution_count": 93,
     "metadata": {},
     "output_type": "execute_result"
    }
   ],
   "source": [
    "data[\"FLAG_PHONE\"].describe()"
   ]
  },
  {
   "cell_type": "code",
   "execution_count": 94,
   "id": "35854321",
   "metadata": {
    "scrolled": true
   },
   "outputs": [
    {
     "data": {
      "text/plain": [
       "0    543650\n",
       "1    234065\n",
       "Name: FLAG_PHONE, dtype: int64"
      ]
     },
     "execution_count": 94,
     "metadata": {},
     "output_type": "execute_result"
    }
   ],
   "source": [
    "data[\"FLAG_PHONE\"].value_counts()"
   ]
  },
  {
   "cell_type": "code",
   "execution_count": 95,
   "id": "59dd6e20",
   "metadata": {
    "scrolled": true
   },
   "outputs": [
    {
     "data": {
      "image/png": "[encoded data removed]",
      "text/plain": [
       "<Figure size 432x288 with 1 Axes>"
      ]
     },
     "metadata": {},
     "output_type": "display_data"
    }
   ],
   "source": [
    "# Creating Countplot of FLAG_PHONE\n",
    "\n",
    "sns.countplot(x = \"FLAG_PHONE\", data = data, palette = \"hls\")\n",
    "plt.show()"
   ]
  },
  {
   "cell_type": "markdown",
   "id": "43b39ac5",
   "metadata": {},
   "source": [
    "#### 3.1.2.9 FLAG_EMAIL"
   ]
  },
  {
   "cell_type": "code",
   "execution_count": 96,
   "id": "e0a17df5",
   "metadata": {},
   "outputs": [
    {
     "name": "stdout",
     "output_type": "stream",
     "text": [
      "Null Value in FLAG_EMAIL : 0\n",
      "Number of Unique Values in FLAG_EMAIL : 2\n"
     ]
    }
   ],
   "source": [
    "# Number of null values and unique values in FLAG_EMAIL\n",
    "\n",
    "print(\"Null Value in FLAG_EMAIL :\", data['FLAG_EMAIL'].isnull().sum())\n",
    "print(\"Number of Unique Values in FLAG_EMAIL :\", data['FLAG_EMAIL'].nunique())"
   ]
  },
  {
   "cell_type": "code",
   "execution_count": 97,
   "id": "6b7b7fa6",
   "metadata": {
    "scrolled": true
   },
   "outputs": [
    {
     "data": {
      "text/plain": [
       "count    777715.000000\n",
       "mean          0.091675\n",
       "std           0.288567\n",
       "min           0.000000\n",
       "25%           0.000000\n",
       "50%           0.000000\n",
       "75%           0.000000\n",
       "max           1.000000\n",
       "Name: FLAG_EMAIL, dtype: float64"
      ]
     },
     "execution_count": 97,
     "metadata": {},
     "output_type": "execute_result"
    }
   ],
   "source": [
    "data[\"FLAG_EMAIL\"].describe()"
   ]
  },
  {
   "cell_type": "code",
   "execution_count": 98,
   "id": "cd5983b2",
   "metadata": {
    "scrolled": true
   },
   "outputs": [
    {
     "data": {
      "text/plain": [
       "0    706418\n",
       "1     71297\n",
       "Name: FLAG_EMAIL, dtype: int64"
      ]
     },
     "execution_count": 98,
     "metadata": {},
     "output_type": "execute_result"
    }
   ],
   "source": [
    "data[\"FLAG_EMAIL\"].value_counts()"
   ]
  },
  {
   "cell_type": "code",
   "execution_count": 99,
   "id": "e0638ec5",
   "metadata": {
    "scrolled": true
   },
   "outputs": [
    {
     "data": {
      "image/png": "[encoded data removed]",
      "text/plain": [
       "<Figure size 432x288 with 1 Axes>"
      ]
     },
     "metadata": {},
     "output_type": "display_data"
    }
   ],
   "source": [
    "# Creating Countplot of FLAG_EMAIL\n",
    "\n",
    "sns.countplot(x = \"FLAG_EMAIL\", data = data, palette = \"hls\")\n",
    "plt.show()"
   ]
  },
  {
   "cell_type": "markdown",
   "id": "87904407",
   "metadata": {},
   "source": [
    "#### 3.1.2.10 CNT_FAM_MEMBERS"
   ]
  },
  {
   "cell_type": "code",
   "execution_count": 100,
   "id": "a893e074",
   "metadata": {},
   "outputs": [
    {
     "name": "stdout",
     "output_type": "stream",
     "text": [
      "Null Value in CNT_FAM_MEMBERS : 0\n",
      "Number of Unique Values in CNT_FAM_MEMBERS : 10\n"
     ]
    }
   ],
   "source": [
    "# Number of null values and unique values in CNT_FAM_MEMBERS\n",
    "\n",
    "print(\"Null Value in CNT_FAM_MEMBERS :\", data['CNT_FAM_MEMBERS'].isnull().sum())\n",
    "print(\"Number of Unique Values in CNT_FAM_MEMBERS :\", data['CNT_FAM_MEMBERS'].nunique())"
   ]
  },
  {
   "cell_type": "code",
   "execution_count": 101,
   "id": "84c42e50",
   "metadata": {
    "scrolled": true
   },
   "outputs": [
    {
     "data": {
      "text/plain": [
       "count    777715.000000\n",
       "mean          2.208837\n",
       "std           0.907380\n",
       "min           1.000000\n",
       "25%           2.000000\n",
       "50%           2.000000\n",
       "75%           3.000000\n",
       "max          20.000000\n",
       "Name: CNT_FAM_MEMBERS, dtype: float64"
      ]
     },
     "execution_count": 101,
     "metadata": {},
     "output_type": "execute_result"
    }
   ],
   "source": [
    "data[\"CNT_FAM_MEMBERS\"].describe()"
   ]
  },
  {
   "cell_type": "code",
   "execution_count": 102,
   "id": "5cd701c7",
   "metadata": {
    "scrolled": true
   },
   "outputs": [
    {
     "data": {
      "text/plain": [
       "2.0     423723\n",
       "1.0     141477\n",
       "3.0     134894\n",
       "4.0      66990\n",
       "5.0       8999\n",
       "6.0       1196\n",
       "7.0        273\n",
       "15.0       111\n",
       "9.0         46\n",
       "20.0         6\n",
       "Name: CNT_FAM_MEMBERS, dtype: int64"
      ]
     },
     "execution_count": 102,
     "metadata": {},
     "output_type": "execute_result"
    }
   ],
   "source": [
    "data[\"CNT_FAM_MEMBERS\"].value_counts()"
   ]
  },
  {
   "cell_type": "code",
   "execution_count": 103,
   "id": "96bafbee",
   "metadata": {},
   "outputs": [
    {
     "data": {
      "text/plain": [
       "Text(17.200000000000003, 0.5, 'CNT_FAM_MEMBERS')"
      ]
     },
     "execution_count": 103,
     "metadata": {},
     "output_type": "execute_result"
    },
    {
     "data": {
      "image/png": "[encoded data removed]",
      "text/plain": [
       "<Figure size 432x288 with 1 Axes>"
      ]
     },
     "metadata": {},
     "output_type": "display_data"
    }
   ],
   "source": [
    "# Creating Box plot of CNT_FAM_MEMBERS\n",
    "\n",
    "sns.set(style=\"darkgrid\")\n",
    "sns.boxplot(x=\"CNT_FAM_MEMBERS\", data = data, color='orange')\n",
    "ax.set_title('Boxplot of CNT_FAM_MEMBERS')\n",
    "ax.set_xlabel('Count')\n",
    "ax.set_ylabel('CNT_FAM_MEMBERS')"
   ]
  },
  {
   "cell_type": "markdown",
   "id": "cba2442d",
   "metadata": {},
   "source": [
    "#### 3.1.2.11 MONTHS_BALANCE"
   ]
  },
  {
   "cell_type": "code",
   "execution_count": 104,
   "id": "65c496a0",
   "metadata": {},
   "outputs": [
    {
     "name": "stdout",
     "output_type": "stream",
     "text": [
      "Null Value in MONTHS_BALANCE : 0\n",
      "Number of Unique Values in MONTHS_BALANCE : 61\n"
     ]
    }
   ],
   "source": [
    "# Number of null values and unique values in MONTHS_BALANCE\n",
    "\n",
    "print(\"Null Value in MONTHS_BALANCE :\", data['MONTHS_BALANCE'].isnull().sum())\n",
    "print(\"Number of Unique Values in MONTHS_BALANCE :\", data['MONTHS_BALANCE'].nunique())"
   ]
  },
  {
   "cell_type": "code",
   "execution_count": 105,
   "id": "d8983748",
   "metadata": {
    "scrolled": true
   },
   "outputs": [
    {
     "data": {
      "text/plain": [
       "count    777715.000000\n",
       "mean        -19.373564\n",
       "std          14.082208\n",
       "min         -60.000000\n",
       "25%         -29.000000\n",
       "50%         -17.000000\n",
       "75%          -8.000000\n",
       "max           0.000000\n",
       "Name: MONTHS_BALANCE, dtype: float64"
      ]
     },
     "execution_count": 105,
     "metadata": {},
     "output_type": "execute_result"
    }
   ],
   "source": [
    "data[\"MONTHS_BALANCE\"].describe()"
   ]
  },
  {
   "cell_type": "code",
   "execution_count": 106,
   "id": "79da2095",
   "metadata": {
    "scrolled": true
   },
   "outputs": [
    {
     "data": {
      "text/plain": [
       "-1     24963\n",
       "-2     24871\n",
       " 0     24672\n",
       "-3     24644\n",
       "-4     24274\n",
       "       ...  \n",
       "-56     1588\n",
       "-57     1253\n",
       "-58      955\n",
       "-59      627\n",
       "-60      321\n",
       "Name: MONTHS_BALANCE, Length: 61, dtype: int64"
      ]
     },
     "execution_count": 106,
     "metadata": {},
     "output_type": "execute_result"
    }
   ],
   "source": [
    "data[\"MONTHS_BALANCE\"].value_counts()"
   ]
  },
  {
   "cell_type": "code",
   "execution_count": 107,
   "id": "5d11202d",
   "metadata": {
    "scrolled": true
   },
   "outputs": [
    {
     "data": {
      "text/html": [
       "<div>\n",
       "<style scoped>\n",
       "    .dataframe tbody tr th:only-of-type {\n",
       "        vertical-align: middle;\n",
       "    }\n",
       "\n",
       "    .dataframe tbody tr th {\n",
       "        vertical-align: top;\n",
       "    }\n",
       "\n",
       "    .dataframe thead th {\n",
       "        text-align: right;\n",
       "    }\n",
       "</style>\n",
       "<table border=\"1\" class=\"dataframe\">\n",
       "  <thead>\n",
       "    <tr style=\"text-align: right;\">\n",
       "      <th></th>\n",
       "      <th>ID</th>\n",
       "      <th>CNT_CHILDREN</th>\n",
       "      <th>AMT_INCOME_TOTAL</th>\n",
       "      <th>DAYS_BIRTH</th>\n",
       "      <th>DAYS_EMPLOYED</th>\n",
       "      <th>FLAG_MOBIL</th>\n",
       "      <th>FLAG_WORK_PHONE</th>\n",
       "      <th>FLAG_PHONE</th>\n",
       "      <th>FLAG_EMAIL</th>\n",
       "      <th>CNT_FAM_MEMBERS</th>\n",
       "      <th>MONTHS_BALANCE</th>\n",
       "    </tr>\n",
       "  </thead>\n",
       "  <tbody>\n",
       "    <tr>\n",
       "      <th>ID</th>\n",
       "      <td>1.000000</td>\n",
       "      <td>0.026269</td>\n",
       "      <td>-0.027597</td>\n",
       "      <td>0.042020</td>\n",
       "      <td>-0.025322</td>\n",
       "      <td>NaN</td>\n",
       "      <td>0.084800</td>\n",
       "      <td>0.006346</td>\n",
       "      <td>-0.056083</td>\n",
       "      <td>0.027375</td>\n",
       "      <td>0.005007</td>\n",
       "    </tr>\n",
       "    <tr>\n",
       "      <th>CNT_CHILDREN</th>\n",
       "      <td>0.026269</td>\n",
       "      <td>1.000000</td>\n",
       "      <td>0.039304</td>\n",
       "      <td>0.356177</td>\n",
       "      <td>-0.228945</td>\n",
       "      <td>NaN</td>\n",
       "      <td>0.042226</td>\n",
       "      <td>-0.018882</td>\n",
       "      <td>0.015726</td>\n",
       "      <td>0.892079</td>\n",
       "      <td>0.000913</td>\n",
       "    </tr>\n",
       "    <tr>\n",
       "      <th>AMT_INCOME_TOTAL</th>\n",
       "      <td>-0.027597</td>\n",
       "      <td>0.039304</td>\n",
       "      <td>1.000000</td>\n",
       "      <td>0.081231</td>\n",
       "      <td>-0.180674</td>\n",
       "      <td>NaN</td>\n",
       "      <td>-0.021229</td>\n",
       "      <td>0.018687</td>\n",
       "      <td>0.085776</td>\n",
       "      <td>0.031379</td>\n",
       "      <td>0.001831</td>\n",
       "    </tr>\n",
       "    <tr>\n",
       "      <th>DAYS_BIRTH</th>\n",
       "      <td>0.042020</td>\n",
       "      <td>0.356177</td>\n",
       "      <td>0.081231</td>\n",
       "      <td>1.000000</td>\n",
       "      <td>-0.608856</td>\n",
       "      <td>NaN</td>\n",
       "      <td>0.180658</td>\n",
       "      <td>-0.026717</td>\n",
       "      <td>0.100945</td>\n",
       "      <td>0.327750</td>\n",
       "      <td>0.035756</td>\n",
       "    </tr>\n",
       "    <tr>\n",
       "      <th>DAYS_EMPLOYED</th>\n",
       "      <td>-0.025322</td>\n",
       "      <td>-0.228945</td>\n",
       "      <td>-0.180674</td>\n",
       "      <td>-0.608856</td>\n",
       "      <td>1.000000</td>\n",
       "      <td>NaN</td>\n",
       "      <td>-0.243677</td>\n",
       "      <td>-0.013817</td>\n",
       "      <td>-0.082474</td>\n",
       "      <td>-0.227645</td>\n",
       "      <td>-0.004222</td>\n",
       "    </tr>\n",
       "    <tr>\n",
       "      <th>FLAG_MOBIL</th>\n",
       "      <td>NaN</td>\n",
       "      <td>NaN</td>\n",
       "      <td>NaN</td>\n",
       "      <td>NaN</td>\n",
       "      <td>NaN</td>\n",
       "      <td>NaN</td>\n",
       "      <td>NaN</td>\n",
       "      <td>NaN</td>\n",
       "      <td>NaN</td>\n",
       "      <td>NaN</td>\n",
       "      <td>NaN</td>\n",
       "    </tr>\n",
       "    <tr>\n",
       "      <th>FLAG_WORK_PHONE</th>\n",
       "      <td>0.084800</td>\n",
       "      <td>0.042226</td>\n",
       "      <td>-0.021229</td>\n",
       "      <td>0.180658</td>\n",
       "      <td>-0.243677</td>\n",
       "      <td>NaN</td>\n",
       "      <td>1.000000</td>\n",
       "      <td>0.312552</td>\n",
       "      <td>-0.037991</td>\n",
       "      <td>0.060183</td>\n",
       "      <td>0.001529</td>\n",
       "    </tr>\n",
       "    <tr>\n",
       "      <th>FLAG_PHONE</th>\n",
       "      <td>0.006346</td>\n",
       "      <td>-0.018882</td>\n",
       "      <td>0.018687</td>\n",
       "      <td>-0.026717</td>\n",
       "      <td>-0.013817</td>\n",
       "      <td>NaN</td>\n",
       "      <td>0.312552</td>\n",
       "      <td>1.000000</td>\n",
       "      <td>0.011901</td>\n",
       "      <td>-0.007824</td>\n",
       "      <td>-0.005120</td>\n",
       "    </tr>\n",
       "    <tr>\n",
       "      <th>FLAG_EMAIL</th>\n",
       "      <td>-0.056083</td>\n",
       "      <td>0.015726</td>\n",
       "      <td>0.085776</td>\n",
       "      <td>0.100945</td>\n",
       "      <td>-0.082474</td>\n",
       "      <td>NaN</td>\n",
       "      <td>-0.037991</td>\n",
       "      <td>0.011901</td>\n",
       "      <td>1.000000</td>\n",
       "      <td>0.012540</td>\n",
       "      <td>0.005288</td>\n",
       "    </tr>\n",
       "    <tr>\n",
       "      <th>CNT_FAM_MEMBERS</th>\n",
       "      <td>0.027375</td>\n",
       "      <td>0.892079</td>\n",
       "      <td>0.031379</td>\n",
       "      <td>0.327750</td>\n",
       "      <td>-0.227645</td>\n",
       "      <td>NaN</td>\n",
       "      <td>0.060183</td>\n",
       "      <td>-0.007824</td>\n",
       "      <td>0.012540</td>\n",
       "      <td>1.000000</td>\n",
       "      <td>-0.006276</td>\n",
       "    </tr>\n",
       "    <tr>\n",
       "      <th>MONTHS_BALANCE</th>\n",
       "      <td>0.005007</td>\n",
       "      <td>0.000913</td>\n",
       "      <td>0.001831</td>\n",
       "      <td>0.035756</td>\n",
       "      <td>-0.004222</td>\n",
       "      <td>NaN</td>\n",
       "      <td>0.001529</td>\n",
       "      <td>-0.005120</td>\n",
       "      <td>0.005288</td>\n",
       "      <td>-0.006276</td>\n",
       "      <td>1.000000</td>\n",
       "    </tr>\n",
       "  </tbody>\n",
       "</table>\n",
       "</div>"
      ],
      "text/plain": [
       "                        ID  CNT_CHILDREN  AMT_INCOME_TOTAL  DAYS_BIRTH  \\\n",
       "ID                1.000000      0.026269         -0.027597    0.042020   \n",
       "CNT_CHILDREN      0.026269      1.000000          0.039304    0.356177   \n",
       "AMT_INCOME_TOTAL -0.027597      0.039304          1.000000    0.081231   \n",
       "DAYS_BIRTH        0.042020      0.356177          0.081231    1.000000   \n",
       "DAYS_EMPLOYED    -0.025322     -0.228945         -0.180674   -0.608856   \n",
       "FLAG_MOBIL             NaN           NaN               NaN         NaN   \n",
       "FLAG_WORK_PHONE   0.084800      0.042226         -0.021229    0.180658   \n",
       "FLAG_PHONE        0.006346     -0.018882          0.018687   -0.026717   \n",
       "FLAG_EMAIL       -0.056083      0.015726          0.085776    0.100945   \n",
       "CNT_FAM_MEMBERS   0.027375      0.892079          0.031379    0.327750   \n",
       "MONTHS_BALANCE    0.005007      0.000913          0.001831    0.035756   \n",
       "\n",
       "                  DAYS_EMPLOYED  FLAG_MOBIL  FLAG_WORK_PHONE  FLAG_PHONE  \\\n",
       "ID                    -0.025322         NaN         0.084800    0.006346   \n",
       "CNT_CHILDREN          -0.228945         NaN         0.042226   -0.018882   \n",
       "AMT_INCOME_TOTAL      -0.180674         NaN        -0.021229    0.018687   \n",
       "DAYS_BIRTH            -0.608856         NaN         0.180658   -0.026717   \n",
       "DAYS_EMPLOYED          1.000000         NaN        -0.243677   -0.013817   \n",
       "FLAG_MOBIL                  NaN         NaN              NaN         NaN   \n",
       "FLAG_WORK_PHONE       -0.243677         NaN         1.000000    0.312552   \n",
       "FLAG_PHONE            -0.013817         NaN         0.312552    1.000000   \n",
       "FLAG_EMAIL            -0.082474         NaN        -0.037991    0.011901   \n",
       "CNT_FAM_MEMBERS       -0.227645         NaN         0.060183   -0.007824   \n",
       "MONTHS_BALANCE        -0.004222         NaN         0.001529   -0.005120   \n",
       "\n",
       "                  FLAG_EMAIL  CNT_FAM_MEMBERS  MONTHS_BALANCE  \n",
       "ID                 -0.056083         0.027375        0.005007  \n",
       "CNT_CHILDREN        0.015726         0.892079        0.000913  \n",
       "AMT_INCOME_TOTAL    0.085776         0.031379        0.001831  \n",
       "DAYS_BIRTH          0.100945         0.327750        0.035756  \n",
       "DAYS_EMPLOYED      -0.082474        -0.227645       -0.004222  \n",
       "FLAG_MOBIL               NaN              NaN             NaN  \n",
       "FLAG_WORK_PHONE    -0.037991         0.060183        0.001529  \n",
       "FLAG_PHONE          0.011901        -0.007824       -0.005120  \n",
       "FLAG_EMAIL          1.000000         0.012540        0.005288  \n",
       "CNT_FAM_MEMBERS     0.012540         1.000000       -0.006276  \n",
       "MONTHS_BALANCE      0.005288        -0.006276        1.000000  "
      ]
     },
     "execution_count": 107,
     "metadata": {},
     "output_type": "execute_result"
    }
   ],
   "source": [
    "# Checking correlation between columns\n",
    "\n",
    "data.corr()"
   ]
  },
  {
   "cell_type": "markdown",
   "id": "e7e379fc",
   "metadata": {},
   "source": [
    "# 4 Data Preprocessing"
   ]
  },
  {
   "cell_type": "markdown",
   "id": "82abaa12",
   "metadata": {},
   "source": [
    "## 4.1 Drop unecessary feature"
   ]
  },
  {
   "cell_type": "code",
   "execution_count": 108,
   "id": "3088f4c7",
   "metadata": {},
   "outputs": [],
   "source": [
    "# ID column is not required for model preparation so we will drop the that column\n",
    "\n",
    "data.drop(\"ID\", inplace = True, axis = 1)"
   ]
  },
  {
   "cell_type": "code",
   "execution_count": 109,
   "id": "51d30d4b",
   "metadata": {},
   "outputs": [],
   "source": [
    "#FLAG_MOBIL column is not correlated to any feature so we will drop the that column\n",
    "\n",
    "data.drop(\"FLAG_MOBIL\", inplace = True, axis = 1)"
   ]
  },
  {
   "cell_type": "markdown",
   "id": "e441fbdf",
   "metadata": {},
   "source": [
    "## 4.2 Treatment of Null Values"
   ]
  },
  {
   "cell_type": "code",
   "execution_count": 110,
   "id": "834e9c60",
   "metadata": {},
   "outputs": [
    {
     "data": {
      "text/plain": [
       "CODE_GENDER                 0\n",
       "FLAG_OWN_CAR                0\n",
       "FLAG_OWN_REALTY             0\n",
       "CNT_CHILDREN                0\n",
       "AMT_INCOME_TOTAL            0\n",
       "NAME_INCOME_TYPE            0\n",
       "NAME_EDUCATION_TYPE         0\n",
       "NAME_FAMILY_STATUS          0\n",
       "NAME_HOUSING_TYPE           0\n",
       "DAYS_BIRTH                  0\n",
       "DAYS_EMPLOYED               0\n",
       "FLAG_WORK_PHONE             0\n",
       "FLAG_PHONE                  0\n",
       "FLAG_EMAIL                  0\n",
       "OCCUPATION_TYPE        240048\n",
       "CNT_FAM_MEMBERS             0\n",
       "MONTHS_BALANCE              0\n",
       "STATUS                      0\n",
       "dtype: int64"
      ]
     },
     "execution_count": 110,
     "metadata": {},
     "output_type": "execute_result"
    }
   ],
   "source": [
    "# Checking which column has null values\n",
    "\n",
    "data.isnull().sum()"
   ]
  },
  {
   "cell_type": "code",
   "execution_count": 111,
   "id": "c39cea46",
   "metadata": {},
   "outputs": [],
   "source": [
    "# Only one column \"OCCUPATION_TYPE\" has null values\n",
    "#Replacing Null values in \"OCCUPATION_TYPE\" with mode"
   ]
  },
  {
   "cell_type": "code",
   "execution_count": 112,
   "id": "46ee1298",
   "metadata": {},
   "outputs": [
    {
     "data": {
      "text/plain": [
       "0    Laborers\n",
       "Name: OCCUPATION_TYPE, dtype: object"
      ]
     },
     "execution_count": 112,
     "metadata": {},
     "output_type": "execute_result"
    }
   ],
   "source": [
    "data['OCCUPATION_TYPE'].mode()"
   ]
  },
  {
   "cell_type": "code",
   "execution_count": 113,
   "id": "0a525f1e",
   "metadata": {},
   "outputs": [],
   "source": [
    "mode = \"Laborers\""
   ]
  },
  {
   "cell_type": "code",
   "execution_count": 114,
   "id": "ba2ed817",
   "metadata": {},
   "outputs": [],
   "source": [
    "# Changing all the null values with \"Other\"\n",
    "\n",
    "data['OCCUPATION_TYPE'].fillna(mode ,inplace = True)\n",
    "\n",
    "#data['OCCUPATION_TYPE'].fillna(ot_mode,inplace = True)\n",
    "\n",
    "#data['OCCUPATION_TYPE'].replace(np.nan, mode)"
   ]
  },
  {
   "cell_type": "code",
   "execution_count": 115,
   "id": "e3a7c85a",
   "metadata": {
    "scrolled": true
   },
   "outputs": [
    {
     "data": {
      "text/plain": [
       "CODE_GENDER            0\n",
       "FLAG_OWN_CAR           0\n",
       "FLAG_OWN_REALTY        0\n",
       "CNT_CHILDREN           0\n",
       "AMT_INCOME_TOTAL       0\n",
       "NAME_INCOME_TYPE       0\n",
       "NAME_EDUCATION_TYPE    0\n",
       "NAME_FAMILY_STATUS     0\n",
       "NAME_HOUSING_TYPE      0\n",
       "DAYS_BIRTH             0\n",
       "DAYS_EMPLOYED          0\n",
       "FLAG_WORK_PHONE        0\n",
       "FLAG_PHONE             0\n",
       "FLAG_EMAIL             0\n",
       "OCCUPATION_TYPE        0\n",
       "CNT_FAM_MEMBERS        0\n",
       "MONTHS_BALANCE         0\n",
       "STATUS                 0\n",
       "dtype: int64"
      ]
     },
     "execution_count": 115,
     "metadata": {},
     "output_type": "execute_result"
    }
   ],
   "source": [
    "# Re-checking for any null values\n",
    "\n",
    "data.isnull().sum()"
   ]
  },
  {
   "cell_type": "markdown",
   "id": "f8336a45",
   "metadata": {},
   "source": [
    "## 4.3 Encoding"
   ]
  },
  {
   "cell_type": "code",
   "execution_count": 116,
   "id": "d2a51fbc",
   "metadata": {},
   "outputs": [
    {
     "data": {
      "text/plain": [
       "['CODE_GENDER',\n",
       " 'FLAG_OWN_CAR',\n",
       " 'FLAG_OWN_REALTY',\n",
       " 'NAME_INCOME_TYPE',\n",
       " 'NAME_EDUCATION_TYPE',\n",
       " 'NAME_FAMILY_STATUS',\n",
       " 'NAME_HOUSING_TYPE',\n",
       " 'OCCUPATION_TYPE',\n",
       " 'STATUS']"
      ]
     },
     "execution_count": 116,
     "metadata": {},
     "output_type": "execute_result"
    }
   ],
   "source": [
    "data_cat"
   ]
  },
  {
   "cell_type": "code",
   "execution_count": 117,
   "id": "c83ff964",
   "metadata": {},
   "outputs": [
    {
     "name": "stdout",
     "output_type": "stream",
     "text": [
      "0         1\n",
      "1         1\n",
      "2         1\n",
      "3         1\n",
      "4         1\n",
      "         ..\n",
      "777710    1\n",
      "777711    1\n",
      "777712    1\n",
      "777713    1\n",
      "777714    1\n",
      "Name: CODE_GENDER, Length: 777715, dtype: int64\n",
      "0    518851\n",
      "1    258864\n",
      "Name: CODE_GENDER, dtype: int64\n"
     ]
    }
   ],
   "source": [
    "# CODE_GENDER\n",
    "\n",
    "data['CODE_GENDER'] = data['CODE_GENDER'].apply(lambda x:1 if x == \"M\" else 0)\n",
    "print(data['CODE_GENDER'])\n",
    "print(data['CODE_GENDER'].value_counts())"
   ]
  },
  {
   "cell_type": "code",
   "execution_count": 118,
   "id": "59d7bb30",
   "metadata": {},
   "outputs": [
    {
     "name": "stdout",
     "output_type": "stream",
     "text": [
      "0         1\n",
      "1         1\n",
      "2         1\n",
      "3         1\n",
      "4         1\n",
      "         ..\n",
      "777710    0\n",
      "777711    0\n",
      "777712    0\n",
      "777713    0\n",
      "777714    0\n",
      "Name: FLAG_OWN_CAR, Length: 777715, dtype: int64\n",
      "0    473355\n",
      "1    304360\n",
      "Name: FLAG_OWN_CAR, dtype: int64\n"
     ]
    }
   ],
   "source": [
    "# FLAG_OWN_CAR\n",
    "\n",
    "data['FLAG_OWN_CAR'] = data['FLAG_OWN_CAR'].apply(lambda x:1 if x == \"Y\" else 0)\n",
    "print(data['FLAG_OWN_CAR'])\n",
    "print(data['FLAG_OWN_CAR'].value_counts())"
   ]
  },
  {
   "cell_type": "code",
   "execution_count": 119,
   "id": "a99e98b1",
   "metadata": {},
   "outputs": [
    {
     "name": "stdout",
     "output_type": "stream",
     "text": [
      "0         1\n",
      "1         1\n",
      "2         1\n",
      "3         1\n",
      "4         1\n",
      "         ..\n",
      "777710    1\n",
      "777711    1\n",
      "777712    1\n",
      "777713    1\n",
      "777714    1\n",
      "Name: FLAG_OWN_REALTY, Length: 777715, dtype: int64\n",
      "1    512948\n",
      "0    264767\n",
      "Name: FLAG_OWN_REALTY, dtype: int64\n"
     ]
    }
   ],
   "source": [
    "# FLAG_OWN_REALTY\n",
    "\n",
    "data['FLAG_OWN_REALTY'] = data['FLAG_OWN_REALTY'].apply(lambda x:1 if x == \"Y\" else 0)\n",
    "print(data['FLAG_OWN_REALTY'])\n",
    "print(data['FLAG_OWN_REALTY'].value_counts())"
   ]
  },
  {
   "cell_type": "code",
   "execution_count": 120,
   "id": "b7022f1f",
   "metadata": {},
   "outputs": [],
   "source": [
    "#This function takes no of days and convert it into their datetime format\n",
    "\n",
    "def Date_of_Birth(total_days):\n",
    "    today = datetime.date.today()\n",
    "    birthday = (today + timedelta(days=total_days)).strftime('%Y-%m-%d')\n",
    "    return birthday           \n",
    "\n",
    "# A function to calculate age of the employee\n",
    "\n",
    "def AGE(date_of_birth):\n",
    "    today=datetime.date.today()\n",
    "    dateofbirth=datetime.datetime.strptime(date_of_birth,'%Y-%m-%d')\n",
    "    age=today.year-dateofbirth.year\n",
    "    return age"
   ]
  },
  {
   "cell_type": "code",
   "execution_count": 121,
   "id": "de2378d0",
   "metadata": {},
   "outputs": [
    {
     "data": {
      "text/plain": [
       "0    1990-03-13\n",
       "1    1990-03-13\n",
       "2    1990-03-13\n",
       "3    1990-03-13\n",
       "4    1990-03-13\n",
       "Name: DAYS_BIRTH, dtype: object"
      ]
     },
     "execution_count": 121,
     "metadata": {},
     "output_type": "execute_result"
    }
   ],
   "source": [
    "# DAYS_BIRTH\n",
    "\n",
    "data['DAYS_BIRTH'] = data['DAYS_BIRTH'].apply(Date_of_Birth)\n",
    "data['DAYS_BIRTH'].head()"
   ]
  },
  {
   "cell_type": "code",
   "execution_count": 122,
   "id": "31cf249d",
   "metadata": {
    "scrolled": true
   },
   "outputs": [
    {
     "data": {
      "text/plain": [
       "0         33\n",
       "1         33\n",
       "2         33\n",
       "3         33\n",
       "4         33\n",
       "          ..\n",
       "777710    26\n",
       "777711    26\n",
       "777712    26\n",
       "777713    26\n",
       "777714    26\n",
       "Name: DAYS_BIRTH, Length: 777715, dtype: int64"
      ]
     },
     "execution_count": 122,
     "metadata": {},
     "output_type": "execute_result"
    }
   ],
   "source": [
    "# Converting Date format to number of years\n",
    "\n",
    "data['DAYS_BIRTH'] = data['DAYS_BIRTH'].apply(AGE)\n",
    "data['DAYS_BIRTH']"
   ]
  },
  {
   "cell_type": "code",
   "execution_count": 123,
   "id": "295e8927",
   "metadata": {},
   "outputs": [],
   "source": [
    "#This Function takes value of colunn Days of Employed and convert it into datetime format\n",
    "\n",
    "def Employed_day(total_days):\n",
    "    today = datetime.date.today()\n",
    "    employed_date = (today + timedelta(days=total_days)).strftime('%Y-%m-%d')\n",
    "    return employed_date"
   ]
  },
  {
   "cell_type": "code",
   "execution_count": 124,
   "id": "862ca7eb",
   "metadata": {},
   "outputs": [
    {
     "data": {
      "text/plain": [
       "0    2010-08-18\n",
       "1    2010-08-18\n",
       "2    2010-08-18\n",
       "3    2010-08-18\n",
       "4    2010-08-18\n",
       "Name: DAYS_EMPLOYED, dtype: object"
      ]
     },
     "execution_count": 124,
     "metadata": {},
     "output_type": "execute_result"
    }
   ],
   "source": [
    "# DAYS_EMPLOYED\n",
    "\n",
    "data['DAYS_EMPLOYED'] = data['DAYS_EMPLOYED'].apply(Employed_day)\n",
    "data['DAYS_EMPLOYED'].head()"
   ]
  },
  {
   "cell_type": "code",
   "execution_count": 125,
   "id": "6736bbad",
   "metadata": {},
   "outputs": [
    {
     "data": {
      "text/plain": [
       "0         13\n",
       "1         13\n",
       "2         13\n",
       "3         13\n",
       "4         13\n",
       "          ..\n",
       "777710     4\n",
       "777711     4\n",
       "777712     4\n",
       "777713     4\n",
       "777714     4\n",
       "Name: DAYS_EMPLOYED, Length: 777715, dtype: int64"
      ]
     },
     "execution_count": 125,
     "metadata": {},
     "output_type": "execute_result"
    }
   ],
   "source": [
    "# Converting Date format to number of years\n",
    "\n",
    "data['DAYS_EMPLOYED'] = data['DAYS_EMPLOYED'].apply(AGE)\n",
    "data['DAYS_EMPLOYED']"
   ]
  },
  {
   "cell_type": "code",
   "execution_count": 126,
   "id": "7a7285cc",
   "metadata": {},
   "outputs": [],
   "source": [
    "# Renaming DAYS_BIRTH and DAYS_EMPLOYED to AGE and YEARS_WORKED\n",
    "\n",
    "data.rename(columns = {'DAYS_BIRTH':'AGE'}, inplace = True)\n",
    "data.rename(columns = {'DAYS_EMPLOYED':'YEARS_WORKED'}, inplace = True)"
   ]
  },
  {
   "cell_type": "code",
   "execution_count": 127,
   "id": "95060c93",
   "metadata": {},
   "outputs": [
    {
     "data": {
      "text/plain": [
       "C    329536\n",
       "0    290654\n",
       "X    145950\n",
       "1      8747\n",
       "5      1527\n",
       "2       801\n",
       "3       286\n",
       "4       214\n",
       "Name: STATUS, dtype: int64"
      ]
     },
     "execution_count": 127,
     "metadata": {},
     "output_type": "execute_result"
    }
   ],
   "source": [
    "# STATUS\n",
    "\n",
    "data['STATUS'].value_counts()"
   ]
  },
  {
   "cell_type": "code",
   "execution_count": 128,
   "id": "f359aa39",
   "metadata": {},
   "outputs": [],
   "source": [
    "data.loc[data['STATUS'] == 'C','STATUS']=6\n",
    "data.loc[data['STATUS'] == 'X','STATUS']=7"
   ]
  },
  {
   "cell_type": "code",
   "execution_count": 129,
   "id": "68aa365b",
   "metadata": {},
   "outputs": [],
   "source": [
    "data['STATUS'] = data['STATUS'].astype(float)"
   ]
  },
  {
   "cell_type": "markdown",
   "id": "e2e67bae",
   "metadata": {},
   "source": [
    "#### Defining Target variable"
   ]
  },
  {
   "cell_type": "code",
   "execution_count": 130,
   "id": "7829948e",
   "metadata": {},
   "outputs": [],
   "source": [
    "# Defining Target variable\n",
    "# 1 represents Not Risky and the person will get Credit Card\n",
    "# 0 represents Risky and the person will not get Credit Card\n",
    "\n",
    "def solve(state):\n",
    "    target=''\n",
    "    if state in (2,3,4,5):\n",
    "        target = 0 #Risky\n",
    "    else :\n",
    "        target = 1 #Not Risky\n",
    "        \n",
    "    return target"
   ]
  },
  {
   "cell_type": "code",
   "execution_count": 131,
   "id": "a3ea3965",
   "metadata": {},
   "outputs": [],
   "source": [
    "# Creating Target Variable\n",
    "\n",
    "data['Target'] = data['STATUS'].apply(solve)"
   ]
  },
  {
   "cell_type": "code",
   "execution_count": 132,
   "id": "adfdbdf4",
   "metadata": {},
   "outputs": [
    {
     "data": {
      "text/plain": [
       "1    774887\n",
       "0      2828\n",
       "Name: Target, dtype: int64"
      ]
     },
     "execution_count": 132,
     "metadata": {},
     "output_type": "execute_result"
    }
   ],
   "source": [
    "data['Target'].value_counts()"
   ]
  },
  {
   "cell_type": "code",
   "execution_count": 133,
   "id": "63d4cdf4",
   "metadata": {
    "scrolled": false
   },
   "outputs": [
    {
     "name": "stdout",
     "output_type": "stream",
     "text": [
      "<class 'pandas.core.frame.DataFrame'>\n",
      "Int64Index: 777715 entries, 0 to 777714\n",
      "Data columns (total 19 columns):\n",
      " #   Column               Non-Null Count   Dtype  \n",
      "---  ------               --------------   -----  \n",
      " 0   CODE_GENDER          777715 non-null  int64  \n",
      " 1   FLAG_OWN_CAR         777715 non-null  int64  \n",
      " 2   FLAG_OWN_REALTY      777715 non-null  int64  \n",
      " 3   CNT_CHILDREN         777715 non-null  int64  \n",
      " 4   AMT_INCOME_TOTAL     777715 non-null  float64\n",
      " 5   NAME_INCOME_TYPE     777715 non-null  object \n",
      " 6   NAME_EDUCATION_TYPE  777715 non-null  object \n",
      " 7   NAME_FAMILY_STATUS   777715 non-null  object \n",
      " 8   NAME_HOUSING_TYPE    777715 non-null  object \n",
      " 9   AGE                  777715 non-null  int64  \n",
      " 10  YEARS_WORKED         777715 non-null  int64  \n",
      " 11  FLAG_WORK_PHONE      777715 non-null  int64  \n",
      " 12  FLAG_PHONE           777715 non-null  int64  \n",
      " 13  FLAG_EMAIL           777715 non-null  int64  \n",
      " 14  OCCUPATION_TYPE      777715 non-null  object \n",
      " 15  CNT_FAM_MEMBERS      777715 non-null  float64\n",
      " 16  MONTHS_BALANCE       777715 non-null  int64  \n",
      " 17  STATUS               777715 non-null  float64\n",
      " 18  Target               777715 non-null  int64  \n",
      "dtypes: float64(3), int64(11), object(5)\n",
      "memory usage: 118.7+ MB\n"
     ]
    }
   ],
   "source": [
    "data.info()"
   ]
  },
  {
   "cell_type": "code",
   "execution_count": 134,
   "id": "82322a87",
   "metadata": {
    "scrolled": false
   },
   "outputs": [
    {
     "data": {
      "text/html": [
       "<div>\n",
       "<style scoped>\n",
       "    .dataframe tbody tr th:only-of-type {\n",
       "        vertical-align: middle;\n",
       "    }\n",
       "\n",
       "    .dataframe tbody tr th {\n",
       "        vertical-align: top;\n",
       "    }\n",
       "\n",
       "    .dataframe thead th {\n",
       "        text-align: right;\n",
       "    }\n",
       "</style>\n",
       "<table border=\"1\" class=\"dataframe\">\n",
       "  <thead>\n",
       "    <tr style=\"text-align: right;\">\n",
       "      <th></th>\n",
       "      <th>CODE_GENDER</th>\n",
       "      <th>FLAG_OWN_CAR</th>\n",
       "      <th>FLAG_OWN_REALTY</th>\n",
       "      <th>CNT_CHILDREN</th>\n",
       "      <th>AMT_INCOME_TOTAL</th>\n",
       "      <th>NAME_INCOME_TYPE</th>\n",
       "      <th>NAME_EDUCATION_TYPE</th>\n",
       "      <th>NAME_FAMILY_STATUS</th>\n",
       "      <th>NAME_HOUSING_TYPE</th>\n",
       "      <th>AGE</th>\n",
       "      <th>YEARS_WORKED</th>\n",
       "      <th>FLAG_WORK_PHONE</th>\n",
       "      <th>FLAG_PHONE</th>\n",
       "      <th>FLAG_EMAIL</th>\n",
       "      <th>OCCUPATION_TYPE</th>\n",
       "      <th>CNT_FAM_MEMBERS</th>\n",
       "      <th>MONTHS_BALANCE</th>\n",
       "      <th>STATUS</th>\n",
       "      <th>Target</th>\n",
       "    </tr>\n",
       "  </thead>\n",
       "  <tbody>\n",
       "    <tr>\n",
       "      <th>0</th>\n",
       "      <td>1</td>\n",
       "      <td>1</td>\n",
       "      <td>1</td>\n",
       "      <td>0</td>\n",
       "      <td>427500.0</td>\n",
       "      <td>Working</td>\n",
       "      <td>Higher education</td>\n",
       "      <td>Civil marriage</td>\n",
       "      <td>Rented apartment</td>\n",
       "      <td>33</td>\n",
       "      <td>13</td>\n",
       "      <td>1</td>\n",
       "      <td>0</td>\n",
       "      <td>0</td>\n",
       "      <td>Laborers</td>\n",
       "      <td>2.0</td>\n",
       "      <td>0</td>\n",
       "      <td>6.0</td>\n",
       "      <td>1</td>\n",
       "    </tr>\n",
       "    <tr>\n",
       "      <th>1</th>\n",
       "      <td>1</td>\n",
       "      <td>1</td>\n",
       "      <td>1</td>\n",
       "      <td>0</td>\n",
       "      <td>427500.0</td>\n",
       "      <td>Working</td>\n",
       "      <td>Higher education</td>\n",
       "      <td>Civil marriage</td>\n",
       "      <td>Rented apartment</td>\n",
       "      <td>33</td>\n",
       "      <td>13</td>\n",
       "      <td>1</td>\n",
       "      <td>0</td>\n",
       "      <td>0</td>\n",
       "      <td>Laborers</td>\n",
       "      <td>2.0</td>\n",
       "      <td>-1</td>\n",
       "      <td>6.0</td>\n",
       "      <td>1</td>\n",
       "    </tr>\n",
       "    <tr>\n",
       "      <th>2</th>\n",
       "      <td>1</td>\n",
       "      <td>1</td>\n",
       "      <td>1</td>\n",
       "      <td>0</td>\n",
       "      <td>427500.0</td>\n",
       "      <td>Working</td>\n",
       "      <td>Higher education</td>\n",
       "      <td>Civil marriage</td>\n",
       "      <td>Rented apartment</td>\n",
       "      <td>33</td>\n",
       "      <td>13</td>\n",
       "      <td>1</td>\n",
       "      <td>0</td>\n",
       "      <td>0</td>\n",
       "      <td>Laborers</td>\n",
       "      <td>2.0</td>\n",
       "      <td>-2</td>\n",
       "      <td>6.0</td>\n",
       "      <td>1</td>\n",
       "    </tr>\n",
       "    <tr>\n",
       "      <th>3</th>\n",
       "      <td>1</td>\n",
       "      <td>1</td>\n",
       "      <td>1</td>\n",
       "      <td>0</td>\n",
       "      <td>427500.0</td>\n",
       "      <td>Working</td>\n",
       "      <td>Higher education</td>\n",
       "      <td>Civil marriage</td>\n",
       "      <td>Rented apartment</td>\n",
       "      <td>33</td>\n",
       "      <td>13</td>\n",
       "      <td>1</td>\n",
       "      <td>0</td>\n",
       "      <td>0</td>\n",
       "      <td>Laborers</td>\n",
       "      <td>2.0</td>\n",
       "      <td>-3</td>\n",
       "      <td>6.0</td>\n",
       "      <td>1</td>\n",
       "    </tr>\n",
       "    <tr>\n",
       "      <th>4</th>\n",
       "      <td>1</td>\n",
       "      <td>1</td>\n",
       "      <td>1</td>\n",
       "      <td>0</td>\n",
       "      <td>427500.0</td>\n",
       "      <td>Working</td>\n",
       "      <td>Higher education</td>\n",
       "      <td>Civil marriage</td>\n",
       "      <td>Rented apartment</td>\n",
       "      <td>33</td>\n",
       "      <td>13</td>\n",
       "      <td>1</td>\n",
       "      <td>0</td>\n",
       "      <td>0</td>\n",
       "      <td>Laborers</td>\n",
       "      <td>2.0</td>\n",
       "      <td>-4</td>\n",
       "      <td>6.0</td>\n",
       "      <td>1</td>\n",
       "    </tr>\n",
       "  </tbody>\n",
       "</table>\n",
       "</div>"
      ],
      "text/plain": [
       "   CODE_GENDER  FLAG_OWN_CAR  FLAG_OWN_REALTY  CNT_CHILDREN  AMT_INCOME_TOTAL  \\\n",
       "0            1             1                1             0          427500.0   \n",
       "1            1             1                1             0          427500.0   \n",
       "2            1             1                1             0          427500.0   \n",
       "3            1             1                1             0          427500.0   \n",
       "4            1             1                1             0          427500.0   \n",
       "\n",
       "  NAME_INCOME_TYPE NAME_EDUCATION_TYPE NAME_FAMILY_STATUS NAME_HOUSING_TYPE  \\\n",
       "0          Working    Higher education     Civil marriage  Rented apartment   \n",
       "1          Working    Higher education     Civil marriage  Rented apartment   \n",
       "2          Working    Higher education     Civil marriage  Rented apartment   \n",
       "3          Working    Higher education     Civil marriage  Rented apartment   \n",
       "4          Working    Higher education     Civil marriage  Rented apartment   \n",
       "\n",
       "   AGE  YEARS_WORKED  FLAG_WORK_PHONE  FLAG_PHONE  FLAG_EMAIL OCCUPATION_TYPE  \\\n",
       "0   33            13                1           0           0        Laborers   \n",
       "1   33            13                1           0           0        Laborers   \n",
       "2   33            13                1           0           0        Laborers   \n",
       "3   33            13                1           0           0        Laborers   \n",
       "4   33            13                1           0           0        Laborers   \n",
       "\n",
       "   CNT_FAM_MEMBERS  MONTHS_BALANCE  STATUS  Target  \n",
       "0              2.0               0     6.0       1  \n",
       "1              2.0              -1     6.0       1  \n",
       "2              2.0              -2     6.0       1  \n",
       "3              2.0              -3     6.0       1  \n",
       "4              2.0              -4     6.0       1  "
      ]
     },
     "execution_count": 134,
     "metadata": {},
     "output_type": "execute_result"
    }
   ],
   "source": [
    "data.head()"
   ]
  },
  {
   "cell_type": "markdown",
   "id": "d0dafbb8",
   "metadata": {},
   "source": [
    "## 4.4 Remove Outliers"
   ]
  },
  {
   "cell_type": "code",
   "execution_count": 135,
   "id": "276e612e",
   "metadata": {},
   "outputs": [],
   "source": [
    "# Defining Outliers Function\n",
    "\n",
    "def outliers(df,col):\n",
    "        IQR=df[col].quantile(0.75)-df[col].quantile(0.25)\n",
    "        LW=df[col].quantile(0.25)-(IQR*1.5)\n",
    "        UW=df[col].quantile(0.75)+(IQR*1.5)\n",
    "        print(\"For feature {} Lower Whisker is {} and Upper Whisker is {} \\n\".format(col,LW,UW))\n",
    "        df[col]=np.where(df[col]<LW,df[col].mean(),df[col])\n",
    "        df[col]=np.where(df[col]>UW,df[col].mean(),df[col])"
   ]
  },
  {
   "cell_type": "markdown",
   "id": "57639a99",
   "metadata": {},
   "source": [
    "### 4.4.1 CNT_CHILDREN"
   ]
  },
  {
   "cell_type": "code",
   "execution_count": 136,
   "id": "be592254",
   "metadata": {},
   "outputs": [
    {
     "data": {
      "text/plain": [
       "Text(17.200000000000003, 0.5, 'Count')"
      ]
     },
     "execution_count": 136,
     "metadata": {},
     "output_type": "execute_result"
    },
    {
     "data": {
      "image/png": "[encoded data removed]",
      "text/plain": [
       "<Figure size 432x288 with 1 Axes>"
      ]
     },
     "metadata": {},
     "output_type": "display_data"
    }
   ],
   "source": [
    "# Making Box plot to check presence of outliers\n",
    "\n",
    "sns.set(style=\"darkgrid\")\n",
    "sns.boxplot(data = data, y=\"CNT_CHILDREN\", color='red')\n",
    "ax.set_title('Boxplot of CNT_CHILDREN')\n",
    "ax.set_xlabel('CNT_CHILDREN')\n",
    "ax.set_ylabel('Count')"
   ]
  },
  {
   "cell_type": "code",
   "execution_count": 137,
   "id": "fca6a24a",
   "metadata": {
    "scrolled": false
   },
   "outputs": [
    {
     "data": {
      "text/plain": [
       "count    777715.000000\n",
       "mean          0.428082\n",
       "std           0.745755\n",
       "min           0.000000\n",
       "25%           0.000000\n",
       "50%           0.000000\n",
       "75%           1.000000\n",
       "max          19.000000\n",
       "Name: CNT_CHILDREN, dtype: float64"
      ]
     },
     "execution_count": 137,
     "metadata": {},
     "output_type": "execute_result"
    }
   ],
   "source": [
    "data[\"CNT_CHILDREN\"].describe()"
   ]
  },
  {
   "cell_type": "code",
   "execution_count": 138,
   "id": "cb61064b",
   "metadata": {
    "scrolled": true
   },
   "outputs": [
    {
     "name": "stdout",
     "output_type": "stream",
     "text": [
      "For feature CNT_CHILDREN Lower Whisker is -1.5 and Upper Whisker is 2.5 \n",
      "\n"
     ]
    }
   ],
   "source": [
    "# Removing Outliers\n",
    "\n",
    "outliers(data,'CNT_CHILDREN')"
   ]
  },
  {
   "cell_type": "code",
   "execution_count": 139,
   "id": "2c01aab3",
   "metadata": {},
   "outputs": [
    {
     "data": {
      "text/plain": [
       "Text(17.200000000000003, 0.5, 'Count')"
      ]
     },
     "execution_count": 139,
     "metadata": {},
     "output_type": "execute_result"
    },
    {
     "data": {
      "image/png": "[encoded data removed]",
      "text/plain": [
       "<Figure size 432x288 with 1 Axes>"
      ]
     },
     "metadata": {},
     "output_type": "display_data"
    }
   ],
   "source": [
    "# Making Box plot to check presence of outliers\n",
    "\n",
    "sns.set(style=\"darkgrid\")\n",
    "sns.boxplot(data = data, y=\"CNT_CHILDREN\", color='blue')\n",
    "ax.set_title('Boxplot of CNT_CHILDREN')\n",
    "ax.set_xlabel('CNT_CHILDREN')\n",
    "ax.set_ylabel('Count')"
   ]
  },
  {
   "cell_type": "markdown",
   "id": "0d948c80",
   "metadata": {},
   "source": [
    "### 4.4.2 AMT_INCOME_TOTAL"
   ]
  },
  {
   "cell_type": "code",
   "execution_count": 140,
   "id": "b61527af",
   "metadata": {
    "scrolled": false
   },
   "outputs": [
    {
     "data": {
      "text/plain": [
       "Text(17.200000000000003, 0.5, 'Count')"
      ]
     },
     "execution_count": 140,
     "metadata": {},
     "output_type": "execute_result"
    },
    {
     "data": {
      "image/png": "[encoded data removed]",
      "text/plain": [
       "<Figure size 432x288 with 1 Axes>"
      ]
     },
     "metadata": {},
     "output_type": "display_data"
    }
   ],
   "source": [
    "# Making Box plot to check presence of outliers\n",
    "\n",
    "sns.set(style=\"darkgrid\")\n",
    "sns.boxplot(data = data, y=\"AMT_INCOME_TOTAL\", color='red')\n",
    "ax.set_title('Boxplot of AMT_INCOME_TOTAL')\n",
    "ax.set_xlabel('AMT_INCOME_TOTAL')\n",
    "ax.set_ylabel('Count')"
   ]
  },
  {
   "cell_type": "code",
   "execution_count": 141,
   "id": "eb0dd884",
   "metadata": {
    "scrolled": true
   },
   "outputs": [
    {
     "data": {
      "text/plain": [
       "count    7.777150e+05\n",
       "mean     1.885348e+05\n",
       "std      1.016225e+05\n",
       "min      2.700000e+04\n",
       "25%      1.215000e+05\n",
       "50%      1.620000e+05\n",
       "75%      2.250000e+05\n",
       "max      1.575000e+06\n",
       "Name: AMT_INCOME_TOTAL, dtype: float64"
      ]
     },
     "execution_count": 141,
     "metadata": {},
     "output_type": "execute_result"
    }
   ],
   "source": [
    "data[\"AMT_INCOME_TOTAL\"].describe()"
   ]
  },
  {
   "cell_type": "code",
   "execution_count": 142,
   "id": "e1b55154",
   "metadata": {
    "scrolled": true
   },
   "outputs": [
    {
     "name": "stdout",
     "output_type": "stream",
     "text": [
      "For feature AMT_INCOME_TOTAL Lower Whisker is -33750.0 and Upper Whisker is 380250.0 \n",
      "\n"
     ]
    }
   ],
   "source": [
    "# Removing Outliers\n",
    "\n",
    "outliers(data,\"AMT_INCOME_TOTAL\")"
   ]
  },
  {
   "cell_type": "code",
   "execution_count": 143,
   "id": "3e221bf2",
   "metadata": {},
   "outputs": [
    {
     "data": {
      "text/plain": [
       "Text(17.200000000000003, 0.5, 'Count')"
      ]
     },
     "execution_count": 143,
     "metadata": {},
     "output_type": "execute_result"
    },
    {
     "data": {
      "image/png": "[encoded data removed]",
      "text/plain": [
       "<Figure size 432x288 with 1 Axes>"
      ]
     },
     "metadata": {},
     "output_type": "display_data"
    }
   ],
   "source": [
    "# Making Box plot to check presence of outliers\n",
    "\n",
    "sns.set(style=\"darkgrid\")\n",
    "sns.boxplot(data = data, y=\"AMT_INCOME_TOTAL\", color='blue')\n",
    "ax.set_title('Boxplot of AMT_INCOME_TOTAL')\n",
    "ax.set_xlabel('AMT_INCOME_TOTAL')\n",
    "ax.set_ylabel('Count')"
   ]
  },
  {
   "cell_type": "markdown",
   "id": "71eb2885",
   "metadata": {},
   "source": [
    "### 4.4.3 AGE"
   ]
  },
  {
   "cell_type": "code",
   "execution_count": 144,
   "id": "578955a4",
   "metadata": {},
   "outputs": [
    {
     "data": {
      "text/plain": [
       "Text(17.200000000000003, 0.5, 'Count')"
      ]
     },
     "execution_count": 144,
     "metadata": {},
     "output_type": "execute_result"
    },
    {
     "data": {
      "image/png": "[encoded data removed]",
      "text/plain": [
       "<Figure size 432x288 with 1 Axes>"
      ]
     },
     "metadata": {},
     "output_type": "display_data"
    }
   ],
   "source": [
    "# Making Box plot to check presence of outliers\n",
    "\n",
    "sns.set(style=\"darkgrid\")\n",
    "sns.boxplot(data = data, y=\"AGE\", color='red')\n",
    "ax.set_title('Boxplot of AGE')\n",
    "ax.set_xlabel('AGE')\n",
    "ax.set_ylabel('Count')"
   ]
  },
  {
   "cell_type": "markdown",
   "id": "b9cf51a4",
   "metadata": {},
   "source": [
    "### 4.4.4 YEARS_WORKED"
   ]
  },
  {
   "cell_type": "code",
   "execution_count": 145,
   "id": "1d6b4b65",
   "metadata": {},
   "outputs": [
    {
     "data": {
      "text/plain": [
       "Text(17.200000000000003, 0.5, 'Count')"
      ]
     },
     "execution_count": 145,
     "metadata": {},
     "output_type": "execute_result"
    },
    {
     "data": {
      "image/png": "[encoded data removed]",
      "text/plain": [
       "<Figure size 432x288 with 1 Axes>"
      ]
     },
     "metadata": {},
     "output_type": "display_data"
    }
   ],
   "source": [
    "# Making Box plot to check presence of outliers\n",
    "\n",
    "sns.set(style=\"darkgrid\")\n",
    "sns.boxplot(data = data, y=\"YEARS_WORKED\", color='red')\n",
    "ax.set_title('Boxplot of YEARS_WORKED')\n",
    "ax.set_xlabel('YEARS_WORKED')\n",
    "ax.set_ylabel('Count')"
   ]
  },
  {
   "cell_type": "code",
   "execution_count": 146,
   "id": "202501bb",
   "metadata": {},
   "outputs": [],
   "source": [
    "# Since the outliers are very far away, these cannot be removed by mean.\n",
    "# So we will treat these outliers by Quantile values of the data"
   ]
  },
  {
   "cell_type": "code",
   "execution_count": 147,
   "id": "6abae9ac",
   "metadata": {},
   "outputs": [],
   "source": [
    "def outliers2(df1,col):\n",
    "        IQR=df1[col].quantile(0.75)-df1[col].quantile(0.25)\n",
    "        LW=df1[col].quantile(0.25)-(IQR*1.5)\n",
    "        UW=df1[col].quantile(0.75)+(IQR*1.5)\n",
    "        print(\"For feature {} Lower Whisker is {} and Upper Whisker is {} \\n\".format(col,LW,UW))\n",
    "        df1[col]=np.where(df1[col]<LW,df1[col].quantile(0.25),df1[col])\n",
    "        df1[col]=np.where(df1[col]>UW,df1[col].quantile(0.75),df1[col])"
   ]
  },
  {
   "cell_type": "code",
   "execution_count": 148,
   "id": "e4257641",
   "metadata": {},
   "outputs": [
    {
     "name": "stdout",
     "output_type": "stream",
     "text": [
      "For feature YEARS_WORKED Lower Whisker is -8.5 and Upper Whisker is 19.5 \n",
      "\n"
     ]
    }
   ],
   "source": [
    "# Removing outliers\n",
    "\n",
    "outliers2(data, \"YEARS_WORKED\")"
   ]
  },
  {
   "cell_type": "code",
   "execution_count": 149,
   "id": "661983f5",
   "metadata": {},
   "outputs": [
    {
     "data": {
      "text/plain": [
       "Text(17.200000000000003, 0.5, 'Count')"
      ]
     },
     "execution_count": 149,
     "metadata": {},
     "output_type": "execute_result"
    },
    {
     "data": {
      "image/png": "[encoded data removed]",
      "text/plain": [
       "<Figure size 432x288 with 1 Axes>"
      ]
     },
     "metadata": {},
     "output_type": "display_data"
    }
   ],
   "source": [
    "# Making Box plot to check presence of outliers\n",
    "\n",
    "sns.set(style=\"darkgrid\")\n",
    "sns.boxplot(data = data, y=\"YEARS_WORKED\", color='blue')\n",
    "ax.set_title('Boxplot of YEARS_WORKED')\n",
    "ax.set_xlabel('YEARS_WORKED')\n",
    "ax.set_ylabel('Count')"
   ]
  },
  {
   "cell_type": "markdown",
   "id": "40c78a5f",
   "metadata": {},
   "source": [
    "### 4.4.5 CNT_FAM_MEMBERS"
   ]
  },
  {
   "cell_type": "code",
   "execution_count": 150,
   "id": "a0fd1f65",
   "metadata": {},
   "outputs": [
    {
     "data": {
      "text/plain": [
       "Text(17.200000000000003, 0.5, 'Count')"
      ]
     },
     "execution_count": 150,
     "metadata": {},
     "output_type": "execute_result"
    },
    {
     "data": {
      "image/png": "[encoded data removed]",
      "text/plain": [
       "<Figure size 432x288 with 1 Axes>"
      ]
     },
     "metadata": {},
     "output_type": "display_data"
    }
   ],
   "source": [
    "# Making Box plot to check presence of outliers\n",
    "\n",
    "sns.set(style=\"darkgrid\")\n",
    "sns.boxplot(data = data, y=\"CNT_FAM_MEMBERS\", color='red')\n",
    "ax.set_title('Boxplot of CNT_FAM_MEMBERS')\n",
    "ax.set_xlabel('CNT_FAM_MEMBERS')\n",
    "ax.set_ylabel('Count')"
   ]
  },
  {
   "cell_type": "code",
   "execution_count": 151,
   "id": "e26d5d26",
   "metadata": {},
   "outputs": [
    {
     "name": "stdout",
     "output_type": "stream",
     "text": [
      "For feature CNT_FAM_MEMBERS Lower Whisker is 0.5 and Upper Whisker is 4.5 \n",
      "\n"
     ]
    }
   ],
   "source": [
    "# Removing outliers\n",
    "\n",
    "outliers(data, \"CNT_FAM_MEMBERS\")"
   ]
  },
  {
   "cell_type": "code",
   "execution_count": 152,
   "id": "9450a2d2",
   "metadata": {},
   "outputs": [
    {
     "data": {
      "text/plain": [
       "Text(17.200000000000003, 0.5, 'Count')"
      ]
     },
     "execution_count": 152,
     "metadata": {},
     "output_type": "execute_result"
    },
    {
     "data": {
      "image/png": "[encoded data removed]",
      "text/plain": [
       "<Figure size 432x288 with 1 Axes>"
      ]
     },
     "metadata": {},
     "output_type": "display_data"
    }
   ],
   "source": [
    "# Making Box plot to check presence of outliers\n",
    "\n",
    "sns.set(style=\"darkgrid\")\n",
    "sns.boxplot(data = data, y=\"CNT_FAM_MEMBERS\", color='blue')\n",
    "ax.set_title('Boxplot of CNT_FAM_MEMBERS')\n",
    "ax.set_xlabel('CNT_FAM_MEMBERS')\n",
    "ax.set_ylabel('Count')"
   ]
  },
  {
   "cell_type": "markdown",
   "id": "676fadc4",
   "metadata": {},
   "source": [
    "## 4.5 Correlation Analysis"
   ]
  },
  {
   "cell_type": "code",
   "execution_count": 153,
   "id": "8077fa58",
   "metadata": {},
   "outputs": [
    {
     "data": {
      "text/html": [
       "<div>\n",
       "<style scoped>\n",
       "    .dataframe tbody tr th:only-of-type {\n",
       "        vertical-align: middle;\n",
       "    }\n",
       "\n",
       "    .dataframe tbody tr th {\n",
       "        vertical-align: top;\n",
       "    }\n",
       "\n",
       "    .dataframe thead th {\n",
       "        text-align: right;\n",
       "    }\n",
       "</style>\n",
       "<table border=\"1\" class=\"dataframe\">\n",
       "  <thead>\n",
       "    <tr style=\"text-align: right;\">\n",
       "      <th></th>\n",
       "      <th>CODE_GENDER</th>\n",
       "      <th>FLAG_OWN_CAR</th>\n",
       "      <th>FLAG_OWN_REALTY</th>\n",
       "      <th>CNT_CHILDREN</th>\n",
       "      <th>AMT_INCOME_TOTAL</th>\n",
       "      <th>AGE</th>\n",
       "      <th>YEARS_WORKED</th>\n",
       "      <th>FLAG_WORK_PHONE</th>\n",
       "      <th>FLAG_PHONE</th>\n",
       "      <th>FLAG_EMAIL</th>\n",
       "      <th>CNT_FAM_MEMBERS</th>\n",
       "      <th>MONTHS_BALANCE</th>\n",
       "      <th>STATUS</th>\n",
       "      <th>Target</th>\n",
       "    </tr>\n",
       "  </thead>\n",
       "  <tbody>\n",
       "    <tr>\n",
       "      <th>CODE_GENDER</th>\n",
       "      <td>1.000000</td>\n",
       "      <td>0.368554</td>\n",
       "      <td>-0.055791</td>\n",
       "      <td>0.107142</td>\n",
       "      <td>0.226020</td>\n",
       "      <td>-0.203580</td>\n",
       "      <td>0.009755</td>\n",
       "      <td>0.059027</td>\n",
       "      <td>-0.029471</td>\n",
       "      <td>-0.011710</td>\n",
       "      <td>0.141132</td>\n",
       "      <td>0.013635</td>\n",
       "      <td>0.005773</td>\n",
       "      <td>-0.011863</td>\n",
       "    </tr>\n",
       "    <tr>\n",
       "      <th>FLAG_OWN_CAR</th>\n",
       "      <td>0.368554</td>\n",
       "      <td>1.000000</td>\n",
       "      <td>-0.017764</td>\n",
       "      <td>0.106180</td>\n",
       "      <td>0.222652</td>\n",
       "      <td>-0.161993</td>\n",
       "      <td>0.051496</td>\n",
       "      <td>0.019654</td>\n",
       "      <td>-0.014249</td>\n",
       "      <td>0.029040</td>\n",
       "      <td>0.155635</td>\n",
       "      <td>-0.003142</td>\n",
       "      <td>0.000631</td>\n",
       "      <td>-0.000930</td>\n",
       "    </tr>\n",
       "    <tr>\n",
       "      <th>FLAG_OWN_REALTY</th>\n",
       "      <td>-0.055791</td>\n",
       "      <td>-0.017764</td>\n",
       "      <td>1.000000</td>\n",
       "      <td>-0.021035</td>\n",
       "      <td>0.024014</td>\n",
       "      <td>0.130271</td>\n",
       "      <td>-0.040050</td>\n",
       "      <td>-0.210804</td>\n",
       "      <td>-0.061221</td>\n",
       "      <td>0.054065</td>\n",
       "      <td>-0.022140</td>\n",
       "      <td>-0.008977</td>\n",
       "      <td>-0.002500</td>\n",
       "      <td>0.001228</td>\n",
       "    </tr>\n",
       "    <tr>\n",
       "      <th>CNT_CHILDREN</th>\n",
       "      <td>0.107142</td>\n",
       "      <td>0.106180</td>\n",
       "      <td>-0.021035</td>\n",
       "      <td>1.000000</td>\n",
       "      <td>0.045819</td>\n",
       "      <td>-0.375970</td>\n",
       "      <td>0.087597</td>\n",
       "      <td>0.045044</td>\n",
       "      <td>-0.020226</td>\n",
       "      <td>0.021301</td>\n",
       "      <td>0.865896</td>\n",
       "      <td>0.000788</td>\n",
       "      <td>-0.001086</td>\n",
       "      <td>0.000222</td>\n",
       "    </tr>\n",
       "    <tr>\n",
       "      <th>AMT_INCOME_TOTAL</th>\n",
       "      <td>0.226020</td>\n",
       "      <td>0.222652</td>\n",
       "      <td>0.024014</td>\n",
       "      <td>0.045819</td>\n",
       "      <td>1.000000</td>\n",
       "      <td>-0.116490</td>\n",
       "      <td>0.107280</td>\n",
       "      <td>-0.034556</td>\n",
       "      <td>-0.009202</td>\n",
       "      <td>0.078386</td>\n",
       "      <td>0.031036</td>\n",
       "      <td>-0.002488</td>\n",
       "      <td>-0.005719</td>\n",
       "      <td>0.002576</td>\n",
       "    </tr>\n",
       "    <tr>\n",
       "      <th>AGE</th>\n",
       "      <td>-0.203580</td>\n",
       "      <td>-0.161993</td>\n",
       "      <td>0.130271</td>\n",
       "      <td>-0.375970</td>\n",
       "      <td>-0.116490</td>\n",
       "      <td>1.000000</td>\n",
       "      <td>-0.099273</td>\n",
       "      <td>-0.181031</td>\n",
       "      <td>0.026781</td>\n",
       "      <td>-0.101236</td>\n",
       "      <td>-0.332274</td>\n",
       "      <td>-0.035631</td>\n",
       "      <td>-0.005080</td>\n",
       "      <td>-0.005005</td>\n",
       "    </tr>\n",
       "    <tr>\n",
       "      <th>YEARS_WORKED</th>\n",
       "      <td>0.009755</td>\n",
       "      <td>0.051496</td>\n",
       "      <td>-0.040050</td>\n",
       "      <td>0.087597</td>\n",
       "      <td>0.107280</td>\n",
       "      <td>-0.099273</td>\n",
       "      <td>1.000000</td>\n",
       "      <td>0.101532</td>\n",
       "      <td>0.024207</td>\n",
       "      <td>0.002159</td>\n",
       "      <td>0.103997</td>\n",
       "      <td>-0.036142</td>\n",
       "      <td>0.010846</td>\n",
       "      <td>0.018665</td>\n",
       "    </tr>\n",
       "    <tr>\n",
       "      <th>FLAG_WORK_PHONE</th>\n",
       "      <td>0.059027</td>\n",
       "      <td>0.019654</td>\n",
       "      <td>-0.210804</td>\n",
       "      <td>0.045044</td>\n",
       "      <td>-0.034556</td>\n",
       "      <td>-0.181031</td>\n",
       "      <td>0.101532</td>\n",
       "      <td>1.000000</td>\n",
       "      <td>0.312552</td>\n",
       "      <td>-0.037991</td>\n",
       "      <td>0.062780</td>\n",
       "      <td>0.001529</td>\n",
       "      <td>0.010512</td>\n",
       "      <td>-0.007412</td>\n",
       "    </tr>\n",
       "    <tr>\n",
       "      <th>FLAG_PHONE</th>\n",
       "      <td>-0.029471</td>\n",
       "      <td>-0.014249</td>\n",
       "      <td>-0.061221</td>\n",
       "      <td>-0.020226</td>\n",
       "      <td>-0.009202</td>\n",
       "      <td>0.026781</td>\n",
       "      <td>0.024207</td>\n",
       "      <td>0.312552</td>\n",
       "      <td>1.000000</td>\n",
       "      <td>0.011901</td>\n",
       "      <td>-0.006529</td>\n",
       "      <td>-0.005120</td>\n",
       "      <td>-0.000747</td>\n",
       "      <td>-0.007213</td>\n",
       "    </tr>\n",
       "    <tr>\n",
       "      <th>FLAG_EMAIL</th>\n",
       "      <td>-0.011710</td>\n",
       "      <td>0.029040</td>\n",
       "      <td>0.054065</td>\n",
       "      <td>0.021301</td>\n",
       "      <td>0.078386</td>\n",
       "      <td>-0.101236</td>\n",
       "      <td>0.002159</td>\n",
       "      <td>-0.037991</td>\n",
       "      <td>0.011901</td>\n",
       "      <td>1.000000</td>\n",
       "      <td>0.015681</td>\n",
       "      <td>0.005288</td>\n",
       "      <td>-0.012077</td>\n",
       "      <td>0.003054</td>\n",
       "    </tr>\n",
       "    <tr>\n",
       "      <th>CNT_FAM_MEMBERS</th>\n",
       "      <td>0.141132</td>\n",
       "      <td>0.155635</td>\n",
       "      <td>-0.022140</td>\n",
       "      <td>0.865896</td>\n",
       "      <td>0.031036</td>\n",
       "      <td>-0.332274</td>\n",
       "      <td>0.103997</td>\n",
       "      <td>0.062780</td>\n",
       "      <td>-0.006529</td>\n",
       "      <td>0.015681</td>\n",
       "      <td>1.000000</td>\n",
       "      <td>-0.007164</td>\n",
       "      <td>-0.000017</td>\n",
       "      <td>0.001714</td>\n",
       "    </tr>\n",
       "    <tr>\n",
       "      <th>MONTHS_BALANCE</th>\n",
       "      <td>0.013635</td>\n",
       "      <td>-0.003142</td>\n",
       "      <td>-0.008977</td>\n",
       "      <td>0.000788</td>\n",
       "      <td>-0.002488</td>\n",
       "      <td>-0.035631</td>\n",
       "      <td>-0.036142</td>\n",
       "      <td>0.001529</td>\n",
       "      <td>-0.005120</td>\n",
       "      <td>0.005288</td>\n",
       "      <td>-0.007164</td>\n",
       "      <td>1.000000</td>\n",
       "      <td>0.140139</td>\n",
       "      <td>0.004405</td>\n",
       "    </tr>\n",
       "    <tr>\n",
       "      <th>STATUS</th>\n",
       "      <td>0.005773</td>\n",
       "      <td>0.000631</td>\n",
       "      <td>-0.002500</td>\n",
       "      <td>-0.001086</td>\n",
       "      <td>-0.005719</td>\n",
       "      <td>-0.005080</td>\n",
       "      <td>0.010846</td>\n",
       "      <td>0.010512</td>\n",
       "      <td>-0.000747</td>\n",
       "      <td>-0.012077</td>\n",
       "      <td>-0.000017</td>\n",
       "      <td>0.140139</td>\n",
       "      <td>1.000000</td>\n",
       "      <td>0.000176</td>\n",
       "    </tr>\n",
       "    <tr>\n",
       "      <th>Target</th>\n",
       "      <td>-0.011863</td>\n",
       "      <td>-0.000930</td>\n",
       "      <td>0.001228</td>\n",
       "      <td>0.000222</td>\n",
       "      <td>0.002576</td>\n",
       "      <td>-0.005005</td>\n",
       "      <td>0.018665</td>\n",
       "      <td>-0.007412</td>\n",
       "      <td>-0.007213</td>\n",
       "      <td>0.003054</td>\n",
       "      <td>0.001714</td>\n",
       "      <td>0.004405</td>\n",
       "      <td>0.000176</td>\n",
       "      <td>1.000000</td>\n",
       "    </tr>\n",
       "  </tbody>\n",
       "</table>\n",
       "</div>"
      ],
      "text/plain": [
       "                  CODE_GENDER  FLAG_OWN_CAR  FLAG_OWN_REALTY  CNT_CHILDREN  \\\n",
       "CODE_GENDER          1.000000      0.368554        -0.055791      0.107142   \n",
       "FLAG_OWN_CAR         0.368554      1.000000        -0.017764      0.106180   \n",
       "FLAG_OWN_REALTY     -0.055791     -0.017764         1.000000     -0.021035   \n",
       "CNT_CHILDREN         0.107142      0.106180        -0.021035      1.000000   \n",
       "AMT_INCOME_TOTAL     0.226020      0.222652         0.024014      0.045819   \n",
       "AGE                 -0.203580     -0.161993         0.130271     -0.375970   \n",
       "YEARS_WORKED         0.009755      0.051496        -0.040050      0.087597   \n",
       "FLAG_WORK_PHONE      0.059027      0.019654        -0.210804      0.045044   \n",
       "FLAG_PHONE          -0.029471     -0.014249        -0.061221     -0.020226   \n",
       "FLAG_EMAIL          -0.011710      0.029040         0.054065      0.021301   \n",
       "CNT_FAM_MEMBERS      0.141132      0.155635        -0.022140      0.865896   \n",
       "MONTHS_BALANCE       0.013635     -0.003142        -0.008977      0.000788   \n",
       "STATUS               0.005773      0.000631        -0.002500     -0.001086   \n",
       "Target              -0.011863     -0.000930         0.001228      0.000222   \n",
       "\n",
       "                  AMT_INCOME_TOTAL       AGE  YEARS_WORKED  FLAG_WORK_PHONE  \\\n",
       "CODE_GENDER               0.226020 -0.203580      0.009755         0.059027   \n",
       "FLAG_OWN_CAR              0.222652 -0.161993      0.051496         0.019654   \n",
       "FLAG_OWN_REALTY           0.024014  0.130271     -0.040050        -0.210804   \n",
       "CNT_CHILDREN              0.045819 -0.375970      0.087597         0.045044   \n",
       "AMT_INCOME_TOTAL          1.000000 -0.116490      0.107280        -0.034556   \n",
       "AGE                      -0.116490  1.000000     -0.099273        -0.181031   \n",
       "YEARS_WORKED              0.107280 -0.099273      1.000000         0.101532   \n",
       "FLAG_WORK_PHONE          -0.034556 -0.181031      0.101532         1.000000   \n",
       "FLAG_PHONE               -0.009202  0.026781      0.024207         0.312552   \n",
       "FLAG_EMAIL                0.078386 -0.101236      0.002159        -0.037991   \n",
       "CNT_FAM_MEMBERS           0.031036 -0.332274      0.103997         0.062780   \n",
       "MONTHS_BALANCE           -0.002488 -0.035631     -0.036142         0.001529   \n",
       "STATUS                   -0.005719 -0.005080      0.010846         0.010512   \n",
       "Target                    0.002576 -0.005005      0.018665        -0.007412   \n",
       "\n",
       "                  FLAG_PHONE  FLAG_EMAIL  CNT_FAM_MEMBERS  MONTHS_BALANCE  \\\n",
       "CODE_GENDER        -0.029471   -0.011710         0.141132        0.013635   \n",
       "FLAG_OWN_CAR       -0.014249    0.029040         0.155635       -0.003142   \n",
       "FLAG_OWN_REALTY    -0.061221    0.054065        -0.022140       -0.008977   \n",
       "CNT_CHILDREN       -0.020226    0.021301         0.865896        0.000788   \n",
       "AMT_INCOME_TOTAL   -0.009202    0.078386         0.031036       -0.002488   \n",
       "AGE                 0.026781   -0.101236        -0.332274       -0.035631   \n",
       "YEARS_WORKED        0.024207    0.002159         0.103997       -0.036142   \n",
       "FLAG_WORK_PHONE     0.312552   -0.037991         0.062780        0.001529   \n",
       "FLAG_PHONE          1.000000    0.011901        -0.006529       -0.005120   \n",
       "FLAG_EMAIL          0.011901    1.000000         0.015681        0.005288   \n",
       "CNT_FAM_MEMBERS    -0.006529    0.015681         1.000000       -0.007164   \n",
       "MONTHS_BALANCE     -0.005120    0.005288        -0.007164        1.000000   \n",
       "STATUS             -0.000747   -0.012077        -0.000017        0.140139   \n",
       "Target             -0.007213    0.003054         0.001714        0.004405   \n",
       "\n",
       "                    STATUS    Target  \n",
       "CODE_GENDER       0.005773 -0.011863  \n",
       "FLAG_OWN_CAR      0.000631 -0.000930  \n",
       "FLAG_OWN_REALTY  -0.002500  0.001228  \n",
       "CNT_CHILDREN     -0.001086  0.000222  \n",
       "AMT_INCOME_TOTAL -0.005719  0.002576  \n",
       "AGE              -0.005080 -0.005005  \n",
       "YEARS_WORKED      0.010846  0.018665  \n",
       "FLAG_WORK_PHONE   0.010512 -0.007412  \n",
       "FLAG_PHONE       -0.000747 -0.007213  \n",
       "FLAG_EMAIL       -0.012077  0.003054  \n",
       "CNT_FAM_MEMBERS  -0.000017  0.001714  \n",
       "MONTHS_BALANCE    0.140139  0.004405  \n",
       "STATUS            1.000000  0.000176  \n",
       "Target            0.000176  1.000000  "
      ]
     },
     "execution_count": 153,
     "metadata": {},
     "output_type": "execute_result"
    }
   ],
   "source": [
    "data.corr()"
   ]
  },
  {
   "cell_type": "code",
   "execution_count": 154,
   "id": "a4f20da0",
   "metadata": {},
   "outputs": [
    {
     "data": {
      "text/plain": [
       "<AxesSubplot:>"
      ]
     },
     "execution_count": 154,
     "metadata": {},
     "output_type": "execute_result"
    },
    {
     "data": {
      "image/png": "[encoded data removed]",
      "text/plain": [
       "<Figure size 1080x864 with 2 Axes>"
      ]
     },
     "metadata": {},
     "output_type": "display_data"
    }
   ],
   "source": [
    "plt.figure(figsize = (15,12))\n",
    "sns.heatmap(data.corr(), annot = True, fmt = '.2f', cmap = 'BrBG', linewidths = 2)"
   ]
  },
  {
   "cell_type": "markdown",
   "id": "c0ff88e7",
   "metadata": {},
   "source": [
    "## 4.6 Feature Separating"
   ]
  },
  {
   "cell_type": "code",
   "execution_count": 155,
   "id": "fdfbeb40",
   "metadata": {},
   "outputs": [],
   "source": [
    "# Distributing data into 2 groups X and Y\n",
    "# X contains all the Features\n",
    "# Y contains the Target Variable\n",
    "\n",
    "X = data.drop([\"Target\",\"STATUS\",\"MONTHS_BALANCE\"], axis=1)\n",
    "y = data[\"Target\"]"
   ]
  },
  {
   "cell_type": "markdown",
   "id": "d7340be3",
   "metadata": {},
   "source": [
    "## 4.7 Feature Separating"
   ]
  },
  {
   "cell_type": "code",
   "execution_count": 156,
   "id": "d1f04422",
   "metadata": {},
   "outputs": [],
   "source": [
    "# Splitting Data into train and test\n",
    "\n",
    "X_train, X_test, y_train, y_test = train_test_split(X, y, test_size = 0.2, random_state = 0)"
   ]
  },
  {
   "cell_type": "code",
   "execution_count": 157,
   "id": "3791613f",
   "metadata": {},
   "outputs": [
    {
     "data": {
      "text/plain": [
       "((622172, 16), (155543, 16))"
      ]
     },
     "execution_count": 157,
     "metadata": {},
     "output_type": "execute_result"
    }
   ],
   "source": [
    "X_train.shape, X_test.shape"
   ]
  },
  {
   "cell_type": "markdown",
   "id": "2b1a113d",
   "metadata": {},
   "source": [
    "## 4.8 Creating Dummies"
   ]
  },
  {
   "cell_type": "code",
   "execution_count": 158,
   "id": "5d0a62f9",
   "metadata": {},
   "outputs": [
    {
     "name": "stdout",
     "output_type": "stream",
     "text": [
      "There are 5 categorical variables in Train Data \n",
      "\n",
      "Categorical Variables are : ['NAME_INCOME_TYPE', 'NAME_EDUCATION_TYPE', 'NAME_FAMILY_STATUS', 'NAME_HOUSING_TYPE', 'OCCUPATION_TYPE']\n"
     ]
    }
   ],
   "source": [
    "categorical = [var for var in X_train.columns if X_train[var].dtype == 'O']\n",
    "print('There are {} categorical variables in Train Data \\n'.format(len(categorical)))\n",
    "print('Categorical Variables are :', categorical)"
   ]
  },
  {
   "cell_type": "code",
   "execution_count": 159,
   "id": "1f9e06fd",
   "metadata": {},
   "outputs": [
    {
     "name": "stdout",
     "output_type": "stream",
     "text": [
      "There are 11 categorical variables in Train Data \n",
      "\n",
      "Categorical Variables are : ['CODE_GENDER', 'FLAG_OWN_CAR', 'FLAG_OWN_REALTY', 'CNT_CHILDREN', 'AMT_INCOME_TOTAL', 'AGE', 'YEARS_WORKED', 'FLAG_WORK_PHONE', 'FLAG_PHONE', 'FLAG_EMAIL', 'CNT_FAM_MEMBERS']\n"
     ]
    }
   ],
   "source": [
    "numerical = [var for var in X_train.columns if X_train[var].dtype != 'O']\n",
    "print('There are {} categorical variables in Train Data \\n'.format(len(numerical)))\n",
    "print('Categorical Variables are :', numerical)"
   ]
  },
  {
   "cell_type": "code",
   "execution_count": 160,
   "id": "8211a16f",
   "metadata": {},
   "outputs": [],
   "source": [
    "X_train = pd.concat([X_train[numerical],\n",
    "                     pd.get_dummies(X_train.NAME_INCOME_TYPE), \n",
    "                     pd.get_dummies(X_train.NAME_EDUCATION_TYPE),\n",
    "                     pd.get_dummies(X_train.NAME_FAMILY_STATUS),\n",
    "                     pd.get_dummies(X_train.NAME_HOUSING_TYPE),\n",
    "                     pd.get_dummies(X_train.OCCUPATION_TYPE)], axis=1)"
   ]
  },
  {
   "cell_type": "code",
   "execution_count": 161,
   "id": "0f908778",
   "metadata": {},
   "outputs": [
    {
     "data": {
      "text/html": [
       "<div>\n",
       "<style scoped>\n",
       "    .dataframe tbody tr th:only-of-type {\n",
       "        vertical-align: middle;\n",
       "    }\n",
       "\n",
       "    .dataframe tbody tr th {\n",
       "        vertical-align: top;\n",
       "    }\n",
       "\n",
       "    .dataframe thead th {\n",
       "        text-align: right;\n",
       "    }\n",
       "</style>\n",
       "<table border=\"1\" class=\"dataframe\">\n",
       "  <thead>\n",
       "    <tr style=\"text-align: right;\">\n",
       "      <th></th>\n",
       "      <th>CODE_GENDER</th>\n",
       "      <th>FLAG_OWN_CAR</th>\n",
       "      <th>FLAG_OWN_REALTY</th>\n",
       "      <th>CNT_CHILDREN</th>\n",
       "      <th>AMT_INCOME_TOTAL</th>\n",
       "      <th>AGE</th>\n",
       "      <th>YEARS_WORKED</th>\n",
       "      <th>FLAG_WORK_PHONE</th>\n",
       "      <th>FLAG_PHONE</th>\n",
       "      <th>FLAG_EMAIL</th>\n",
       "      <th>...</th>\n",
       "      <th>Laborers</th>\n",
       "      <th>Low-skill Laborers</th>\n",
       "      <th>Managers</th>\n",
       "      <th>Medicine staff</th>\n",
       "      <th>Private service staff</th>\n",
       "      <th>Realty agents</th>\n",
       "      <th>Sales staff</th>\n",
       "      <th>Secretaries</th>\n",
       "      <th>Security staff</th>\n",
       "      <th>Waiters/barmen staff</th>\n",
       "    </tr>\n",
       "  </thead>\n",
       "  <tbody>\n",
       "    <tr>\n",
       "      <th>693166</th>\n",
       "      <td>0</td>\n",
       "      <td>0</td>\n",
       "      <td>0</td>\n",
       "      <td>0.0</td>\n",
       "      <td>157500.0</td>\n",
       "      <td>48</td>\n",
       "      <td>9.0</td>\n",
       "      <td>0</td>\n",
       "      <td>0</td>\n",
       "      <td>0</td>\n",
       "      <td>...</td>\n",
       "      <td>0</td>\n",
       "      <td>0</td>\n",
       "      <td>0</td>\n",
       "      <td>1</td>\n",
       "      <td>0</td>\n",
       "      <td>0</td>\n",
       "      <td>0</td>\n",
       "      <td>0</td>\n",
       "      <td>0</td>\n",
       "      <td>0</td>\n",
       "    </tr>\n",
       "    <tr>\n",
       "      <th>474525</th>\n",
       "      <td>1</td>\n",
       "      <td>1</td>\n",
       "      <td>1</td>\n",
       "      <td>2.0</td>\n",
       "      <td>247500.0</td>\n",
       "      <td>48</td>\n",
       "      <td>2.0</td>\n",
       "      <td>0</td>\n",
       "      <td>0</td>\n",
       "      <td>0</td>\n",
       "      <td>...</td>\n",
       "      <td>1</td>\n",
       "      <td>0</td>\n",
       "      <td>0</td>\n",
       "      <td>0</td>\n",
       "      <td>0</td>\n",
       "      <td>0</td>\n",
       "      <td>0</td>\n",
       "      <td>0</td>\n",
       "      <td>0</td>\n",
       "      <td>0</td>\n",
       "    </tr>\n",
       "    <tr>\n",
       "      <th>614458</th>\n",
       "      <td>0</td>\n",
       "      <td>0</td>\n",
       "      <td>1</td>\n",
       "      <td>0.0</td>\n",
       "      <td>81000.0</td>\n",
       "      <td>54</td>\n",
       "      <td>9.0</td>\n",
       "      <td>1</td>\n",
       "      <td>1</td>\n",
       "      <td>0</td>\n",
       "      <td>...</td>\n",
       "      <td>0</td>\n",
       "      <td>0</td>\n",
       "      <td>1</td>\n",
       "      <td>0</td>\n",
       "      <td>0</td>\n",
       "      <td>0</td>\n",
       "      <td>0</td>\n",
       "      <td>0</td>\n",
       "      <td>0</td>\n",
       "      <td>0</td>\n",
       "    </tr>\n",
       "    <tr>\n",
       "      <th>261954</th>\n",
       "      <td>0</td>\n",
       "      <td>0</td>\n",
       "      <td>1</td>\n",
       "      <td>0.0</td>\n",
       "      <td>45000.0</td>\n",
       "      <td>43</td>\n",
       "      <td>4.0</td>\n",
       "      <td>1</td>\n",
       "      <td>1</td>\n",
       "      <td>0</td>\n",
       "      <td>...</td>\n",
       "      <td>0</td>\n",
       "      <td>0</td>\n",
       "      <td>0</td>\n",
       "      <td>0</td>\n",
       "      <td>0</td>\n",
       "      <td>0</td>\n",
       "      <td>1</td>\n",
       "      <td>0</td>\n",
       "      <td>0</td>\n",
       "      <td>0</td>\n",
       "    </tr>\n",
       "    <tr>\n",
       "      <th>151635</th>\n",
       "      <td>0</td>\n",
       "      <td>1</td>\n",
       "      <td>1</td>\n",
       "      <td>0.0</td>\n",
       "      <td>112500.0</td>\n",
       "      <td>55</td>\n",
       "      <td>2.0</td>\n",
       "      <td>0</td>\n",
       "      <td>1</td>\n",
       "      <td>0</td>\n",
       "      <td>...</td>\n",
       "      <td>0</td>\n",
       "      <td>0</td>\n",
       "      <td>0</td>\n",
       "      <td>0</td>\n",
       "      <td>0</td>\n",
       "      <td>0</td>\n",
       "      <td>0</td>\n",
       "      <td>0</td>\n",
       "      <td>0</td>\n",
       "      <td>0</td>\n",
       "    </tr>\n",
       "  </tbody>\n",
       "</table>\n",
       "<p>5 rows × 50 columns</p>\n",
       "</div>"
      ],
      "text/plain": [
       "        CODE_GENDER  FLAG_OWN_CAR  FLAG_OWN_REALTY  CNT_CHILDREN  \\\n",
       "693166            0             0                0           0.0   \n",
       "474525            1             1                1           2.0   \n",
       "614458            0             0                1           0.0   \n",
       "261954            0             0                1           0.0   \n",
       "151635            0             1                1           0.0   \n",
       "\n",
       "        AMT_INCOME_TOTAL  AGE  YEARS_WORKED  FLAG_WORK_PHONE  FLAG_PHONE  \\\n",
       "693166          157500.0   48           9.0                0           0   \n",
       "474525          247500.0   48           2.0                0           0   \n",
       "614458           81000.0   54           9.0                1           1   \n",
       "261954           45000.0   43           4.0                1           1   \n",
       "151635          112500.0   55           2.0                0           1   \n",
       "\n",
       "        FLAG_EMAIL  ...  Laborers  Low-skill Laborers  Managers  \\\n",
       "693166           0  ...         0                   0         0   \n",
       "474525           0  ...         1                   0         0   \n",
       "614458           0  ...         0                   0         1   \n",
       "261954           0  ...         0                   0         0   \n",
       "151635           0  ...         0                   0         0   \n",
       "\n",
       "        Medicine staff  Private service staff  Realty agents  Sales staff  \\\n",
       "693166               1                      0              0            0   \n",
       "474525               0                      0              0            0   \n",
       "614458               0                      0              0            0   \n",
       "261954               0                      0              0            1   \n",
       "151635               0                      0              0            0   \n",
       "\n",
       "        Secretaries  Security staff  Waiters/barmen staff  \n",
       "693166            0               0                     0  \n",
       "474525            0               0                     0  \n",
       "614458            0               0                     0  \n",
       "261954            0               0                     0  \n",
       "151635            0               0                     0  \n",
       "\n",
       "[5 rows x 50 columns]"
      ]
     },
     "execution_count": 161,
     "metadata": {},
     "output_type": "execute_result"
    }
   ],
   "source": [
    "X_train.head()"
   ]
  },
  {
   "cell_type": "code",
   "execution_count": 162,
   "id": "9541ff9e",
   "metadata": {},
   "outputs": [],
   "source": [
    "X_test = pd.concat([X_test[numerical],\n",
    "                     pd.get_dummies(X_test.NAME_INCOME_TYPE), \n",
    "                     pd.get_dummies(X_test.NAME_EDUCATION_TYPE),\n",
    "                     pd.get_dummies(X_test.NAME_FAMILY_STATUS),\n",
    "                     pd.get_dummies(X_test.NAME_HOUSING_TYPE),\n",
    "                     pd.get_dummies(X_test.OCCUPATION_TYPE)], axis=1)"
   ]
  },
  {
   "cell_type": "code",
   "execution_count": 163,
   "id": "7de3a1b7",
   "metadata": {},
   "outputs": [
    {
     "data": {
      "text/html": [
       "<div>\n",
       "<style scoped>\n",
       "    .dataframe tbody tr th:only-of-type {\n",
       "        vertical-align: middle;\n",
       "    }\n",
       "\n",
       "    .dataframe tbody tr th {\n",
       "        vertical-align: top;\n",
       "    }\n",
       "\n",
       "    .dataframe thead th {\n",
       "        text-align: right;\n",
       "    }\n",
       "</style>\n",
       "<table border=\"1\" class=\"dataframe\">\n",
       "  <thead>\n",
       "    <tr style=\"text-align: right;\">\n",
       "      <th></th>\n",
       "      <th>CODE_GENDER</th>\n",
       "      <th>FLAG_OWN_CAR</th>\n",
       "      <th>FLAG_OWN_REALTY</th>\n",
       "      <th>CNT_CHILDREN</th>\n",
       "      <th>AMT_INCOME_TOTAL</th>\n",
       "      <th>AGE</th>\n",
       "      <th>YEARS_WORKED</th>\n",
       "      <th>FLAG_WORK_PHONE</th>\n",
       "      <th>FLAG_PHONE</th>\n",
       "      <th>FLAG_EMAIL</th>\n",
       "      <th>...</th>\n",
       "      <th>Laborers</th>\n",
       "      <th>Low-skill Laborers</th>\n",
       "      <th>Managers</th>\n",
       "      <th>Medicine staff</th>\n",
       "      <th>Private service staff</th>\n",
       "      <th>Realty agents</th>\n",
       "      <th>Sales staff</th>\n",
       "      <th>Secretaries</th>\n",
       "      <th>Security staff</th>\n",
       "      <th>Waiters/barmen staff</th>\n",
       "    </tr>\n",
       "  </thead>\n",
       "  <tbody>\n",
       "    <tr>\n",
       "      <th>719660</th>\n",
       "      <td>1</td>\n",
       "      <td>1</td>\n",
       "      <td>0</td>\n",
       "      <td>2.0</td>\n",
       "      <td>360000.0</td>\n",
       "      <td>44</td>\n",
       "      <td>7.0</td>\n",
       "      <td>1</td>\n",
       "      <td>0</td>\n",
       "      <td>0</td>\n",
       "      <td>...</td>\n",
       "      <td>0</td>\n",
       "      <td>0</td>\n",
       "      <td>0</td>\n",
       "      <td>0</td>\n",
       "      <td>0</td>\n",
       "      <td>0</td>\n",
       "      <td>0</td>\n",
       "      <td>0</td>\n",
       "      <td>0</td>\n",
       "      <td>0</td>\n",
       "    </tr>\n",
       "    <tr>\n",
       "      <th>697010</th>\n",
       "      <td>0</td>\n",
       "      <td>0</td>\n",
       "      <td>0</td>\n",
       "      <td>0.0</td>\n",
       "      <td>99000.0</td>\n",
       "      <td>60</td>\n",
       "      <td>2.0</td>\n",
       "      <td>0</td>\n",
       "      <td>0</td>\n",
       "      <td>0</td>\n",
       "      <td>...</td>\n",
       "      <td>1</td>\n",
       "      <td>0</td>\n",
       "      <td>0</td>\n",
       "      <td>0</td>\n",
       "      <td>0</td>\n",
       "      <td>0</td>\n",
       "      <td>0</td>\n",
       "      <td>0</td>\n",
       "      <td>0</td>\n",
       "      <td>0</td>\n",
       "    </tr>\n",
       "    <tr>\n",
       "      <th>441561</th>\n",
       "      <td>1</td>\n",
       "      <td>1</td>\n",
       "      <td>1</td>\n",
       "      <td>0.0</td>\n",
       "      <td>270000.0</td>\n",
       "      <td>59</td>\n",
       "      <td>5.0</td>\n",
       "      <td>0</td>\n",
       "      <td>0</td>\n",
       "      <td>0</td>\n",
       "      <td>...</td>\n",
       "      <td>0</td>\n",
       "      <td>0</td>\n",
       "      <td>1</td>\n",
       "      <td>0</td>\n",
       "      <td>0</td>\n",
       "      <td>0</td>\n",
       "      <td>0</td>\n",
       "      <td>0</td>\n",
       "      <td>0</td>\n",
       "      <td>0</td>\n",
       "    </tr>\n",
       "    <tr>\n",
       "      <th>131612</th>\n",
       "      <td>0</td>\n",
       "      <td>0</td>\n",
       "      <td>1</td>\n",
       "      <td>0.0</td>\n",
       "      <td>202500.0</td>\n",
       "      <td>65</td>\n",
       "      <td>2.0</td>\n",
       "      <td>0</td>\n",
       "      <td>1</td>\n",
       "      <td>0</td>\n",
       "      <td>...</td>\n",
       "      <td>1</td>\n",
       "      <td>0</td>\n",
       "      <td>0</td>\n",
       "      <td>0</td>\n",
       "      <td>0</td>\n",
       "      <td>0</td>\n",
       "      <td>0</td>\n",
       "      <td>0</td>\n",
       "      <td>0</td>\n",
       "      <td>0</td>\n",
       "    </tr>\n",
       "    <tr>\n",
       "      <th>582915</th>\n",
       "      <td>0</td>\n",
       "      <td>0</td>\n",
       "      <td>0</td>\n",
       "      <td>0.0</td>\n",
       "      <td>135000.0</td>\n",
       "      <td>42</td>\n",
       "      <td>3.0</td>\n",
       "      <td>0</td>\n",
       "      <td>0</td>\n",
       "      <td>0</td>\n",
       "      <td>...</td>\n",
       "      <td>0</td>\n",
       "      <td>0</td>\n",
       "      <td>0</td>\n",
       "      <td>0</td>\n",
       "      <td>0</td>\n",
       "      <td>0</td>\n",
       "      <td>1</td>\n",
       "      <td>0</td>\n",
       "      <td>0</td>\n",
       "      <td>0</td>\n",
       "    </tr>\n",
       "  </tbody>\n",
       "</table>\n",
       "<p>5 rows × 50 columns</p>\n",
       "</div>"
      ],
      "text/plain": [
       "        CODE_GENDER  FLAG_OWN_CAR  FLAG_OWN_REALTY  CNT_CHILDREN  \\\n",
       "719660            1             1                0           2.0   \n",
       "697010            0             0                0           0.0   \n",
       "441561            1             1                1           0.0   \n",
       "131612            0             0                1           0.0   \n",
       "582915            0             0                0           0.0   \n",
       "\n",
       "        AMT_INCOME_TOTAL  AGE  YEARS_WORKED  FLAG_WORK_PHONE  FLAG_PHONE  \\\n",
       "719660          360000.0   44           7.0                1           0   \n",
       "697010           99000.0   60           2.0                0           0   \n",
       "441561          270000.0   59           5.0                0           0   \n",
       "131612          202500.0   65           2.0                0           1   \n",
       "582915          135000.0   42           3.0                0           0   \n",
       "\n",
       "        FLAG_EMAIL  ...  Laborers  Low-skill Laborers  Managers  \\\n",
       "719660           0  ...         0                   0         0   \n",
       "697010           0  ...         1                   0         0   \n",
       "441561           0  ...         0                   0         1   \n",
       "131612           0  ...         1                   0         0   \n",
       "582915           0  ...         0                   0         0   \n",
       "\n",
       "        Medicine staff  Private service staff  Realty agents  Sales staff  \\\n",
       "719660               0                      0              0            0   \n",
       "697010               0                      0              0            0   \n",
       "441561               0                      0              0            0   \n",
       "131612               0                      0              0            0   \n",
       "582915               0                      0              0            1   \n",
       "\n",
       "        Secretaries  Security staff  Waiters/barmen staff  \n",
       "719660            0               0                     0  \n",
       "697010            0               0                     0  \n",
       "441561            0               0                     0  \n",
       "131612            0               0                     0  \n",
       "582915            0               0                     0  \n",
       "\n",
       "[5 rows x 50 columns]"
      ]
     },
     "execution_count": 163,
     "metadata": {},
     "output_type": "execute_result"
    }
   ],
   "source": [
    "X_test.head()"
   ]
  },
  {
   "cell_type": "markdown",
   "id": "2140047f",
   "metadata": {},
   "source": [
    "## 4.9 Data Normalization"
   ]
  },
  {
   "cell_type": "code",
   "execution_count": 164,
   "id": "fd97668c",
   "metadata": {},
   "outputs": [],
   "source": [
    "scaler = MinMaxScaler()\n",
    "\n",
    "X_train = scaler.fit_transform(X_train)\n",
    "\n",
    "X_test = scaler.transform(X_test)"
   ]
  },
  {
   "cell_type": "markdown",
   "id": "abb1c540",
   "metadata": {},
   "source": [
    "# 5 Models"
   ]
  },
  {
   "cell_type": "markdown",
   "id": "a5dc1f3d",
   "metadata": {},
   "source": [
    "## 5.1 Logistic Regression"
   ]
  },
  {
   "cell_type": "code",
   "execution_count": 165,
   "id": "94975e8a",
   "metadata": {},
   "outputs": [
    {
     "name": "stdout",
     "output_type": "stream",
     "text": [
      "LR accuracy: 99.65%\n"
     ]
    }
   ],
   "source": [
    "LRclassifier = LogisticRegression(solver='saga', max_iter=500, random_state=1)\n",
    "LRclassifier.fit(X_train, y_train)\n",
    "\n",
    "y_pred = LRclassifier.predict(X_test)\n",
    "\n",
    "LRAcc = accuracy_score(y_pred,y_test)\n",
    "print('LR accuracy: {:.2f}%'.format(LRAcc*100))"
   ]
  },
  {
   "cell_type": "markdown",
   "id": "26e8c7b0",
   "metadata": {},
   "source": [
    "## 5.2 Decision Tree"
   ]
  },
  {
   "cell_type": "code",
   "execution_count": 166,
   "id": "a294ae77",
   "metadata": {},
   "outputs": [
    {
     "name": "stdout",
     "output_type": "stream",
     "text": [
      "              precision    recall  f1-score   support\n",
      "\n",
      "           0       0.73      0.14      0.23       548\n",
      "           1       1.00      1.00      1.00    154995\n",
      "\n",
      "    accuracy                           1.00    155543\n",
      "   macro avg       0.86      0.57      0.62    155543\n",
      "weighted avg       1.00      1.00      1.00    155543\n",
      "\n",
      "[[    76    472]\n",
      " [    28 154967]]\n",
      "Decision Tree Accuracy: 99.68%\n"
     ]
    }
   ],
   "source": [
    "DTclassifier = DecisionTreeClassifier()\n",
    "DTclassifier.fit(X_train, y_train)\n",
    "DTAcc = DTclassifier.score(X_test, y_test)\n",
    "\n",
    "y_pred = DTclassifier.predict(X_test)    \n",
    "print(classification_report(y_test, y_pred))\n",
    "print(confusion_matrix(y_test, y_pred))    \n",
    "\n",
    "print(\"Decision Tree Accuracy: {:.2f}%\".format(DTAcc*100))"
   ]
  },
  {
   "cell_type": "code",
   "execution_count": 167,
   "id": "7b4b9d6a",
   "metadata": {},
   "outputs": [],
   "source": [
    "#scoreListDT = []\n",
    "#for i in range(2,21):\n",
    "#    DTclassifier = DecisionTreeClassifier(max_leaf_nodes=i)\n",
    "#    DTclassifier.fit(X_train, y_train)\n",
    "#    scoreListDT.append(DTclassifier.score(X_test, y_test))\n",
    "\n",
    "#y_pred = DTclassifier.predict(X_test)    \n",
    "#print(classification_report(y_test, y_pred))\n",
    "#print(confusion_matrix(y_test, y_pred))    \n",
    "    \n",
    "#DTAcc = max(scoreListDT)\n",
    "#print(\"Decision Tree Accuracy: {:.2f}%\".format(DTAcc*100))"
   ]
  },
  {
   "cell_type": "markdown",
   "id": "f2a63e39",
   "metadata": {},
   "source": [
    "## 5.3 K-Nearest Neighbour (KNN)"
   ]
  },
  {
   "cell_type": "code",
   "execution_count": 168,
   "id": "8fe3de74",
   "metadata": {},
   "outputs": [
    {
     "name": "stdout",
     "output_type": "stream",
     "text": [
      "KNN best accuracy: 99.64%\n"
     ]
    }
   ],
   "source": [
    "KNclassifier = KNeighborsClassifier()\n",
    "KNclassifier.fit(X_train, y_train)\n",
    "KNAcc = KNclassifier.score(X_test, y_test)\n",
    "\n",
    "print(\"KNN best accuracy: {:.2f}%\".format(KNAcc*100))"
   ]
  },
  {
   "cell_type": "code",
   "execution_count": 169,
   "id": "e9f98f3b",
   "metadata": {},
   "outputs": [],
   "source": [
    "#scoreListknn = []\n",
    "#for i in range(2,5):\n",
    "#    KNclassifier = KNeighborsClassifier(n_neighbors = i)\n",
    "#    KNclassifier.fit(X_train, y_train)\n",
    "#    scoreListknn.append(KNclassifier.score(X_test, y_test))\n",
    "    \n",
    "#KNAcc = max(scoreListknn)\n",
    "#print(\"KNN best accuracy: {:.2f}%\".format(KNAcc*100))"
   ]
  },
  {
   "cell_type": "markdown",
   "id": "b8829485",
   "metadata": {},
   "source": [
    "## 5.4 Random Forest"
   ]
  },
  {
   "cell_type": "code",
   "execution_count": 170,
   "id": "766a0e45",
   "metadata": {},
   "outputs": [
    {
     "name": "stdout",
     "output_type": "stream",
     "text": [
      "Random Forest Accuracy:  99.68%\n"
     ]
    }
   ],
   "source": [
    "RFclassifier = RandomForestClassifier()\n",
    "RFclassifier.fit(X_train, y_train)\n",
    "RFAcc = RFclassifier.score(X_test, y_test)\n",
    "\n",
    "print(\"Random Forest Accuracy:  {:.2f}%\".format(RFAcc*100))"
   ]
  },
  {
   "cell_type": "code",
   "execution_count": 171,
   "id": "c7c6cc25",
   "metadata": {},
   "outputs": [],
   "source": [
    "#scoreListRF = []\n",
    "#for i in range(2,21):\n",
    "#    RFclassifier = RandomForestClassifier(n_estimators = 1000, random_state = 1, max_leaf_nodes=i)\n",
    "#    RFclassifier.fit(X_train, y_train)\n",
    "#    scoreListRF.append(RFclassifier.score(X_test, y_test))\n",
    "    \n",
    "#RFAcc = max(scoreListRF)\n",
    "#print(\"Random Forest Accuracy:  {:.2f}%\".format(RFAcc*100))"
   ]
  },
  {
   "cell_type": "markdown",
   "id": "fc071804",
   "metadata": {},
   "source": [
    "## Model Comparison"
   ]
  },
  {
   "cell_type": "code",
   "execution_count": 172,
   "id": "b88bbfee",
   "metadata": {},
   "outputs": [
    {
     "data": {
      "text/html": [
       "<div>\n",
       "<style scoped>\n",
       "    .dataframe tbody tr th:only-of-type {\n",
       "        vertical-align: middle;\n",
       "    }\n",
       "\n",
       "    .dataframe tbody tr th {\n",
       "        vertical-align: top;\n",
       "    }\n",
       "\n",
       "    .dataframe thead th {\n",
       "        text-align: right;\n",
       "    }\n",
       "</style>\n",
       "<table border=\"1\" class=\"dataframe\">\n",
       "  <thead>\n",
       "    <tr style=\"text-align: right;\">\n",
       "      <th></th>\n",
       "      <th>Model</th>\n",
       "      <th>Accuracy</th>\n",
       "    </tr>\n",
       "  </thead>\n",
       "  <tbody>\n",
       "    <tr>\n",
       "      <th>3</th>\n",
       "      <td>Random Forest</td>\n",
       "      <td>99.679188</td>\n",
       "    </tr>\n",
       "    <tr>\n",
       "      <th>2</th>\n",
       "      <td>Decision Tree</td>\n",
       "      <td>99.678545</td>\n",
       "    </tr>\n",
       "    <tr>\n",
       "      <th>0</th>\n",
       "      <td>Logistic Regression</td>\n",
       "      <td>99.647686</td>\n",
       "    </tr>\n",
       "    <tr>\n",
       "      <th>1</th>\n",
       "      <td>K Neighbors</td>\n",
       "      <td>99.639328</td>\n",
       "    </tr>\n",
       "  </tbody>\n",
       "</table>\n",
       "</div>"
      ],
      "text/plain": [
       "                 Model   Accuracy\n",
       "3        Random Forest  99.679188\n",
       "2        Decision Tree  99.678545\n",
       "0  Logistic Regression  99.647686\n",
       "1          K Neighbors  99.639328"
      ]
     },
     "execution_count": 172,
     "metadata": {},
     "output_type": "execute_result"
    }
   ],
   "source": [
    "compare = pd.DataFrame({'Model': ['Logistic Regression', 'K Neighbors', 'Decision Tree', 'Random Forest'], \n",
    "                        'Accuracy': [LRAcc*100, KNAcc*100, DTAcc*100, RFAcc*100]})\n",
    "compare.sort_values(by='Accuracy', ascending=False)"
   ]
  }
 ],
 "metadata": {
  "kernelspec": {
   "display_name": "Python 3 (ipykernel)",
   "language": "python",
   "name": "python3"
  },
  "language_info": {
   "codemirror_mode": {
    "name": "ipython",
    "version": 3
   },
   "file_extension": ".py",
   "mimetype": "text/x-python",
   "name": "python",
   "nbconvert_exporter": "python",
   "pygments_lexer": "ipython3",
   "version": "3.9.12"
  }
 },
 "nbformat": 4,
 "nbformat_minor": 5
}
